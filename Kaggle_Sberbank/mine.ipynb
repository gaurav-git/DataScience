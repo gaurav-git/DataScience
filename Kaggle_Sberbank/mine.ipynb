{
 "cells": [
  {
   "cell_type": "code",
   "execution_count": 4,
   "metadata": {
    "collapsed": true
   },
   "outputs": [],
   "source": [
    "import os\n",
    "os.chdir('/home/gauravk/Documents/DataScience/Datasets/K_russian/')"
   ]
  },
  {
   "cell_type": "code",
   "execution_count": 2,
   "metadata": {
    "collapsed": true
   },
   "outputs": [],
   "source": [
    "#importing libraries\n",
    "import pandas as pd\n",
    "import sklearn\n",
    "import numpy as np\n",
    "import math\n",
    "import matplotlib.pyplot as plt\n",
    "# import seaborn as sns\n",
    "from IPython.display import clear_output #for clearing the output of the cell on each iteration of for loop showing only latest output"
   ]
  },
  {
   "cell_type": "code",
   "execution_count": 5,
   "metadata": {
    "collapsed": true
   },
   "outputs": [],
   "source": [
    "train = pd.read_csv(\"train.csv\")"
   ]
  },
  {
   "cell_type": "code",
   "execution_count": 6,
   "metadata": {},
   "outputs": [
    {
     "data": {
      "text/plain": [
       "(30471, 292)"
      ]
     },
     "execution_count": 6,
     "metadata": {},
     "output_type": "execute_result"
    }
   ],
   "source": [
    "train.shape"
   ]
  },
  {
   "cell_type": "code",
   "execution_count": 7,
   "metadata": {},
   "outputs": [
    {
     "data": {
      "text/plain": [
       "292"
      ]
     },
     "execution_count": 7,
     "metadata": {},
     "output_type": "execute_result"
    }
   ],
   "source": [
    "len(train.columns)"
   ]
  },
  {
   "cell_type": "code",
   "execution_count": 5,
   "metadata": {
    "collapsed": true
   },
   "outputs": [],
   "source": [
    "selected_columns = []\n",
    "removed_columns = []"
   ]
  },
  {
   "cell_type": "code",
   "execution_count": 7,
   "metadata": {
    "collapsed": true
   },
   "outputs": [
    {
     "name": "stdout",
     "output_type": "stream",
     "text": [
      "price_doc\n",
      "Head:\n",
      "   price_doc\n",
      "0    5850000\n",
      "1    6000000\n",
      "2    5700000\n",
      "3   13100000\n",
      "4   16331452\n",
      "Unique Values:\n",
      "2000000     757\n",
      "1000000     747\n",
      "6000000     372\n",
      "3000000     332\n",
      "6500000     330\n",
      "7000000     319\n",
      "5500000     309\n",
      "6300000     295\n",
      "5000000     294\n",
      "6200000     277\n",
      "7500000     276\n",
      "6400000     235\n",
      "6800000     231\n",
      "8500000     231\n",
      "8000000     228\n",
      "6100000     220\n",
      "5900000     208\n",
      "5800000     208\n",
      "5700000     203\n",
      "7200000     201\n",
      "5300000     197\n",
      "6900000     191\n",
      "6600000     190\n",
      "6700000     189\n",
      "9000000     186\n",
      "5200000     186\n",
      "5600000     185\n",
      "7400000     181\n",
      "5400000     172\n",
      "7300000     158\n",
      "           ... \n",
      "6066060       1\n",
      "8786200       1\n",
      "7680172       1\n",
      "4870320       1\n",
      "12470451      1\n",
      "8386741       1\n",
      "5978048       1\n",
      "10432700      1\n",
      "5644478       1\n",
      "3985600       1\n",
      "7181600       1\n",
      "7299270       1\n",
      "3798080       1\n",
      "6238400       1\n",
      "6881498       1\n",
      "5519581       1\n",
      "10100958      1\n",
      "11620576      1\n",
      "6744295       1\n",
      "6689000       1\n",
      "6303980       1\n",
      "12132590      1\n",
      "6177010       1\n",
      "3369207       1\n",
      "5804280       1\n",
      "6478081       1\n",
      "2650000       1\n",
      "4088070       1\n",
      "3445000       1\n",
      "4096000       1\n",
      "Name: price_doc, dtype: int64\n",
      "int64\n",
      "select this column price_doc : Y/N ?\n",
      "n\n"
     ]
    }
   ],
   "source": [
    "for i in train.columns:\n",
    "    clear_output()\n",
    "    print(i)\n",
    "    print(\"Head:\")\n",
    "    print(train[[i]].head())\n",
    "    print(\"Unique Values:\")\n",
    "    print(train[i].value_counts())\n",
    "    print(train[i].dtype)\n",
    "    print(\"select this column \"+i+\" : Y/N ?\")\n",
    "    a = input()\n",
    "    if(a == \"Y\" or a ==\"y\"): \n",
    "        selected_columns.append(i)\n",
    "    else: \n",
    "        removed_columns.append(i)"
   ]
  },
  {
   "cell_type": "markdown",
   "metadata": {},
   "source": [
    "## dropping some columns"
   ]
  },
  {
   "cell_type": "markdown",
   "metadata": {},
   "source": [
    "listing them as follows, check back here later: :'("
   ]
  },
  {
   "cell_type": "code",
   "execution_count": 8,
   "metadata": {
    "collapsed": true
   },
   "outputs": [],
   "source": [
    "selected_columns = ['id',\n",
    " 'timestamp',\n",
    " 'full_sq',\n",
    " 'life_sq',\n",
    " 'floor',\n",
    " 'max_floor',\n",
    " 'material',\n",
    " 'build_year',\n",
    " 'num_room',\n",
    " 'kitch_sq',\n",
    " 'state',\n",
    " 'product_type',\n",
    " 'sub_area',\n",
    " 'area_m','price_doc']"
   ]
  },
  {
   "cell_type": "code",
   "execution_count": null,
   "metadata": {
    "collapsed": true
   },
   "outputs": [],
   "source": [
    "removed_columns"
   ]
  },
  {
   "cell_type": "markdown",
   "metadata": {},
   "source": [
    "## Exploring the selected columns"
   ]
  },
  {
   "cell_type": "markdown",
   "metadata": {},
   "source": [
    "duh"
   ]
  },
  {
   "cell_type": "code",
   "execution_count": 10,
   "metadata": {
    "scrolled": true
   },
   "outputs": [
    {
     "name": "stdout",
     "output_type": "stream",
     "text": [
      "Type : id int64\n",
      "Type : timestamp object\n",
      "Type : full_sq int64\n",
      "Type : life_sq float64\n",
      "Type : floor float64\n",
      "Type : max_floor float64\n",
      "Type : material float64\n",
      "Type : build_year float64\n",
      "Type : num_room float64\n",
      "Type : kitch_sq float64\n",
      "Type : state float64\n",
      "Type : product_type object\n",
      "Type : sub_area object\n",
      "Type : area_m float64\n",
      "Type : price_doc int64\n"
     ]
    }
   ],
   "source": [
    "for i in selected_columns:\n",
    "#     clear_output()\n",
    "#     print(\"Head :\")\n",
    "#     print(train[i].head())\n",
    "    print(\"Type : \"+i,train[i].dtype)\n",
    "#     print(\"Unique values : \", train[i].value_counts())\n",
    "#     print(\"Number of unique values : \", train[i].value_counts().shape)\n",
    "#     print(\"Number of NaNs : \", train[i].isnull().sum())\n",
    "    #add this data to a list\n",
    "    #print number of unique values\n",
    "#     print(i)\n",
    "#     i = input()"
   ]
  },
  {
   "cell_type": "code",
   "execution_count": 14,
   "metadata": {
    "collapsed": true
   },
   "outputs": [],
   "source": [
    "train_selected = train[selected_columns]"
   ]
  },
  {
   "cell_type": "code",
   "execution_count": null,
   "metadata": {
    "collapsed": true
   },
   "outputs": [],
   "source": [
    "train_selected.dtypes"
   ]
  },
  {
   "cell_type": "code",
   "execution_count": 15,
   "metadata": {},
   "outputs": [
    {
     "name": "stderr",
     "output_type": "stream",
     "text": [
      "/home/gauravk/anaconda3/lib/python3.6/site-packages/ipykernel_launcher.py:6: SettingWithCopyWarning: \n",
      "A value is trying to be set on a copy of a slice from a DataFrame.\n",
      "Try using .loc[row_indexer,col_indexer] = value instead\n",
      "\n",
      "See the caveats in the documentation: http://pandas.pydata.org/pandas-docs/stable/indexing.html#indexing-view-versus-copy\n",
      "  \n"
     ]
    }
   ],
   "source": [
    "objects = ['sub_area','product_type']\n",
    "#no Nans here we can simply proceed with Label Encoding these.\n",
    "from sklearn.preprocessing import LabelEncoder\n",
    "le = LabelEncoder()\n",
    "for i in objects:\n",
    "    train_selected[i] = le.fit_transform(train_selected[i])"
   ]
  },
  {
   "cell_type": "code",
   "execution_count": 16,
   "metadata": {},
   "outputs": [
    {
     "data": {
      "text/plain": [
       "(30471, 15)"
      ]
     },
     "execution_count": 16,
     "metadata": {},
     "output_type": "execute_result"
    }
   ],
   "source": [
    "train_selected.shape"
   ]
  },
  {
   "cell_type": "code",
   "execution_count": 18,
   "metadata": {
    "collapsed": true
   },
   "outputs": [],
   "source": [
    "train_selected = train_selected.dropna()"
   ]
  },
  {
   "cell_type": "code",
   "execution_count": 19,
   "metadata": {},
   "outputs": [
    {
     "data": {
      "text/plain": [
       "(14816, 15)"
      ]
     },
     "execution_count": 19,
     "metadata": {},
     "output_type": "execute_result"
    }
   ],
   "source": [
    "train_selected.shape"
   ]
  },
  {
   "cell_type": "code",
   "execution_count": 27,
   "metadata": {
    "collapsed": true
   },
   "outputs": [],
   "source": [
    "predictors = train_selected[train_selected.columns[2:-1]]\n",
    "response = train_selected[train_selected.columns[-1]]"
   ]
  },
  {
   "cell_type": "code",
   "execution_count": 28,
   "metadata": {},
   "outputs": [
    {
     "name": "stdout",
     "output_type": "stream",
     "text": [
      "full_sq           int64\n",
      "life_sq         float64\n",
      "floor           float64\n",
      "max_floor       float64\n",
      "material        float64\n",
      "build_year      float64\n",
      "num_room        float64\n",
      "kitch_sq        float64\n",
      "state           float64\n",
      "product_type      int64\n",
      "sub_area          int64\n",
      "area_m          float64\n",
      "dtype: object\n"
     ]
    },
    {
     "data": {
      "text/plain": [
       "dtype('int64')"
      ]
     },
     "execution_count": 28,
     "metadata": {},
     "output_type": "execute_result"
    }
   ],
   "source": [
    "print(predictors.dtypes)\n",
    "response.dtypes\n"
   ]
  },
  {
   "cell_type": "code",
   "execution_count": 22,
   "metadata": {
    "collapsed": true
   },
   "outputs": [],
   "source": [
    "from sklearn.model_selection import train_test_split"
   ]
  },
  {
   "cell_type": "code",
   "execution_count": 29,
   "metadata": {
    "collapsed": true
   },
   "outputs": [],
   "source": [
    "X_train, X_test, y_train, y_test = train_test_split(\n",
    "    predictors, response, test_size=0.4, random_state=42)"
   ]
  },
  {
   "cell_type": "code",
   "execution_count": null,
   "metadata": {
    "collapsed": true
   },
   "outputs": [],
   "source": [
    "from sklearn.tree import DecisionTreeRegressor\n",
    "# from sklearn.model_selection import GridSearchCV\n",
    "#fucking shit ignore this cell\n",
    "parameters = {'max_depth':list(range(1, 100)), 'splitter':['best', 'random'], 'min_samples_split':list(range(2,20)), 'min_impurity_split':np.power(10,np.array(range(-10, 2), dtype=np.float64)) }\n",
    "dtr = DecisionTreeRegressor()\n",
    "lr = GridSearchCV(dtr, parameters)\n",
    "lr.fit(dropped_train, dropped.price_doc)\n",
    "y_pred_train = lr.predict(X_train)\n",
    "y_pred_train = y_pred_train.clip(min=0)\n",
    "y_pred = lr.predict(X_test)\n",
    "y_pred = y_pred.clip(min=0)\n",
    "from sklearn.metrics import mean_squared_error\n",
    "# print(np.log(y_pred_train+1))\n",
    "# a = y_pred>0\n",
    "# print(len(a))\n",
    "# print(a.sum())\n",
    "# print(np.all(np.isfinite(np.log(y_pred_train+1))))\n",
    "print(np.sqrt(mean_squared_error(np.log(y_pred_train+1), np.log(y_train+1))))\n",
    "print(np.sqrt(mean_squared_error(np.log(np.array(y_pred)+1), np.log(np.array(y_test)+1))))"
   ]
  },
  {
   "cell_type": "code",
   "execution_count": null,
   "metadata": {
    "collapsed": true
   },
   "outputs": [],
   "source": [
    "lr.best_score_"
   ]
  },
  {
   "cell_type": "code",
   "execution_count": null,
   "metadata": {
    "collapsed": true
   },
   "outputs": [],
   "source": [
    "lr.best_estimator_"
   ]
  },
  {
   "cell_type": "code",
   "execution_count": 31,
   "metadata": {
    "scrolled": true
   },
   "outputs": [
    {
     "data": {
      "text/plain": [
       "DecisionTreeRegressor(criterion='mse', max_depth=9, max_features=None,\n",
       "           max_leaf_nodes=None, min_impurity_split=1e-07,\n",
       "           min_samples_leaf=1, min_samples_split=2,\n",
       "           min_weight_fraction_leaf=0.0, presort=False, random_state=None,\n",
       "           splitter='best')"
      ]
     },
     "execution_count": 31,
     "metadata": {},
     "output_type": "execute_result"
    }
   ],
   "source": [
    "lr.best_estimator_ #best #random"
   ]
  },
  {
   "cell_type": "code",
   "execution_count": 35,
   "metadata": {},
   "outputs": [
    {
     "data": {
      "text/plain": [
       "DecisionTreeRegressor(criterion='mse', max_depth=7, max_features=None,\n",
       "           max_leaf_nodes=None, min_impurity_split=9.9999999999999995e-07,\n",
       "           min_samples_leaf=1, min_samples_split=3,\n",
       "           min_weight_fraction_leaf=0.0, presort=False, random_state=None,\n",
       "           splitter='best')"
      ]
     },
     "execution_count": 35,
     "metadata": {},
     "output_type": "execute_result"
    }
   ],
   "source": [
    "lr."
   ]
  },
  {
   "cell_type": "code",
   "execution_count": 34,
   "metadata": {},
   "outputs": [
    {
     "name": "stdout",
     "output_type": "stream",
     "text": [
      "0.528065615628\n",
      "0.517797812837\n"
     ]
    }
   ],
   "source": [
    "from sklearn.model_selection import RandomizedSearchCV\n",
    "parameters = {'max_depth':list(range(1, 100)), 'splitter':['best', 'random'], 'min_samples_split':list(range(2,20)), 'min_impurity_split':np.power(10,np.array(range(-10, 2), dtype=np.float64)) }\n",
    "dtr = DecisionTreeRegressor()\n",
    "lr = RandomizedSearchCV(dtr, parameters)\n",
    "lr.fit(dropped_train, dropped.price_doc)\n",
    "y_pred_train = lr.predict(X_train)\n",
    "y_pred_train = y_pred_train.clip(min=0)\n",
    "y_pred = lr.predict(X_test)\n",
    "y_pred = y_pred.clip(min=0)\n",
    "from sklearn.metrics import mean_squared_error\n",
    "# print(np.log(y_pred_train+1))\n",
    "# a = y_pred>0\n",
    "# print(len(a))\n",
    "# print(a.sum()\n",
    " # print(np.all(np.isfinite(np.log(y_pred_train+1))))\n",
    "print(np.sqrt(mean_squared_error(np.log(y_pred_train+1), np.log(y_train+1))))\n",
    "print(np.sqrt(mean_squared_error(np.log(np.array(y_pred)+1), np.log(np.array(y_test)+1))))"
   ]
  },
  {
   "cell_type": "code",
   "execution_count": null,
   "metadata": {
    "collapsed": true
   },
   "outputs": [],
   "source": [
    "from sklearn.model_selection import RandomizedSearchCV\n",
    "parameters = {'max_depth':list(range(1, 100)), 'splitter':['best', 'random'], 'min_samples_split':list(range(2,20)), 'min_impurity_split':np.power(10,np.array(range(-10, 2), dtype=np.float64)) }\n",
    "dtr = DecisionTreeRegressor()\n",
    "lr = RandomizedSearchCV(dtr, parameters)\n",
    "lr.fit(dropped_train, dropped.price_doc)\n",
    "y_pred_train = lr.predict(X_train)\n",
    "y_pred_train = y_pred_train.clip(min=0)\n",
    "y_pred = lr.predict(X_test)\n",
    "y_pred = y_pred.clip(min=0)\n",
    "from sklearn.metrics import mean_squared_error\n",
    "# print(np.log(y_pred_train+1))\n",
    "# a = y_pred>0\n",
    "# print(len(a))\n",
    "# print(a.sum()\n",
    " # print(np.all(np.isfinite(np.log(y_pred_train+1))))\n",
    "print(np.sqrt(mean_squared_error(np.log(y_pred_train+1), np.log(y_train+1))))\n",
    "print(np.sqrt(mean_squared_error(np.log(np.array(y_pred)+1), np.log(np.array(y_test)+1))))"
   ]
  },
  {
   "cell_type": "code",
   "execution_count": 37,
   "metadata": {},
   "outputs": [
    {
     "name": "stdout",
     "output_type": "stream",
     "text": [
      "0.306598840111\n",
      "0.512457524407\n"
     ]
    }
   ],
   "source": [
    "from sklearn.ensemble import RandomForestRegressor\n",
    "from sklearn.model_selection import RandomizedSearchCV\n",
    "parameters = {'max_depth':list(range(1, 100))} #, 'min_samples_split':list(range(2,20)), 'min_impurity_split':np.power(10,np.array(range(-10, 2), dtype=np.float64)) \n",
    "rfr = RandomForestRegressor(n_estimators=620)\n",
    "model = RandomizedSearchCV(rfr, parameters)\n",
    "model.fit(X_train, y_train)\n",
    "y_pred_train = model.predict(X_train)\n",
    "y_pred_train = y_pred_train.clip(min=0)\n",
    "y_pred = model.predict(X_test)\n",
    "y_pred = y_pred.clip(min=0)\n",
    "from sklearn.metrics import mean_squared_error\n",
    "print(np.sqrt(mean_squared_error(np.log(y_pred_train+1), np.log(y_train+1))))\n",
    "print(np.sqrt(mean_squared_error(np.log(np.array(y_pred)+1), np.log(np.array(y_test)+1))))"
   ]
  },
  {
   "cell_type": "code",
   "execution_count": 48,
   "metadata": {},
   "outputs": [
    {
     "name": "stdout",
     "output_type": "stream",
     "text": [
      "0.401812920569\n",
      "0.512457524407\n"
     ]
    }
   ],
   "source": [
    "y_pred_train = model1.predict(predictors)\n",
    "y_pred_train = y_pred_train.clip(min=0)\n",
    "# y_pred = model1.predict(X_test)\n",
    "# y_pred = y_pred.clip(min=0)\n",
    "from sklearn.metrics import mean_squared_error\n",
    "print(np.sqrt(mean_squared_error(np.log(y_pred_train+1), np.log(response+1))))\n",
    "# print(np.sqrt(mean_squared_error(np.log(np.array(y_pred)+1), np.log(np.array(y_test)+1))))"
   ]
  },
  {
   "cell_type": "code",
   "execution_count": 47,
   "metadata": {},
   "outputs": [
    {
     "data": {
      "text/plain": [
       "0.59461774608289009"
      ]
     },
     "execution_count": 47,
     "metadata": {},
     "output_type": "execute_result"
    }
   ],
   "source": [
    "model.best_score_"
   ]
  },
  {
   "cell_type": "code",
   "execution_count": 84,
   "metadata": {},
   "outputs": [
    {
     "name": "stdout",
     "output_type": "stream",
     "text": [
      "0.285250195875\n",
      "0.512955713682\n"
     ]
    }
   ],
   "source": [
    "model1 = RandomForestRegressor(n_estimators=620, max_depth=88)\n",
    "# model = RandomizedSearchCV(rfr, parameters)\n",
    "model1.fit(X_train, y_train)\n",
    "y_pred_train = model1.predict(X_train)\n",
    "y_pred_train = y_pred_train.clip(min=0)\n",
    "\n",
    "y_pred = model1.predict(X_test)\n",
    "y_pred = y_pred.clip(min=0)\n",
    "from sklearn.metrics import mean_squared_error\n",
    "print(np.sqrt(mean_squared_error(np.log(y_pred_train+1), np.log(y_train+1))))\n",
    "print(np.sqrt(mean_squared_error(np.log(np.array(y_pred)+1), np.log(np.array(y_test)+1))))"
   ]
  },
  {
   "cell_type": "code",
   "execution_count": 52,
   "metadata": {},
   "outputs": [
    {
     "data": {
      "text/plain": [
       "Index(['full_sq', 'life_sq', 'floor', 'max_floor', 'material', 'build_year',\n",
       "       'num_room', 'kitch_sq', 'state', 'product_type', 'sub_area', 'area_m'],\n",
       "      dtype='object')"
      ]
     },
     "execution_count": 52,
     "metadata": {},
     "output_type": "execute_result"
    }
   ],
   "source": [
    "predictors.columns"
   ]
  },
  {
   "cell_type": "code",
   "execution_count": 51,
   "metadata": {},
   "outputs": [
    {
     "data": {
      "text/plain": [
       "array([ 0.50182323,  0.04775151,  0.04590055,  0.05249487,  0.01767035,\n",
       "        0.07305794,  0.01318396,  0.03208166,  0.04574926,  0.00435638,\n",
       "        0.06556579,  0.1003645 ])"
      ]
     },
     "execution_count": 51,
     "metadata": {},
     "output_type": "execute_result"
    }
   ],
   "source": [
    "model1.feature_importances_"
   ]
  },
  {
   "cell_type": "code",
   "execution_count": 57,
   "metadata": {},
   "outputs": [
    {
     "data": {
      "text/plain": [
       "'full_sq'"
      ]
     },
     "execution_count": 57,
     "metadata": {},
     "output_type": "execute_result"
    }
   ],
   "source": [
    "predictors.columns[0]"
   ]
  },
  {
   "cell_type": "code",
   "execution_count": 82,
   "metadata": {},
   "outputs": [
    {
     "name": "stdout",
     "output_type": "stream",
     "text": [
      "Feature ranking:\n",
      "1. feature: 'full_sq' 0  (0.501823)\n",
      "2. feature: 'area_m' 11  (0.100365)\n",
      "3. feature: 'build_year' 5  (0.073058)\n",
      "4. feature: 'sub_area' 10  (0.065566)\n",
      "5. feature: 'max_floor' 3  (0.052495)\n",
      "6. feature: 'life_sq' 1  (0.047752)\n",
      "7. feature: 'floor' 2  (0.045901)\n",
      "8. feature: 'state' 8  (0.045749)\n",
      "9. feature: 'kitch_sq' 7  (0.032082)\n",
      "10. feature: 'material' 4  (0.017670)\n",
      "11. feature: 'num_room' 6  (0.013184)\n",
      "12. feature: 'product_type' 9  (0.004356)\n"
     ]
    },
    {
     "data": {
      "image/png": "[encoded data removed]",
      "text/plain": [
       "<matplotlib.figure.Figure at 0x7f6ecd382f28>"
      ]
     },
     "metadata": {},
     "output_type": "display_data"
    }
   ],
   "source": [
    "importances = model1.feature_importances_\n",
    "indices = np.argsort(importances)[::-1]\n",
    "from matplotlib.axes import Axes\n",
    "# Print the feature ranking\n",
    "print(\"Feature ranking:\")\n",
    "\n",
    "for f in range(predictors.shape[1]):\n",
    "    print(\"%d. feature: '%s' %d  (%f)\" % (f + 1, predictors.columns[indices[f]], indices[f], importances[indices[f]]))\n",
    "\n",
    "# Plot the feature importances of the forest\n",
    "axes = plt.figure().add_subplot(111)\n",
    "# plt.figure()\n",
    "plt.title(\"Feature importances\")\n",
    "plt.bar(range(predictors.shape[1]), importances[indices],\n",
    "        align=\"center\")\n",
    "plt.xticks(range(predictors.shape[1]), indices)\n",
    "# plt.xlim([-1, predictors.shape[1]])\n",
    "# axes.set_xticklabels(labels=predictors.columns[indices])\n",
    "plt.show()"
   ]
  },
  {
   "cell_type": "code",
   "execution_count": 64,
   "metadata": {},
   "outputs": [
    {
     "data": {
      "text/plain": [
       "array([ 0.50182323,  0.1003645 ,  0.07305794,  0.06556579,  0.05249487,\n",
       "        0.04775151,  0.04590055,  0.04574926,  0.03208166,  0.01767035,\n",
       "        0.01318396,  0.00435638])"
      ]
     },
     "execution_count": 64,
     "metadata": {},
     "output_type": "execute_result"
    }
   ],
   "source": [
    "importances[indices]"
   ]
  },
  {
   "cell_type": "markdown",
   "metadata": {},
   "source": [
    "# List of scores\n",
    "train score, test score\n",
    "\n",
    "1. max_depth=88\n",
    "\n",
    "    0.292800147024, \n",
    "    0.525181572505\n",
    "2. n_estimators=620.\n",
    "\n",
    "    0.285742467035\n",
    "    0.5128587099\n",
    "3. n_estimators=620 & max_depth=20 (1,50)\n",
    "\n",
    "    0.32359277972\n",
    "    0.512686141737\n",
    "4. n_estimators=620 & max_depth=20 (1,100)\n",
    "\n",
    "    0.306598840111\n",
    "    0.512457524407\n",
    "5. n_estimators=620, max_depth=20 not randomSearchCV\n",
    "\n",
    "    0.324493028948\n",
    "    0.512699991511\n",
    "6. \n"
   ]
  },
  {
   "cell_type": "code",
   "execution_count": null,
   "metadata": {
    "collapsed": true
   },
   "outputs": [],
   "source": []
  }
 ],
 "metadata": {
  "anaconda-cloud": {},
  "kernelspec": {
   "display_name": "Python 3",
   "language": "python",
   "name": "python3"
  },
  "language_info": {
   "codemirror_mode": {
    "name": "ipython",
    "version": 3
   },
   "file_extension": ".py",
   "mimetype": "text/x-python",
   "name": "python",
   "nbconvert_exporter": "python",
   "pygments_lexer": "ipython3",
   "version": "3.6.1"
  }
 },
 "nbformat": 4,
 "nbformat_minor": 1
}
