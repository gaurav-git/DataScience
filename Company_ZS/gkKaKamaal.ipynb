{
 "cells": [
  {
   "cell_type": "code",
   "execution_count": 1,
   "metadata": {
    "collapsed": true
   },
   "outputs": [],
   "source": [
    "import numpy as np\n",
    "import pandas as pd\n",
    "from sklearn.model_selection import train_test_split\n",
    "from imblearn.over_sampling import ADASYN, SMOTE\n",
    "from sklearn.metrics import accuracy_score, confusion_matrix, roc_auc_score\n",
    "pd.options.display.max_columns=500"
   ]
  },
  {
   "cell_type": "code",
   "execution_count": 2,
   "metadata": {
    "collapsed": true
   },
   "outputs": [],
   "source": [
    "data = pd.read_csv('train.csv')\n",
    "test = pd.read_csv('test.csv')"
   ]
  },
  {
   "cell_type": "code",
   "execution_count": 3,
   "metadata": {
    "collapsed": true
   },
   "outputs": [],
   "source": [
    "categorical_columns = list()\n",
    "numerical_columns = list()\n",
    "\n",
    "for i in range(len(data.columns)):\n",
    "    if type(data[data.columns[i]][1]) == np.int64:\n",
    "        categorical_columns.append(data.columns[i])\n",
    "    elif type(data[data.columns[i]][1]) == np.float64:\n",
    "        numerical_columns.append(data.columns[i])\n",
    "        \n",
    "categorical_columns.remove('Disease Flag')"
   ]
  },
  {
   "cell_type": "code",
   "execution_count": 4,
   "metadata": {
    "collapsed": true
   },
   "outputs": [],
   "source": [
    "for col in numerical_columns:\n",
    "    data[col] = (data[col] - data[col].mean())/(data[col].max() - data[col].min())\n",
    "    test[col] = (test[col] - data[col].mean())/(data[col].max() - data[col].min())"
   ]
  },
  {
   "cell_type": "code",
   "execution_count": 5,
   "metadata": {
    "collapsed": true
   },
   "outputs": [],
   "source": [
    "x_train, x_test, y_train, y_test = train_test_split(data.drop(['Resident ID', 'Disease Flag'], axis = 1), data['Disease Flag'], stratify = data['Disease Flag'], test_size = 0.2, random_state = 42)\n",
    "\n",
    "ada = ADASYN(ratio='minority', random_state=25, n_jobs=-1)\n",
    "x_train_final, y_train_final = ada.fit_sample(x_train, y_train)\n",
    "\n",
    "x_train_final = pd.DataFrame(x_train_final)\n",
    "x_test = pd.DataFrame(x_test)\n",
    "final_test = pd.DataFrame(test.drop(['Disease Flag', 'Resident ID'], axis = 1))"
   ]
  },
  {
   "cell_type": "code",
   "execution_count": 6,
   "metadata": {
    "collapsed": true
   },
   "outputs": [],
   "source": [
    "x_train_dropped = x_train_final.drop([2,3,5,6,7,11,12,14,16,17,18,20,21,22], axis=1)\n",
    "x_test_dropped = x_test.drop(['var3','var4','var6','var7','var8','var12','var13','var15','var17','var18','var19','var21','var22','var23'], axis=1)\n",
    "final_test_dropped = final_test.drop(['var3','var4','var6','var7','var8','var12','var13','var15','var17','var18','var19','var21','var22','var23'], axis=1)\n",
    "\n",
    "final_train = x_train_dropped\n",
    "final_val = x_test_dropped\n",
    "final_test = final_test_dropped"
   ]
  },
  {
   "cell_type": "code",
   "execution_count": 7,
   "metadata": {
    "collapsed": true
   },
   "outputs": [],
   "source": [
    "final_train = final_train.drop([9,19,25], axis=1)\n",
    "final_val = final_val.drop(['var10','var20','var26'], axis=1)\n",
    "final_test = final_test.drop(['var10','var20','var26'], axis=1)"
   ]
  },
  {
   "cell_type": "code",
   "execution_count": 8,
   "metadata": {
    "collapsed": true
   },
   "outputs": [],
   "source": [
    "final_train['2+5'] = final_train[final_train.columns[1]] * final_train[final_train.columns[4]]\n",
    "final_val['2+5'] = final_val[final_val.columns[1]] * final_val[final_val.columns[4]]\n",
    "final_test['2+5'] = final_test[final_test.columns[1]] * final_test[final_test.columns[4]]\n",
    "\n",
    "final_train['2+6'] = final_train[final_train.columns[1]] * final_train[final_train.columns[5]]\n",
    "final_val['2+6'] = final_val[final_val.columns[1]] * final_val[final_val.columns[5]]\n",
    "final_test['2+6'] = final_test[final_test.columns[1]] * final_test[final_test.columns[5]]\n",
    "\n",
    "final_train['5+6'] = final_train[final_train.columns[4]] * final_train[final_train.columns[5]]\n",
    "final_val['5+6'] = final_val[final_val.columns[4]] * final_val[final_val.columns[5]]\n",
    "final_test['5+6'] = final_test[final_test.columns[4]] * final_test[final_test.columns[5]]"
   ]
  },
  {
   "cell_type": "code",
   "execution_count": null,
   "metadata": {
    "collapsed": true
   },
   "outputs": [],
   "source": []
  },
  {
   "cell_type": "markdown",
   "metadata": {},
   "source": [
    "# final_train ----> final training data\n",
    "# final_val ----> final validation data\n",
    "# final_test ----> final testing data\n",
    "\n",
    "# y_train_final ----> final labels for training\n",
    "# y_test ----> final labels for validation"
   ]
  },
  {
   "cell_type": "code",
   "execution_count": null,
   "metadata": {
    "collapsed": true
   },
   "outputs": [],
   "source": []
  }
 ],
 "metadata": {
  "kernelspec": {
   "display_name": "Python 3",
   "language": "python",
   "name": "python3"
  },
  "language_info": {
   "codemirror_mode": {
    "name": "ipython",
    "version": 3
   },
   "file_extension": ".py",
   "mimetype": "text/x-python",
   "name": "python",
   "nbconvert_exporter": "python",
   "pygments_lexer": "ipython3",
   "version": "3.6.1"
  }
 },
 "nbformat": 4,
 "nbformat_minor": 2
}
