{
 "cells": [
  {
   "cell_type": "code",
   "execution_count": 24,
   "metadata": {
    "collapsed": true
   },
   "outputs": [],
   "source": [
    "import numpy as np\n",
    "import pandas as pd\n",
    "import matplotlib.pyplot as plt\n",
    "%matplotlib inline\n",
    "import seaborn as sns"
   ]
  },
  {
   "cell_type": "code",
   "execution_count": 161,
   "metadata": {
    "collapsed": true
   },
   "outputs": [],
   "source": [
    "user_data = pd.read_csv(\"user_data.csv\")\n",
    "ads_data = pd.read_csv(\"ads_data.csv\")\n",
    "\n",
    "user_messages = pd.read_csv(\"user_messages.csv\")\n",
    "user_messages_test = pd.read_csv(\"user_messages_test.csv\")"
   ]
  },
  {
   "cell_type": "code",
   "execution_count": 20,
   "metadata": {
    "collapsed": false
   },
   "outputs": [
    {
     "data": {
      "text/html": [
       "<div>\n",
       "<style>\n",
       "    .dataframe thead tr:only-child th {\n",
       "        text-align: right;\n",
       "    }\n",
       "\n",
       "    .dataframe thead th {\n",
       "        text-align: left;\n",
       "    }\n",
       "\n",
       "    .dataframe tbody tr th {\n",
       "        vertical-align: top;\n",
       "    }\n",
       "</style>\n",
       "<table border=\"1\" class=\"dataframe\">\n",
       "  <thead>\n",
       "    <tr style=\"text-align: right;\">\n",
       "      <th></th>\n",
       "      <th>ad_id</th>\n",
       "      <th>category_id</th>\n",
       "      <th>seller_id</th>\n",
       "      <th>price</th>\n",
       "      <th>lat</th>\n",
       "      <th>long</th>\n",
       "      <th>enabled</th>\n",
       "    </tr>\n",
       "  </thead>\n",
       "  <tbody>\n",
       "    <tr>\n",
       "      <th>count</th>\n",
       "      <td>6.451680e+05</td>\n",
       "      <td>645168.000000</td>\n",
       "      <td>645168.000000</td>\n",
       "      <td>6.451660e+05</td>\n",
       "      <td>118780.000000</td>\n",
       "      <td>118780.000000</td>\n",
       "      <td>645168.000000</td>\n",
       "    </tr>\n",
       "    <tr>\n",
       "      <th>mean</th>\n",
       "      <td>2.099651e+06</td>\n",
       "      <td>810.648930</td>\n",
       "      <td>362482.657593</td>\n",
       "      <td>5.291704e+03</td>\n",
       "      <td>-34.395014</td>\n",
       "      <td>-58.212330</td>\n",
       "      <td>0.465958</td>\n",
       "    </tr>\n",
       "    <tr>\n",
       "      <th>std</th>\n",
       "      <td>7.590905e+05</td>\n",
       "      <td>96.171769</td>\n",
       "      <td>188890.016736</td>\n",
       "      <td>9.827501e+05</td>\n",
       "      <td>2.701056</td>\n",
       "      <td>4.317663</td>\n",
       "      <td>0.498840</td>\n",
       "    </tr>\n",
       "    <tr>\n",
       "      <th>min</th>\n",
       "      <td>9.000000e+00</td>\n",
       "      <td>362.000000</td>\n",
       "      <td>3.000000</td>\n",
       "      <td>0.000000e+00</td>\n",
       "      <td>-50.146811</td>\n",
       "      <td>-127.868312</td>\n",
       "      <td>0.000000</td>\n",
       "    </tr>\n",
       "    <tr>\n",
       "      <th>25%</th>\n",
       "      <td>1.632318e+06</td>\n",
       "      <td>806.000000</td>\n",
       "      <td>196764.000000</td>\n",
       "      <td>1.500000e+02</td>\n",
       "      <td>-34.642215</td>\n",
       "      <td>-58.556401</td>\n",
       "      <td>0.000000</td>\n",
       "    </tr>\n",
       "    <tr>\n",
       "      <th>50%</th>\n",
       "      <td>2.363885e+06</td>\n",
       "      <td>815.000000</td>\n",
       "      <td>380132.000000</td>\n",
       "      <td>3.400000e+02</td>\n",
       "      <td>-34.601383</td>\n",
       "      <td>-58.461624</td>\n",
       "      <td>0.000000</td>\n",
       "    </tr>\n",
       "    <tr>\n",
       "      <th>75%</th>\n",
       "      <td>2.712724e+06</td>\n",
       "      <td>853.000000</td>\n",
       "      <td>530852.000000</td>\n",
       "      <td>8.500000e+02</td>\n",
       "      <td>-34.560532</td>\n",
       "      <td>-58.406016</td>\n",
       "      <td>1.000000</td>\n",
       "    </tr>\n",
       "    <tr>\n",
       "      <th>max</th>\n",
       "      <td>2.922041e+06</td>\n",
       "      <td>888.000000</td>\n",
       "      <td>646815.000000</td>\n",
       "      <td>7.777778e+08</td>\n",
       "      <td>65.585720</td>\n",
       "      <td>41.234036</td>\n",
       "      <td>1.000000</td>\n",
       "    </tr>\n",
       "  </tbody>\n",
       "</table>\n",
       "</div>"
      ],
      "text/plain": [
       "              ad_id    category_id      seller_id         price  \\\n",
       "count  6.451680e+05  645168.000000  645168.000000  6.451660e+05   \n",
       "mean   2.099651e+06     810.648930  362482.657593  5.291704e+03   \n",
       "std    7.590905e+05      96.171769  188890.016736  9.827501e+05   \n",
       "min    9.000000e+00     362.000000       3.000000  0.000000e+00   \n",
       "25%    1.632318e+06     806.000000  196764.000000  1.500000e+02   \n",
       "50%    2.363885e+06     815.000000  380132.000000  3.400000e+02   \n",
       "75%    2.712724e+06     853.000000  530852.000000  8.500000e+02   \n",
       "max    2.922041e+06     888.000000  646815.000000  7.777778e+08   \n",
       "\n",
       "                 lat           long        enabled  \n",
       "count  118780.000000  118780.000000  645168.000000  \n",
       "mean      -34.395014     -58.212330       0.465958  \n",
       "std         2.701056       4.317663       0.498840  \n",
       "min       -50.146811    -127.868312       0.000000  \n",
       "25%       -34.642215     -58.556401       0.000000  \n",
       "50%       -34.601383     -58.461624       0.000000  \n",
       "75%       -34.560532     -58.406016       1.000000  \n",
       "max        65.585720      41.234036       1.000000  "
      ]
     },
     "execution_count": 20,
     "metadata": {},
     "output_type": "execute_result"
    }
   ],
   "source": [
    "ads_data.describe()"
   ]
  },
  {
   "cell_type": "code",
   "execution_count": 52,
   "metadata": {
    "collapsed": false
   },
   "outputs": [
    {
     "data": {
      "image/png": "[encoded data removed]",
      "text/plain": [
       "<matplotlib.figure.Figure at 0x1dc564ea320>"
      ]
     },
     "metadata": {},
     "output_type": "display_data"
    }
   ],
   "source": [
    "plt.figure(figsize=(8,6))\n",
    "plt.scatter(range(ads_data.shape[0]), np.sort(ads_data.long.values))\n",
    "plt.xlabel('index', fontsize=12)\n",
    "plt.ylabel('long', fontsize=12)\n",
    "plt.show()"
   ]
  },
  {
   "cell_type": "code",
   "execution_count": 35,
   "metadata": {
    "collapsed": false
   },
   "outputs": [
    {
     "name": "stdout",
     "output_type": "stream",
     "text": [
      "775\n"
     ]
    }
   ],
   "source": [
    "count = 0\n",
    "for i in range(ads_data.shape[0]):\n",
    "    if ads_data.lat[i] > -30:\n",
    "        count+=1\n",
    "print(count)"
   ]
  },
  {
   "cell_type": "code",
   "execution_count": 15,
   "metadata": {
    "collapsed": false
   },
   "outputs": [
    {
     "data": {
      "text/plain": [
       "(10348, 3)"
      ]
     },
     "execution_count": 15,
     "metadata": {},
     "output_type": "execute_result"
    }
   ],
   "source": [
    "user_messages.shape"
   ]
  },
  {
   "cell_type": "code",
   "execution_count": 14,
   "metadata": {
    "collapsed": false
   },
   "outputs": [
    {
     "data": {
      "text/plain": [
       "(10507, 2)"
      ]
     },
     "execution_count": 14,
     "metadata": {},
     "output_type": "execute_result"
    }
   ],
   "source": [
    "user_messages_test.shape"
   ]
  },
  {
   "cell_type": "code",
   "execution_count": 18,
   "metadata": {
    "collapsed": false
   },
   "outputs": [
    {
     "data": {
      "text/plain": [
       "(645168, 11)"
      ]
     },
     "execution_count": 18,
     "metadata": {},
     "output_type": "execute_result"
    }
   ],
   "source": [
    "ads_data.shape"
   ]
  },
  {
   "cell_type": "markdown",
   "metadata": {},
   "source": [
    "# Blazing Fast and Dirty Approach"
   ]
  },
  {
   "cell_type": "code",
   "execution_count": 44,
   "metadata": {
    "collapsed": true
   },
   "outputs": [],
   "source": [
    "ads_categ = ads_data[['ad_id', 'category_id']]"
   ]
  },
  {
   "cell_type": "code",
   "execution_count": 46,
   "metadata": {
    "collapsed": true
   },
   "outputs": [],
   "source": [
    "final_ads = pd.merge(user_data, ads_categ, how='left', on='ad_id')"
   ]
  },
  {
   "cell_type": "code",
   "execution_count": 55,
   "metadata": {
    "collapsed": false
   },
   "outputs": [
    {
     "data": {
      "text/html": [
       "<div>\n",
       "<style>\n",
       "    .dataframe thead tr:only-child th {\n",
       "        text-align: right;\n",
       "    }\n",
       "\n",
       "    .dataframe thead th {\n",
       "        text-align: left;\n",
       "    }\n",
       "\n",
       "    .dataframe tbody tr th {\n",
       "        vertical-align: top;\n",
       "    }\n",
       "</style>\n",
       "<table border=\"1\" class=\"dataframe\">\n",
       "  <thead>\n",
       "    <tr style=\"text-align: right;\">\n",
       "      <th></th>\n",
       "      <th>event</th>\n",
       "      <th>ad_id</th>\n",
       "      <th>category_id</th>\n",
       "    </tr>\n",
       "  </thead>\n",
       "  <tbody>\n",
       "    <tr>\n",
       "      <th>0</th>\n",
       "      <td>view</td>\n",
       "      <td>2426321</td>\n",
       "      <td>888</td>\n",
       "    </tr>\n",
       "    <tr>\n",
       "      <th>1</th>\n",
       "      <td>view</td>\n",
       "      <td>2746814</td>\n",
       "      <td>815</td>\n",
       "    </tr>\n",
       "    <tr>\n",
       "      <th>2</th>\n",
       "      <td>view</td>\n",
       "      <td>1123948</td>\n",
       "      <td>853</td>\n",
       "    </tr>\n",
       "    <tr>\n",
       "      <th>3</th>\n",
       "      <td>first_message</td>\n",
       "      <td>2273498</td>\n",
       "      <td>815</td>\n",
       "    </tr>\n",
       "    <tr>\n",
       "      <th>4</th>\n",
       "      <td>view</td>\n",
       "      <td>2722493</td>\n",
       "      <td>815</td>\n",
       "    </tr>\n",
       "  </tbody>\n",
       "</table>\n",
       "</div>"
      ],
      "text/plain": [
       "           event    ad_id  category_id\n",
       "0           view  2426321          888\n",
       "1           view  2746814          815\n",
       "2           view  1123948          853\n",
       "3  first_message  2273498          815\n",
       "4           view  2722493          815"
      ]
     },
     "execution_count": 55,
     "metadata": {},
     "output_type": "execute_result"
    }
   ],
   "source": [
    "final_ads.head()"
   ]
  },
  {
   "cell_type": "code",
   "execution_count": 54,
   "metadata": {
    "collapsed": true
   },
   "outputs": [],
   "source": [
    "final_ads = final_ads[['event', 'ad_id', 'category_id']]"
   ]
  },
  {
   "cell_type": "code",
   "execution_count": 144,
   "metadata": {
    "collapsed": true
   },
   "outputs": [],
   "source": [
    "temp = final_ads[final_ads.event == \"first_message\"]\n",
    "temp = pd.DataFrame(temp.groupby(['category_id'])['ad_id'].value_counts())"
   ]
  },
  {
   "cell_type": "code",
   "execution_count": 146,
   "metadata": {
    "collapsed": true
   },
   "outputs": [],
   "source": [
    "user_messages_test['ads'] = np.zeros(user_messages_test.shape[0])"
   ]
  },
  {
   "cell_type": "code",
   "execution_count": 149,
   "metadata": {
    "collapsed": true
   },
   "outputs": [],
   "source": [
    "dict1 = {}\n",
    "categs = list(set(final_ads.category_id))\n",
    "for i in categs:\n",
    "    portal = final_ads[final_ads.category_id == i]\n",
    "    dict1[i] = list(portal.ad_id.value_counts()[:10].index)"
   ]
  },
  {
   "cell_type": "code",
   "execution_count": 151,
   "metadata": {
    "collapsed": false
   },
   "outputs": [
    {
     "name": "stdout",
     "output_type": "stream",
     "text": [
      "0 iterations done\n"
     ]
    },
    {
     "name": "stderr",
     "output_type": "stream",
     "text": [
      "C:\\Users\\ADMIN\\Anaconda3\\lib\\site-packages\\ipykernel_launcher.py:7: SettingWithCopyWarning: \n",
      "A value is trying to be set on a copy of a slice from a DataFrame\n",
      "\n",
      "See the caveats in the documentation: http://pandas.pydata.org/pandas-docs/stable/indexing.html#indexing-view-versus-copy\n",
      "  import sys\n",
      "C:\\Users\\ADMIN\\Anaconda3\\lib\\site-packages\\pandas\\core\\indexing.py:179: SettingWithCopyWarning: \n",
      "A value is trying to be set on a copy of a slice from a DataFrame\n",
      "\n",
      "See the caveats in the documentation: http://pandas.pydata.org/pandas-docs/stable/indexing.html#indexing-view-versus-copy\n",
      "  self._setitem_with_indexer(indexer, value)\n"
     ]
    },
    {
     "name": "stdout",
     "output_type": "stream",
     "text": [
      "1000 iterations done\n",
      "2000 iterations done\n",
      "3000 iterations done\n",
      "4000 iterations done\n",
      "5000 iterations done\n",
      "6000 iterations done\n",
      "7000 iterations done\n",
      "8000 iterations done\n",
      "9000 iterations done\n",
      "10000 iterations done\n"
     ]
    }
   ],
   "source": [
    "for i in range(user_messages_test.shape[0]):\n",
    "#     portal = final_ads[final_ads.category_id == user_messages_test.category_id[i]]\n",
    "#     lst = list(portal.ad_id.value_counts()[:5])\n",
    "    if i % 1000 == 0:\n",
    "        print(i, \"iterations done\")\n",
    "    strs = str(dict1[user_messages_test.category_id[i]])\n",
    "    user_messages_test['ads'][i] = strs"
   ]
  },
  {
   "cell_type": "code",
   "execution_count": 152,
   "metadata": {
    "collapsed": false
   },
   "outputs": [
    {
     "data": {
      "text/html": [
       "<div>\n",
       "<style>\n",
       "    .dataframe thead tr:only-child th {\n",
       "        text-align: right;\n",
       "    }\n",
       "\n",
       "    .dataframe thead th {\n",
       "        text-align: left;\n",
       "    }\n",
       "\n",
       "    .dataframe tbody tr th {\n",
       "        vertical-align: top;\n",
       "    }\n",
       "</style>\n",
       "<table border=\"1\" class=\"dataframe\">\n",
       "  <thead>\n",
       "    <tr style=\"text-align: right;\">\n",
       "      <th></th>\n",
       "      <th>user_id</th>\n",
       "      <th>category_id</th>\n",
       "      <th>ads</th>\n",
       "    </tr>\n",
       "  </thead>\n",
       "  <tbody>\n",
       "    <tr>\n",
       "      <th>0</th>\n",
       "      <td>2</td>\n",
       "      <td>800</td>\n",
       "      <td>[2814436, 2806603, 2816630, 2816336, 2802819, ...</td>\n",
       "    </tr>\n",
       "    <tr>\n",
       "      <th>1</th>\n",
       "      <td>6</td>\n",
       "      <td>815</td>\n",
       "      <td>[2234932, 2434247, 2796911, 2812937, 2812849, ...</td>\n",
       "    </tr>\n",
       "    <tr>\n",
       "      <th>2</th>\n",
       "      <td>14</td>\n",
       "      <td>811</td>\n",
       "      <td>[2626729, 2764838, 1928465, 2753896, 2727592, ...</td>\n",
       "    </tr>\n",
       "    <tr>\n",
       "      <th>3</th>\n",
       "      <td>14</td>\n",
       "      <td>800</td>\n",
       "      <td>[2814436, 2806603, 2816630, 2816336, 2802819, ...</td>\n",
       "    </tr>\n",
       "    <tr>\n",
       "      <th>4</th>\n",
       "      <td>17</td>\n",
       "      <td>815</td>\n",
       "      <td>[2234932, 2434247, 2796911, 2812937, 2812849, ...</td>\n",
       "    </tr>\n",
       "  </tbody>\n",
       "</table>\n",
       "</div>"
      ],
      "text/plain": [
       "   user_id  category_id                                                ads\n",
       "0        2          800  [2814436, 2806603, 2816630, 2816336, 2802819, ...\n",
       "1        6          815  [2234932, 2434247, 2796911, 2812937, 2812849, ...\n",
       "2       14          811  [2626729, 2764838, 1928465, 2753896, 2727592, ...\n",
       "3       14          800  [2814436, 2806603, 2816630, 2816336, 2802819, ...\n",
       "4       17          815  [2234932, 2434247, 2796911, 2812937, 2812849, ..."
      ]
     },
     "execution_count": 152,
     "metadata": {},
     "output_type": "execute_result"
    }
   ],
   "source": [
    "user_messages_test.head()"
   ]
  },
  {
   "cell_type": "code",
   "execution_count": 153,
   "metadata": {
    "collapsed": true
   },
   "outputs": [],
   "source": [
    "user_messages_test.to_csv(\"ads_recommendation.csv\", index=False)"
   ]
  },
  {
   "cell_type": "markdown",
   "metadata": {},
   "source": [
    "# Using GraphLab"
   ]
  },
  {
   "cell_type": "code",
   "execution_count": 13,
   "metadata": {
    "collapsed": false
   },
   "outputs": [],
   "source": [
    "import numpy as np\n",
    "import pandas as pd\n",
    "import graphlab as gl"
   ]
  },
  {
   "cell_type": "code",
   "execution_count": 4,
   "metadata": {
    "collapsed": false
   },
   "outputs": [],
   "source": [
    "user_data = pd.read_csv(\"user_data.csv\")\n",
    "ads_data = pd.read_csv(\"ads_data.csv\")\n",
    "\n",
    "user_messages = pd.read_csv(\"user_messages.csv\")\n",
    "user_messages_test = pd.read_csv(\"user_messages_test.csv\")"
   ]
  },
  {
   "cell_type": "code",
   "execution_count": 5,
   "metadata": {
    "collapsed": true
   },
   "outputs": [],
   "source": [
    "train_data = pd.merge(user_messages, user_data, how='left', on='user_id')\n",
    "train_data = pd.merge(train_data, ads_data, how='left', on='ad_id')"
   ]
  },
  {
   "cell_type": "code",
   "execution_count": 6,
   "metadata": {
    "collapsed": true
   },
   "outputs": [],
   "source": [
    "test_df =  pd.merge(user_messages_test, user_data, how='left', on='user_id')\n",
    "test_df = pd.merge(test_df, ads_data, how='left', on='ad_id')"
   ]
  },
  {
   "cell_type": "code",
   "execution_count": 7,
   "metadata": {
    "collapsed": true
   },
   "outputs": [],
   "source": [
    "train_data = train_data.drop(['lat', 'long', 'event_time', 'user_lat', 'user_long', 'creation_time', 'title', 'description'], axis=1)\n",
    "test_df = test_df.drop(['lat', 'long', 'event_time', 'user_lat', 'user_long', 'creation_time', 'title', 'description'], axis=1)"
   ]
  },
  {
   "cell_type": "code",
   "execution_count": 11,
   "metadata": {
    "collapsed": false
   },
   "outputs": [],
   "source": [
    "final_train = train_data.fillna(value=-999)\n",
    "final_test = test_df.fillna(value=-999)"
   ]
  },
  {
   "cell_type": "code",
   "execution_count": 15,
   "metadata": {
    "collapsed": false
   },
   "outputs": [
    {
     "ename": "AttributeError",
     "evalue": "'module' object has no attribute 'popularity_recommender'",
     "output_type": "error",
     "traceback": [
      "\u001b[1;31m---------------------------------------------------------------------------\u001b[0m",
      "\u001b[1;31mAttributeError\u001b[0m                            Traceback (most recent call last)",
      "\u001b[1;32m<ipython-input-15-84b7aae2fac5>\u001b[0m in \u001b[0;36m<module>\u001b[1;34m()\u001b[0m\n\u001b[1;32m----> 1\u001b[1;33m \u001b[0mpopularity_model\u001b[0m \u001b[1;33m=\u001b[0m \u001b[0mgl\u001b[0m\u001b[1;33m.\u001b[0m\u001b[0mpopularity_recommender\u001b[0m\u001b[1;33m.\u001b[0m\u001b[0mcreate\u001b[0m\u001b[1;33m(\u001b[0m\u001b[0mfinal_train\u001b[0m\u001b[1;33m,\u001b[0m \u001b[0muser_id\u001b[0m\u001b[1;33m=\u001b[0m\u001b[1;34m'user_id'\u001b[0m\u001b[1;33m,\u001b[0m \u001b[0mitem_id\u001b[0m\u001b[1;33m=\u001b[0m\u001b[1;34m'ad_id'\u001b[0m\u001b[1;33m,\u001b[0m \u001b[0mtarget\u001b[0m\u001b[1;33m=\u001b[0m\u001b[1;34m'ads'\u001b[0m\u001b[1;33m)\u001b[0m\u001b[1;33m\u001b[0m\u001b[0m\n\u001b[0m",
      "\u001b[1;31mAttributeError\u001b[0m: 'module' object has no attribute 'popularity_recommender'"
     ]
    }
   ],
   "source": []
  },
  {
   "cell_type": "code",
   "execution_count": null,
   "metadata": {
    "collapsed": true
   },
   "outputs": [],
   "source": []
  },
  {
   "cell_type": "code",
   "execution_count": null,
   "metadata": {
    "collapsed": true
   },
   "outputs": [],
   "source": []
  },
  {
   "cell_type": "code",
   "execution_count": null,
   "metadata": {
    "collapsed": true
   },
   "outputs": [],
   "source": []
  }
 ],
 "metadata": {
  "kernelspec": {
   "display_name": "Python 2",
   "language": "python",
   "name": "python2"
  },
  "language_info": {
   "codemirror_mode": {
    "name": "ipython",
    "version": 2
   },
   "file_extension": ".py",
   "mimetype": "text/x-python",
   "name": "python",
   "nbconvert_exporter": "python",
   "pygments_lexer": "ipython2",
   "version": "2.7.11"
  }
 },
 "nbformat": 4,
 "nbformat_minor": 2
}
