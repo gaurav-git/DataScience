{
 "cells": [
  {
   "cell_type": "code",
   "execution_count": 1,
   "metadata": {
    "collapsed": true
   },
   "outputs": [],
   "source": [
    "import pandas as pd\n",
    "import numpy as np"
   ]
  },
  {
   "cell_type": "code",
   "execution_count": 2,
   "metadata": {
    "collapsed": true
   },
   "outputs": [],
   "source": [
    "df_train = pd.read_csv(\"train.csv\")"
   ]
  },
  {
   "cell_type": "code",
   "execution_count": 17,
   "metadata": {
    "collapsed": true
   },
   "outputs": [],
   "source": [
    "df_test = pd.read_csv(\"test.csv\")"
   ]
  },
  {
   "cell_type": "code",
   "execution_count": 23,
   "metadata": {},
   "outputs": [
    {
     "name": "stdout",
     "output_type": "stream",
     "text": [
      "<class 'pandas.core.frame.DataFrame'>\n",
      "Int64Index: 8821613 entries, 1 to 12137808\n",
      "Data columns (total 10 columns):\n",
      "ID             object\n",
      "datetime       object\n",
      "siteid         float64\n",
      "offerid        int64\n",
      "category       int64\n",
      "merchant       int64\n",
      "countrycode    object\n",
      "browserid      object\n",
      "devid          object\n",
      "click          int64\n",
      "dtypes: float64(1), int64(4), object(5)\n",
      "memory usage: 740.3+ MB\n"
     ]
    }
   ],
   "source": [
    "df_train.info()"
   ]
  },
  {
   "cell_type": "code",
   "execution_count": 22,
   "metadata": {
    "collapsed": true
   },
   "outputs": [
    {
     "data": {
      "text/plain": [
       "8896401.0    31163\n",
       "1466152.0    29505\n",
       "98480.0      23652\n",
       "2817379.0    19304\n",
       "3665704.0    15959\n",
       "3032554.0    15163\n",
       "3696590.0    13510\n",
       "7930294.0    13322\n",
       "8946231.0    12791\n",
       "7483326.0    11915\n",
       "9688010.0    11582\n",
       "9732114.0    10911\n",
       "6357104.0    10741\n",
       "1402501.0    10696\n",
       "1512420.0    10474\n",
       "2627839.0     9761\n",
       "4800985.0     9681\n",
       "4097220.0     9300\n",
       "4782754.0     8949\n",
       "7860250.0     8927\n",
       "8956254.0     8777\n",
       "3039169.0     8739\n",
       "4882623.0     8453\n",
       "141740.0      8444\n",
       "9303527.0     7986\n",
       "3298470.0     7866\n",
       "3270397.0     7645\n",
       "7656473.0     7607\n",
       "4714191.0     7487\n",
       "1950009.0     7321\n",
       "             ...  \n",
       "5025397.0        1\n",
       "5022492.0        1\n",
       "5022002.0        1\n",
       "5021949.0        1\n",
       "5020534.0        1\n",
       "5019040.0        1\n",
       "5019159.0        1\n",
       "5019225.0        1\n",
       "5019258.0        1\n",
       "5019348.0        1\n",
       "5019680.0        1\n",
       "5019910.0        1\n",
       "5019936.0        1\n",
       "5020021.0        1\n",
       "5020187.0        1\n",
       "5020498.0        1\n",
       "5020599.0        1\n",
       "5021897.0        1\n",
       "5020670.0        1\n",
       "5020786.0        1\n",
       "5020807.0        1\n",
       "5020852.0        1\n",
       "5020957.0        1\n",
       "5021004.0        1\n",
       "5021217.0        1\n",
       "5021387.0        1\n",
       "5021588.0        1\n",
       "5021832.0        1\n",
       "5021870.0        1\n",
       "4367575.0        1\n",
       "Name: siteid, Length: 199282, dtype: int64"
      ]
     },
     "execution_count": 22,
     "metadata": {},
     "output_type": "execute_result"
    }
   ],
   "source": [
    "df_train.siteid.value_counts()"
   ]
  },
  {
   "cell_type": "code",
   "execution_count": 15,
   "metadata": {},
   "outputs": [],
   "source": [
    "df_train = df_train.dropna()"
   ]
  },
  {
   "cell_type": "code",
   "execution_count": 21,
   "metadata": {},
   "outputs": [
    {
     "data": {
      "text/plain": [
       "(3706907, 9)"
      ]
     },
     "execution_count": 21,
     "metadata": {},
     "output_type": "execute_result"
    }
   ],
   "source": [
    "df_test.shape"
   ]
  },
  {
   "cell_type": "code",
   "execution_count": 20,
   "metadata": {},
   "outputs": [
    {
     "data": {
      "text/plain": [
       "(2540027, 9)"
      ]
     },
     "execution_count": 20,
     "metadata": {},
     "output_type": "execute_result"
    }
   ],
   "source": [
    "df_test.dropna().shape"
   ]
  },
  {
   "cell_type": "code",
   "execution_count": null,
   "metadata": {
    "collapsed": true
   },
   "outputs": [],
   "source": []
  },
  {
   "cell_type": "code",
   "execution_count": null,
   "metadata": {
    "collapsed": true
   },
   "outputs": [],
   "source": []
  },
  {
   "cell_type": "code",
   "execution_count": null,
   "metadata": {
    "collapsed": true
   },
   "outputs": [],
   "source": []
  }
 ],
 "metadata": {
  "kernelspec": {
   "display_name": "Python 3",
   "language": "python",
   "name": "python3"
  },
  "language_info": {
   "codemirror_mode": {
    "name": "ipython",
    "version": 3
   },
   "file_extension": ".py",
   "mimetype": "text/x-python",
   "name": "python",
   "nbconvert_exporter": "python",
   "pygments_lexer": "ipython3",
   "version": "3.6.1"
  }
 },
 "nbformat": 4,
 "nbformat_minor": 2
}
