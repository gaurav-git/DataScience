{
 "cells": [
  {
   "cell_type": "markdown",
   "metadata": {},
   "source": [
    "# RANDOM FOREST by gaurav"
   ]
  },
  {
   "cell_type": "markdown",
   "metadata": {},
   "source": [
    "### Load libraries and data"
   ]
  },
  {
   "cell_type": "code",
   "execution_count": 1,
   "metadata": {
    "collapsed": true
   },
   "outputs": [],
   "source": [
    "import pandas as pd\n",
    "import numpy as np\n",
    "# import lightgbm as lgb\n",
    "from sklearn.model_selection import train_test_split\n",
    "from sklearn.preprocessing import LabelEncoder"
   ]
  },
  {
   "cell_type": "code",
   "execution_count": 2,
   "metadata": {
    "collapsed": true
   },
   "outputs": [],
   "source": [
    "train = pd.read_csv(\"train.csv\")\n",
    "test = pd.read_csv(\"test.csv\")"
   ]
  },
  {
   "cell_type": "code",
   "execution_count": 3,
   "metadata": {
    "scrolled": true
   },
   "outputs": [
    {
     "data": {
      "text/plain": [
       "ID             0.000000\n",
       "datetime       0.000000\n",
       "siteid         0.099896\n",
       "offerid        0.000000\n",
       "category       0.000000\n",
       "merchant       0.000000\n",
       "countrycode    0.000000\n",
       "browserid      0.050118\n",
       "devid          0.149969\n",
       "click          0.000000\n",
       "dtype: float64"
      ]
     },
     "execution_count": 3,
     "metadata": {},
     "output_type": "execute_result"
    }
   ],
   "source": [
    "# check missing values per column\n",
    "train.isnull().sum(axis=0)/train.shape[0]"
   ]
  },
  {
   "cell_type": "code",
   "execution_count": 4,
   "metadata": {},
   "outputs": [
    {
     "data": {
      "text/plain": [
       "0    0.963979\n",
       "1    0.036021\n",
       "Name: click, dtype: float64"
      ]
     },
     "execution_count": 4,
     "metadata": {},
     "output_type": "execute_result"
    }
   ],
   "source": [
    "train.click.value_counts()/train.shape[0]"
   ]
  },
  {
   "cell_type": "code",
   "execution_count": 5,
   "metadata": {},
   "outputs": [
    {
     "data": {
      "text/plain": [
       "(437214, 10)"
      ]
     },
     "execution_count": 5,
     "metadata": {},
     "output_type": "execute_result"
    }
   ],
   "source": [
    "train[train.click==1].shape"
   ]
  },
  {
   "cell_type": "markdown",
   "metadata": {},
   "source": [
    "### Clean Data and Create Features"
   ]
  },
  {
   "cell_type": "code",
   "execution_count": 6,
   "metadata": {
    "collapsed": true
   },
   "outputs": [],
   "source": [
    "train['siteid'].fillna(-999, inplace=True)\n",
    "test['siteid'].fillna(-999, inplace=True)\n",
    "\n",
    "train['browserid'].fillna(\"None\", inplace=True)\n",
    "test['browserid'].fillna(\"None\", inplace=True)\n",
    "\n",
    "train['devid'].fillna(\"None\", inplace=True)\n",
    "test['devid'].fillna(\"None\", inplace=True)"
   ]
  },
  {
   "cell_type": "code",
   "execution_count": 7,
   "metadata": {
    "collapsed": true
   },
   "outputs": [],
   "source": [
    "# set datatime\n",
    "train['datetime'] = pd.to_datetime(train['datetime'])\n",
    "test['datetime'] = pd.to_datetime(test['datetime'])"
   ]
  },
  {
   "cell_type": "code",
   "execution_count": 8,
   "metadata": {
    "collapsed": true
   },
   "outputs": [],
   "source": [
    "# create datetime variable\n",
    "train['tweekday'] = train['datetime'].dt.weekday\n",
    "train['thour'] = train['datetime'].dt.hour\n",
    "train['tminute'] = train['datetime'].dt.minute\n",
    "\n",
    "test['tweekday'] = test['datetime'].dt.weekday\n",
    "test['thour'] = test['datetime'].dt.hour\n",
    "test['tminute'] = test['datetime'].dt.minute"
   ]
  },
  {
   "cell_type": "code",
   "execution_count": 9,
   "metadata": {
    "collapsed": true
   },
   "outputs": [],
   "source": [
    "cols = ['siteid','offerid','category','merchant']\n",
    "\n",
    "for x in cols:\n",
    "    train[x] = train[x].astype('object')\n",
    "    test[x] = test[x].astype('object')"
   ]
  },
  {
   "cell_type": "code",
   "execution_count": 10,
   "metadata": {
    "collapsed": true
   },
   "outputs": [],
   "source": [
    "cat_cols = cols + ['countrycode','browserid','devid']"
   ]
  },
  {
   "cell_type": "code",
   "execution_count": 11,
   "metadata": {
    "collapsed": true
   },
   "outputs": [],
   "source": [
    "for col in cat_cols:\n",
    "    lbl = LabelEncoder()\n",
    "    lbl.fit(list(train[col].values) + list(test[col].values))\n",
    "    train[col] = lbl.transform(list(train[col].values))\n",
    "    test[col] = lbl.transform(list(test[col].values))"
   ]
  },
  {
   "cell_type": "code",
   "execution_count": 12,
   "metadata": {},
   "outputs": [
    {
     "data": {
      "text/html": [
       "<div>\n",
       "<style>\n",
       "    .dataframe thead tr:only-child th {\n",
       "        text-align: right;\n",
       "    }\n",
       "\n",
       "    .dataframe thead th {\n",
       "        text-align: left;\n",
       "    }\n",
       "\n",
       "    .dataframe tbody tr th {\n",
       "        vertical-align: top;\n",
       "    }\n",
       "</style>\n",
       "<table border=\"1\" class=\"dataframe\">\n",
       "  <thead>\n",
       "    <tr style=\"text-align: right;\">\n",
       "      <th></th>\n",
       "      <th>ID</th>\n",
       "      <th>datetime</th>\n",
       "      <th>siteid</th>\n",
       "      <th>offerid</th>\n",
       "      <th>category</th>\n",
       "      <th>merchant</th>\n",
       "      <th>countrycode</th>\n",
       "      <th>browserid</th>\n",
       "      <th>devid</th>\n",
       "      <th>click</th>\n",
       "      <th>tweekday</th>\n",
       "      <th>thour</th>\n",
       "      <th>tminute</th>\n",
       "    </tr>\n",
       "  </thead>\n",
       "  <tbody>\n",
       "    <tr>\n",
       "      <th>0</th>\n",
       "      <td>IDsrk7SoW</td>\n",
       "      <td>2017-01-14 09:42:09</td>\n",
       "      <td>128865</td>\n",
       "      <td>784773</td>\n",
       "      <td>48</td>\n",
       "      <td>127</td>\n",
       "      <td>4</td>\n",
       "      <td>2</td>\n",
       "      <td>2</td>\n",
       "      <td>0</td>\n",
       "      <td>5</td>\n",
       "      <td>9</td>\n",
       "      <td>42</td>\n",
       "    </tr>\n",
       "    <tr>\n",
       "      <th>1</th>\n",
       "      <td>IDmMSxHur</td>\n",
       "      <td>2017-01-18 17:50:53</td>\n",
       "      <td>142053</td>\n",
       "      <td>157563</td>\n",
       "      <td>59</td>\n",
       "      <td>65</td>\n",
       "      <td>1</td>\n",
       "      <td>8</td>\n",
       "      <td>0</td>\n",
       "      <td>0</td>\n",
       "      <td>2</td>\n",
       "      <td>17</td>\n",
       "      <td>50</td>\n",
       "    </tr>\n",
       "    <tr>\n",
       "      <th>2</th>\n",
       "      <td>IDVLNN0Ut</td>\n",
       "      <td>2017-01-11 12:46:49</td>\n",
       "      <td>2618</td>\n",
       "      <td>458279</td>\n",
       "      <td>69</td>\n",
       "      <td>15</td>\n",
       "      <td>0</td>\n",
       "      <td>1</td>\n",
       "      <td>2</td>\n",
       "      <td>0</td>\n",
       "      <td>2</td>\n",
       "      <td>12</td>\n",
       "      <td>46</td>\n",
       "    </tr>\n",
       "    <tr>\n",
       "      <th>3</th>\n",
       "      <td>ID32T6wwQ</td>\n",
       "      <td>2017-01-17 10:18:43</td>\n",
       "      <td>243406</td>\n",
       "      <td>345067</td>\n",
       "      <td>117</td>\n",
       "      <td>507</td>\n",
       "      <td>2</td>\n",
       "      <td>2</td>\n",
       "      <td>1</td>\n",
       "      <td>0</td>\n",
       "      <td>1</td>\n",
       "      <td>10</td>\n",
       "      <td>18</td>\n",
       "    </tr>\n",
       "    <tr>\n",
       "      <th>4</th>\n",
       "      <td>IDqUShzMg</td>\n",
       "      <td>2017-01-14 16:02:33</td>\n",
       "      <td>154278</td>\n",
       "      <td>417948</td>\n",
       "      <td>36</td>\n",
       "      <td>276</td>\n",
       "      <td>3</td>\n",
       "      <td>8</td>\n",
       "      <td>0</td>\n",
       "      <td>0</td>\n",
       "      <td>5</td>\n",
       "      <td>16</td>\n",
       "      <td>2</td>\n",
       "    </tr>\n",
       "  </tbody>\n",
       "</table>\n",
       "</div>"
      ],
      "text/plain": [
       "          ID            datetime  siteid  offerid  category  merchant  \\\n",
       "0  IDsrk7SoW 2017-01-14 09:42:09  128865   784773        48       127   \n",
       "1  IDmMSxHur 2017-01-18 17:50:53  142053   157563        59        65   \n",
       "2  IDVLNN0Ut 2017-01-11 12:46:49    2618   458279        69        15   \n",
       "3  ID32T6wwQ 2017-01-17 10:18:43  243406   345067       117       507   \n",
       "4  IDqUShzMg 2017-01-14 16:02:33  154278   417948        36       276   \n",
       "\n",
       "   countrycode  browserid  devid  click  tweekday  thour  tminute  \n",
       "0            4          2      2      0         5      9       42  \n",
       "1            1          8      0      0         2     17       50  \n",
       "2            0          1      2      0         2     12       46  \n",
       "3            2          2      1      0         1     10       18  \n",
       "4            3          8      0      0         5     16        2  "
      ]
     },
     "execution_count": 12,
     "metadata": {},
     "output_type": "execute_result"
    }
   ],
   "source": [
    "train.head()"
   ]
  },
  {
   "cell_type": "code",
   "execution_count": 23,
   "metadata": {
    "collapsed": true
   },
   "outputs": [],
   "source": [
    "df_ones = train[train.click==1]\n",
    "df_zero = train[train.click==0]"
   ]
  },
  {
   "cell_type": "code",
   "execution_count": 24,
   "metadata": {},
   "outputs": [
    {
     "name": "stdout",
     "output_type": "stream",
     "text": [
      "437214\n",
      "867214\n"
     ]
    }
   ],
   "source": [
    "rows = np.random.choice(df_zero.index.values, 430000)\n",
    "print(df_ones.shape[0])\n",
    "new_df = df_ones.append(df_zero.loc[rows])\n",
    "print(new_df.shape[0])\n",
    "rows = np.random.choice(new_df.index.values, new_df.shape[0])\n",
    "new_df = new_df.loc[rows]"
   ]
  },
  {
   "cell_type": "markdown",
   "metadata": {},
   "source": [
    "### Model Training"
   ]
  },
  {
   "cell_type": "code",
   "execution_count": 13,
   "metadata": {
    "collapsed": true
   },
   "outputs": [],
   "source": [
    "cols_to_use = list(set(train.columns) - set(['ID','datetime','click']))"
   ]
  },
  {
   "cell_type": "code",
   "execution_count": 14,
   "metadata": {},
   "outputs": [
    {
     "data": {
      "text/plain": [
       "606889"
      ]
     },
     "execution_count": 14,
     "metadata": {},
     "output_type": "execute_result"
    }
   ],
   "source": [
    "from sklearn.model_selection import StratifiedKFold\n",
    "skf = StratifiedKFold(n_splits=20, random_state=42)\n",
    "a = 0\n",
    "for i, j in skf.split(train[cols_to_use], train['click']):\n",
    "    a = j\n",
    "len(a)"
   ]
  },
  {
   "cell_type": "code",
   "execution_count": 30,
   "metadata": {
    "collapsed": true
   },
   "outputs": [],
   "source": [
    "X_train, X_test, y_train, y_test = train_test_split(train.loc[a][cols_to_use], train.loc[a]['click'], test_size = 0.5, random_state=42)"
   ]
  },
  {
   "cell_type": "code",
   "execution_count": 25,
   "metadata": {
    "collapsed": true
   },
   "outputs": [],
   "source": [
    "# handling imbalance for once\n",
    "X_train, X_test, y_train, y_test = train_test_split(new_df[cols_to_use], new_df['click'], test_size = 0.5, random_state=42)"
   ]
  },
  {
   "cell_type": "code",
   "execution_count": 31,
   "metadata": {},
   "outputs": [
    {
     "data": {
      "text/plain": [
       "0    292472\n",
       "1     10973\n",
       "Name: click, dtype: int64"
      ]
     },
     "execution_count": 31,
     "metadata": {},
     "output_type": "execute_result"
    }
   ],
   "source": [
    "y_test.value_counts()"
   ]
  },
  {
   "cell_type": "markdown",
   "metadata": {},
   "source": [
    "# For trial"
   ]
  },
  {
   "cell_type": "code",
   "execution_count": 33,
   "metadata": {},
   "outputs": [
    {
     "name": "stdout",
     "output_type": "stream",
     "text": [
      "Model with  20  max_features \n"
     ]
    },
    {
     "name": "stderr",
     "output_type": "stream",
     "text": [
      "[Parallel(n_jobs=-1)]: Done  26 tasks      | elapsed:    3.2s\n",
      "[Parallel(n_jobs=-1)]: Done 176 tasks      | elapsed:   17.2s\n",
      "[Parallel(n_jobs=-1)]: Done 426 tasks      | elapsed:   42.2s\n",
      "[Parallel(n_jobs=-1)]: Done 470 out of 470 | elapsed:   46.0s finished\n"
     ]
    },
    {
     "name": "stdout",
     "output_type": "stream",
     "text": [
      "time to fit:  61.34615731239319\n"
     ]
    },
    {
     "name": "stderr",
     "output_type": "stream",
     "text": [
      "[Parallel(n_jobs=12)]: Done  26 tasks      | elapsed:    0.1s\n",
      "[Parallel(n_jobs=12)]: Done 176 tasks      | elapsed:    0.9s\n",
      "[Parallel(n_jobs=12)]: Done 426 tasks      | elapsed:    2.4s\n",
      "[Parallel(n_jobs=12)]: Done 470 out of 470 | elapsed:    2.6s finished\n"
     ]
    },
    {
     "name": "stdout",
     "output_type": "stream",
     "text": [
      "time to predict:  3.2589190006256104 \n",
      "\n"
     ]
    },
    {
     "name": "stderr",
     "output_type": "stream",
     "text": [
      "[Parallel(n_jobs=12)]: Done  26 tasks      | elapsed:    0.1s\n",
      "[Parallel(n_jobs=12)]: Done 176 tasks      | elapsed:    1.0s\n",
      "[Parallel(n_jobs=12)]: Done 426 tasks      | elapsed:    2.4s\n",
      "[Parallel(n_jobs=12)]: Done 470 out of 470 | elapsed:    2.6s finished\n"
     ]
    },
    {
     "name": "stdout",
     "output_type": "stream",
     "text": [
      "training score:  0.842283864365\n",
      "crossval score:  0.810741862294\n",
      "oob score:  0.978437537074\n",
      "Done ::  20\n",
      "Model with  40  max_features \n"
     ]
    },
    {
     "name": "stderr",
     "output_type": "stream",
     "text": [
      "[Parallel(n_jobs=-1)]: Done  26 tasks      | elapsed:    3.1s\n",
      "[Parallel(n_jobs=-1)]: Done 176 tasks      | elapsed:   17.2s\n",
      "[Parallel(n_jobs=-1)]: Done 426 tasks      | elapsed:   40.9s\n",
      "[Parallel(n_jobs=-1)]: Done 470 out of 470 | elapsed:   44.7s finished\n"
     ]
    },
    {
     "name": "stdout",
     "output_type": "stream",
     "text": [
      "time to fit:  59.90058708190918\n"
     ]
    },
    {
     "name": "stderr",
     "output_type": "stream",
     "text": [
      "[Parallel(n_jobs=12)]: Done  26 tasks      | elapsed:    0.1s\n",
      "[Parallel(n_jobs=12)]: Done 176 tasks      | elapsed:    0.9s\n",
      "[Parallel(n_jobs=12)]: Done 426 tasks      | elapsed:    2.4s\n",
      "[Parallel(n_jobs=12)]: Done 470 out of 470 | elapsed:    2.6s finished\n"
     ]
    },
    {
     "name": "stdout",
     "output_type": "stream",
     "text": [
      "time to predict:  3.2427890300750732 \n",
      "\n"
     ]
    },
    {
     "name": "stderr",
     "output_type": "stream",
     "text": [
      "[Parallel(n_jobs=12)]: Done  26 tasks      | elapsed:    0.1s\n",
      "[Parallel(n_jobs=12)]: Done 176 tasks      | elapsed:    1.0s\n",
      "[Parallel(n_jobs=12)]: Done 426 tasks      | elapsed:    2.4s\n",
      "[Parallel(n_jobs=12)]: Done 470 out of 470 | elapsed:    2.6s finished\n"
     ]
    },
    {
     "name": "stdout",
     "output_type": "stream",
     "text": [
      "training score:  0.829496552369\n",
      "crossval score:  0.813617607516\n",
      "oob score:  0.978401286564\n",
      "Done ::  40\n",
      "Model with  50  max_features \n"
     ]
    },
    {
     "name": "stderr",
     "output_type": "stream",
     "text": [
      "[Parallel(n_jobs=-1)]: Done  26 tasks      | elapsed:    3.2s\n",
      "[Parallel(n_jobs=-1)]: Done 176 tasks      | elapsed:   17.2s\n",
      "[Parallel(n_jobs=-1)]: Done 426 tasks      | elapsed:   41.8s\n",
      "[Parallel(n_jobs=-1)]: Done 470 out of 470 | elapsed:   45.6s finished\n"
     ]
    },
    {
     "name": "stdout",
     "output_type": "stream",
     "text": [
      "time to fit:  60.84084892272949\n"
     ]
    },
    {
     "name": "stderr",
     "output_type": "stream",
     "text": [
      "[Parallel(n_jobs=12)]: Done  26 tasks      | elapsed:    0.1s\n",
      "[Parallel(n_jobs=12)]: Done 176 tasks      | elapsed:    1.0s\n",
      "[Parallel(n_jobs=12)]: Done 426 tasks      | elapsed:    2.4s\n",
      "[Parallel(n_jobs=12)]: Done 470 out of 470 | elapsed:    2.7s finished\n"
     ]
    },
    {
     "name": "stdout",
     "output_type": "stream",
     "text": [
      "time to predict:  3.2547965049743652 \n",
      "\n"
     ]
    },
    {
     "name": "stderr",
     "output_type": "stream",
     "text": [
      "[Parallel(n_jobs=12)]: Done  26 tasks      | elapsed:    0.1s\n",
      "[Parallel(n_jobs=12)]: Done 176 tasks      | elapsed:    1.0s\n",
      "[Parallel(n_jobs=12)]: Done 426 tasks      | elapsed:    2.5s\n",
      "[Parallel(n_jobs=12)]: Done 470 out of 470 | elapsed:    2.7s finished\n"
     ]
    },
    {
     "name": "stdout",
     "output_type": "stream",
     "text": [
      "training score:  0.826901148645\n",
      "crossval score:  0.814501582275\n",
      "oob score:  0.978397991063\n",
      "Done ::  50\n",
      "Model with  60  max_features \n"
     ]
    },
    {
     "name": "stderr",
     "output_type": "stream",
     "text": [
      "[Parallel(n_jobs=-1)]: Done  26 tasks      | elapsed:    3.5s\n",
      "[Parallel(n_jobs=-1)]: Done 176 tasks      | elapsed:   18.5s\n",
      "[Parallel(n_jobs=-1)]: Done 426 tasks      | elapsed:   44.3s\n",
      "[Parallel(n_jobs=-1)]: Done 470 out of 470 | elapsed:   48.1s finished\n"
     ]
    },
    {
     "name": "stdout",
     "output_type": "stream",
     "text": [
      "time to fit:  63.193058013916016\n"
     ]
    },
    {
     "name": "stderr",
     "output_type": "stream",
     "text": [
      "[Parallel(n_jobs=12)]: Done  26 tasks      | elapsed:    0.1s\n",
      "[Parallel(n_jobs=12)]: Done 176 tasks      | elapsed:    0.9s\n",
      "[Parallel(n_jobs=12)]: Done 426 tasks      | elapsed:    2.3s\n",
      "[Parallel(n_jobs=12)]: Done 470 out of 470 | elapsed:    2.5s finished\n"
     ]
    },
    {
     "name": "stdout",
     "output_type": "stream",
     "text": [
      "time to predict:  3.1826536655426025 \n",
      "\n"
     ]
    },
    {
     "name": "stderr",
     "output_type": "stream",
     "text": [
      "[Parallel(n_jobs=12)]: Done  26 tasks      | elapsed:    0.1s\n",
      "[Parallel(n_jobs=12)]: Done 176 tasks      | elapsed:    0.9s\n",
      "[Parallel(n_jobs=12)]: Done 426 tasks      | elapsed:    2.3s\n",
      "[Parallel(n_jobs=12)]: Done 470 out of 470 | elapsed:    2.5s finished\n"
     ]
    },
    {
     "name": "stdout",
     "output_type": "stream",
     "text": [
      "training score:  0.82566539075\n",
      "crossval score:  0.814110289982\n",
      "oob score:  0.978427650571\n",
      "Done ::  60\n",
      "Model with  70  max_features \n"
     ]
    },
    {
     "name": "stderr",
     "output_type": "stream",
     "text": [
      "[Parallel(n_jobs=-1)]: Done  26 tasks      | elapsed:    3.3s\n",
      "[Parallel(n_jobs=-1)]: Done 176 tasks      | elapsed:   17.9s\n",
      "[Parallel(n_jobs=-1)]: Done 426 tasks      | elapsed:   42.1s\n",
      "[Parallel(n_jobs=-1)]: Done 470 out of 470 | elapsed:   46.1s finished\n"
     ]
    },
    {
     "name": "stdout",
     "output_type": "stream",
     "text": [
      "time to fit:  61.55319142341614\n"
     ]
    },
    {
     "name": "stderr",
     "output_type": "stream",
     "text": [
      "[Parallel(n_jobs=12)]: Done  26 tasks      | elapsed:    0.1s\n",
      "[Parallel(n_jobs=12)]: Done 176 tasks      | elapsed:    0.9s\n",
      "[Parallel(n_jobs=12)]: Done 426 tasks      | elapsed:    2.3s\n",
      "[Parallel(n_jobs=12)]: Done 470 out of 470 | elapsed:    2.5s finished\n"
     ]
    },
    {
     "name": "stdout",
     "output_type": "stream",
     "text": [
      "time to predict:  3.1748204231262207 \n",
      "\n"
     ]
    },
    {
     "name": "stderr",
     "output_type": "stream",
     "text": [
      "[Parallel(n_jobs=12)]: Done  26 tasks      | elapsed:    0.1s\n",
      "[Parallel(n_jobs=12)]: Done 176 tasks      | elapsed:    0.9s\n",
      "[Parallel(n_jobs=12)]: Done 426 tasks      | elapsed:    2.3s\n",
      "[Parallel(n_jobs=12)]: Done 470 out of 470 | elapsed:    2.5s finished\n"
     ]
    },
    {
     "name": "stdout",
     "output_type": "stream",
     "text": [
      "training score:  0.824167965919\n",
      "crossval score:  0.813916057464\n",
      "oob score:  0.978404582065\n",
      "Done ::  70\n",
      "Model with  80  max_features \n"
     ]
    },
    {
     "name": "stderr",
     "output_type": "stream",
     "text": [
      "[Parallel(n_jobs=-1)]: Done  26 tasks      | elapsed:    3.2s\n",
      "[Parallel(n_jobs=-1)]: Done 176 tasks      | elapsed:   17.1s\n",
      "[Parallel(n_jobs=-1)]: Done 426 tasks      | elapsed:   41.1s\n",
      "[Parallel(n_jobs=-1)]: Done 470 out of 470 | elapsed:   45.0s finished\n"
     ]
    },
    {
     "name": "stdout",
     "output_type": "stream",
     "text": [
      "time to fit:  59.93282699584961\n"
     ]
    },
    {
     "name": "stderr",
     "output_type": "stream",
     "text": [
      "[Parallel(n_jobs=12)]: Done  26 tasks      | elapsed:    0.1s\n",
      "[Parallel(n_jobs=12)]: Done 176 tasks      | elapsed:    0.9s\n",
      "[Parallel(n_jobs=12)]: Done 426 tasks      | elapsed:    2.2s\n",
      "[Parallel(n_jobs=12)]: Done 470 out of 470 | elapsed:    2.4s finished\n"
     ]
    },
    {
     "name": "stdout",
     "output_type": "stream",
     "text": [
      "time to predict:  3.0674798488616943 \n",
      "\n"
     ]
    },
    {
     "name": "stderr",
     "output_type": "stream",
     "text": [
      "[Parallel(n_jobs=12)]: Done  26 tasks      | elapsed:    0.1s\n",
      "[Parallel(n_jobs=12)]: Done 176 tasks      | elapsed:    0.9s\n",
      "[Parallel(n_jobs=12)]: Done 426 tasks      | elapsed:    2.2s\n",
      "[Parallel(n_jobs=12)]: Done 470 out of 470 | elapsed:    2.4s finished\n"
     ]
    },
    {
     "name": "stdout",
     "output_type": "stream",
     "text": [
      "training score:  0.823311800698\n",
      "crossval score:  0.814450887189\n",
      "oob score:  0.978332081043\n",
      "Done ::  80\n",
      "Model with  90  max_features \n"
     ]
    },
    {
     "name": "stderr",
     "output_type": "stream",
     "text": [
      "[Parallel(n_jobs=-1)]: Done  26 tasks      | elapsed:    3.2s\n",
      "[Parallel(n_jobs=-1)]: Done 176 tasks      | elapsed:   17.2s\n",
      "[Parallel(n_jobs=-1)]: Done 426 tasks      | elapsed:   41.2s\n",
      "[Parallel(n_jobs=-1)]: Done 470 out of 470 | elapsed:   45.0s finished\n"
     ]
    },
    {
     "name": "stdout",
     "output_type": "stream",
     "text": [
      "time to fit:  59.88937854766846\n"
     ]
    },
    {
     "name": "stderr",
     "output_type": "stream",
     "text": [
      "[Parallel(n_jobs=12)]: Done  26 tasks      | elapsed:    0.1s\n",
      "[Parallel(n_jobs=12)]: Done 176 tasks      | elapsed:    0.9s\n",
      "[Parallel(n_jobs=12)]: Done 426 tasks      | elapsed:    2.2s\n",
      "[Parallel(n_jobs=12)]: Done 470 out of 470 | elapsed:    2.4s finished\n"
     ]
    },
    {
     "name": "stdout",
     "output_type": "stream",
     "text": [
      "time to predict:  3.0707204341888428 \n",
      "\n"
     ]
    },
    {
     "name": "stderr",
     "output_type": "stream",
     "text": [
      "[Parallel(n_jobs=12)]: Done  26 tasks      | elapsed:    0.1s\n",
      "[Parallel(n_jobs=12)]: Done 176 tasks      | elapsed:    0.9s\n",
      "[Parallel(n_jobs=12)]: Done 426 tasks      | elapsed:    2.2s\n",
      "[Parallel(n_jobs=12)]: Done 470 out of 470 | elapsed:    2.4s finished\n"
     ]
    },
    {
     "name": "stdout",
     "output_type": "stream",
     "text": [
      "training score:  0.822631013989\n",
      "crossval score:  0.814421824578\n",
      "oob score:  0.978328785542\n",
      "Done ::  90\n",
      "total time  472.07791090011597\n"
     ]
    }
   ],
   "source": [
    "from sklearn.linear_model import LogisticRegression\n",
    "from sklearn.ensemble import RandomForestClassifier\n",
    "from sklearn.metrics import roc_auc_score\n",
    "import time\n",
    "t1 = time.time()\n",
    "dict3 = {}\n",
    "dict4 = {}\n",
    "for i in [20, 40, 50, 60, 70, 80, 90]:\n",
    "    \n",
    "    print(\"Model with \", i, \" max_features \")\n",
    "    model_mod = RandomForestClassifier(n_estimators=470, min_samples_split=i, verbose=1, oob_score=True, n_jobs=-1, random_state=42)#lets use the fucing cores\n",
    "    start = time.time()\n",
    "    model_mod.fit(X_train[cols_to_use], y_train)\n",
    "    print(\"time to fit: \", time.time()-start)\n",
    "    start = time.time()\n",
    "    pred = model_mod.predict(X_test)\n",
    "    print(\"time to predict: \", time.time()-start ,\"\\n\")\n",
    "    print(\"training score: \", roc_auc_score(y_train, model_mod.predict(X_train)))\n",
    "    print(\"crossval score: \", roc_auc_score(y_test, pred))\n",
    "    print(\"oob score: \", model_mod.oob_score_)\n",
    "    dict3[i]=roc_auc_score(y_test, pred)\n",
    "    dict4[i]=model_mod.oob_score_\n",
    "    print(\"Done :: \", i)\n",
    "print(\"total time \", time.time()-t1)"
   ]
  },
  {
   "cell_type": "markdown",
   "metadata": {},
   "source": [
    "400, njob=-1\n",
    "training score:  1.0\n",
    "crossval score:  0.799803514688\n",
    "oob score:  0.978233216013\n",
    "\n",
    "0    294387\n",
    "1      9058\n",
    "Name: 0, dtype: int64\n",
    "0    292421\n",
    "1     11024\n",
    "Name: click, dtype: int64\n",
    "\n",
    "600, njob=-1\n",
    "worse performance\n",
    "\n",
    "470, 510 looks good to me\n",
    "\n",
    "d1,2 : nestimators\n",
    "d 5,6 :\n",
    "d 3, 4 ; min sample split"
   ]
  },
  {
   "cell_type": "markdown",
   "metadata": {},
   "source": [
    "# MODEL 1\n",
    "    oob score:  0.922385828199\n",
    "    public score : 0.67484\n",
    "    dont change this one now, add more cells\n",
    "    imbalanced data treated : yes.\n",
    "    n_estimators=500, min_samples_leaf=20, min_samples_split=50,  verbose=1, oob_score=True, n_jobs=-1, random_state=42"
   ]
  },
  {
   "cell_type": "code",
   "execution_count": 34,
   "metadata": {
    "scrolled": false
   },
   "outputs": [
    {
     "name": "stdout",
     "output_type": "stream",
     "text": [
      "Model with  20  n estimators\n"
     ]
    },
    {
     "name": "stderr",
     "output_type": "stream",
     "text": [
      "[Parallel(n_jobs=-1)]: Done  26 tasks      | elapsed:   17.6s\n",
      "[Parallel(n_jobs=-1)]: Done 176 tasks      | elapsed:  1.6min\n",
      "[Parallel(n_jobs=-1)]: Done 426 tasks      | elapsed:  3.7min\n",
      "[Parallel(n_jobs=-1)]: Done 470 out of 470 | elapsed:  4.0min finished\n"
     ]
    },
    {
     "name": "stdout",
     "output_type": "stream",
     "text": [
      "time to fit:  299.62747049331665\n",
      "time to predict:  0.0 \n",
      "\n"
     ]
    },
    {
     "name": "stderr",
     "output_type": "stream",
     "text": [
      "[Parallel(n_jobs=12)]: Done  26 tasks      | elapsed:    0.2s\n",
      "[Parallel(n_jobs=12)]: Done 176 tasks      | elapsed:    1.7s\n",
      "[Parallel(n_jobs=12)]: Done 426 tasks      | elapsed:    4.0s\n",
      "[Parallel(n_jobs=12)]: Done 470 out of 470 | elapsed:    4.4s finished\n"
     ]
    },
    {
     "name": "stdout",
     "output_type": "stream",
     "text": [
      "training score:  0.918312706297\n",
      "oob score:  0.929364126495\n",
      "Done ::  20\n",
      "total time  304.6990611553192\n"
     ]
    }
   ],
   "source": [
    "from sklearn.linear_model import LogisticRegression\n",
    "from sklearn.ensemble import RandomForestClassifier\n",
    "from sklearn.metrics import roc_auc_score\n",
    "import time\n",
    "t1 = time.time()\n",
    "dict5 = {}\n",
    "dict6 = {}\n",
    "for i in [20]:#, 4, 5, 10, 20, 50, 60, 70, 80, 100, 300, 500]:\n",
    "    \n",
    "    print(\"Model with \", i, \" n estimators\")\n",
    "    model_mod = RandomForestClassifier(n_estimators=470, min_samples_split=50,  verbose=1, oob_score=True, n_jobs=-1, random_state=42)#lets use the fucing cores\n",
    "    start = time.time()\n",
    "    model_mod.fit(new_df[cols_to_use], new_df['click'])\n",
    "    print(\"time to fit: \", time.time()-start)\n",
    "    start = time.time()\n",
    "#     pred = model_mod.predict(X_test)\n",
    "    print(\"time to predict: \", time.time()-start ,\"\\n\")\n",
    "    print(\"training score: \", roc_auc_score(y_train, model_mod.predict(X_train)))\n",
    "#     print(\"crossval score: \", roc_auc_score(y_test, pred))\n",
    "    print(\"oob score: \", model_mod.oob_score_)\n",
    "#     dict3[i]=roc_auc_score(y_test, pred)\n",
    "#     dict4[i]=model_mod.oob_score_\n",
    "    print(\"Done :: \", i)\n",
    "print(\"total time \", time.time()-t1)"
   ]
  },
  {
   "cell_type": "code",
   "execution_count": 40,
   "metadata": {},
   "outputs": [
    {
     "data": {
      "text/plain": [
       "500"
      ]
     },
     "execution_count": 40,
     "metadata": {},
     "output_type": "execute_result"
    }
   ],
   "source": [
    "import operator\n",
    "max(dict2.items(), key=operator.itemgetter(1))[0]"
   ]
  },
  {
   "cell_type": "code",
   "execution_count": 39,
   "metadata": {},
   "outputs": [
    {
     "data": {
      "text/plain": [
       "0.79949729157596672"
      ]
     },
     "execution_count": 39,
     "metadata": {},
     "output_type": "execute_result"
    }
   ],
   "source": [
    "max(dict1.items(), key=operator.itemgetter(1))[0]"
   ]
  },
  {
   "cell_type": "code",
   "execution_count": 42,
   "metadata": {
    "scrolled": true
   },
   "outputs": [
    {
     "data": {
      "text/plain": [
       "0.79893991850948654"
      ]
     },
     "execution_count": 42,
     "metadata": {},
     "output_type": "execute_result"
    }
   ],
   "source": [
    "dict1[500]"
   ]
  },
  {
   "cell_type": "code",
   "execution_count": 41,
   "metadata": {},
   "outputs": [
    {
     "data": {
      "text/plain": [
       "0.97786411990350774"
      ]
     },
     "execution_count": 41,
     "metadata": {},
     "output_type": "execute_result"
    }
   ],
   "source": [
    "dict2[500]"
   ]
  },
  {
   "cell_type": "code",
   "execution_count": 47,
   "metadata": {},
   "outputs": [
    {
     "data": {
      "text/plain": [
       "80"
      ]
     },
     "execution_count": 47,
     "metadata": {},
     "output_type": "execute_result"
    }
   ],
   "source": [
    "max(dict3.items(), key=operator.itemgetter(1))[0]"
   ]
  },
  {
   "cell_type": "code",
   "execution_count": 48,
   "metadata": {},
   "outputs": [
    {
     "data": {
      "text/plain": [
       "4"
      ]
     },
     "execution_count": 48,
     "metadata": {},
     "output_type": "execute_result"
    }
   ],
   "source": [
    "max(dict4.items(), key=operator.itemgetter(1))[0]"
   ]
  },
  {
   "cell_type": "code",
   "execution_count": null,
   "metadata": {
    "collapsed": true
   },
   "outputs": [],
   "source": [
    "max(dict5.items(), key=operator.itemgetter(1))[0]"
   ]
  },
  {
   "cell_type": "code",
   "execution_count": null,
   "metadata": {
    "collapsed": true
   },
   "outputs": [],
   "source": [
    "max(dict6.items(), key=operator.itemgetter(1))[0]"
   ]
  },
  {
   "cell_type": "code",
   "execution_count": 18,
   "metadata": {},
   "outputs": [
    {
     "name": "stdout",
     "output_type": "stream",
     "text": [
      "0    294463\n",
      "1      8982\n",
      "Name: 0, dtype: int64\n",
      "0    292444\n",
      "1     11001\n",
      "Name: click, dtype: int64\n"
     ]
    }
   ],
   "source": [
    "pred = pd.DataFrame(pred)\n",
    "print(pred[0].value_counts())\n",
    "y_test = pd.Series(y_test)\n",
    "print(y_test.value_counts())"
   ]
  },
  {
   "cell_type": "code",
   "execution_count": 23,
   "metadata": {},
   "outputs": [
    {
     "data": {
      "text/plain": [
       "42"
      ]
     },
     "execution_count": 23,
     "metadata": {},
     "output_type": "execute_result"
    }
   ],
   "source": [
    "model_mod.random_state"
   ]
  },
  {
   "cell_type": "code",
   "execution_count": 26,
   "metadata": {
    "scrolled": false
   },
   "outputs": [
    {
     "data": {
      "text/plain": [
       "1608637542"
      ]
     },
     "execution_count": 26,
     "metadata": {},
     "output_type": "execute_result"
    }
   ],
   "source": [
    "model_mod.estimators_[0].random_state"
   ]
  },
  {
   "cell_type": "code",
   "execution_count": 19,
   "metadata": {
    "collapsed": true
   },
   "outputs": [],
   "source": [
    "a = test.columns"
   ]
  },
  {
   "cell_type": "code",
   "execution_count": 38,
   "metadata": {
    "scrolled": false
   },
   "outputs": [
    {
     "name": "stderr",
     "output_type": "stream",
     "text": [
      "[Parallel(n_jobs=12)]: Done  26 tasks      | elapsed:    3.8s\n",
      "[Parallel(n_jobs=12)]: Done 176 tasks      | elapsed:   19.4s\n",
      "[Parallel(n_jobs=12)]: Done 426 tasks      | elapsed:   45.9s\n",
      "[Parallel(n_jobs=12)]: Done 470 out of 470 | elapsed:   49.9s finished\n"
     ]
    }
   ],
   "source": [
    "pred = model_mod.predict_proba(test[cols_to_use])"
   ]
  },
  {
   "cell_type": "code",
   "execution_count": 39,
   "metadata": {},
   "outputs": [
    {
     "data": {
      "text/plain": [
       "(3706907, 2)"
      ]
     },
     "execution_count": 39,
     "metadata": {},
     "output_type": "execute_result"
    }
   ],
   "source": [
    "pred = pd.DataFrame(pred)\n",
    "pred.shape"
   ]
  },
  {
   "cell_type": "code",
   "execution_count": 22,
   "metadata": {},
   "outputs": [
    {
     "ename": "NameError",
     "evalue": "name 'model' is not defined",
     "output_type": "error",
     "traceback": [
      "\u001b[1;31m---------------------------------------------------------------------------\u001b[0m",
      "\u001b[1;31mNameError\u001b[0m                                 Traceback (most recent call last)",
      "\u001b[1;32m<ipython-input-22-2074c479ceca>\u001b[0m in \u001b[0;36m<module>\u001b[1;34m()\u001b[0m\n\u001b[1;32m----> 1\u001b[1;33m \u001b[0mmodel\u001b[0m\u001b[1;33m.\u001b[0m\u001b[0mfeature_importances_\u001b[0m\u001b[1;33m\u001b[0m\u001b[0m\n\u001b[0m",
      "\u001b[1;31mNameError\u001b[0m: name 'model' is not defined"
     ]
    }
   ],
   "source": [
    "model.feature_importances_"
   ]
  },
  {
   "cell_type": "code",
   "execution_count": 40,
   "metadata": {},
   "outputs": [],
   "source": [
    "sub = pd.DataFrame({'ID':test['ID'], 'click':pred[1]})\n",
    "sub.to_csv('smallData_rf_666.csv', index=False)"
   ]
  },
  {
   "cell_type": "code",
   "execution_count": 26,
   "metadata": {
    "collapsed": true
   },
   "outputs": [],
   "source": [
    "train.loc[a].to_csv(\"small_train.csv\")"
   ]
  }
 ],
 "metadata": {
  "kernelspec": {
   "display_name": "Python 3",
   "language": "python",
   "name": "python3"
  },
  "language_info": {
   "codemirror_mode": {
    "name": "ipython",
    "version": 3
   },
   "file_extension": ".py",
   "mimetype": "text/x-python",
   "name": "python",
   "nbconvert_exporter": "python",
   "pygments_lexer": "ipython3",
   "version": "3.6.1"
  }
 },
 "nbformat": 4,
 "nbformat_minor": 2
}
