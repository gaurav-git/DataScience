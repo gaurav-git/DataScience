{
 "cells": [
  {
   "cell_type": "markdown",
   "metadata": {},
   "source": [
    "# Decision Tree by gaurav"
   ]
  },
  {
   "cell_type": "markdown",
   "metadata": {},
   "source": [
    "### Load libraries and data"
   ]
  },
  {
   "cell_type": "code",
   "execution_count": 1,
   "metadata": {
    "collapsed": true
   },
   "outputs": [],
   "source": [
    "import pandas as pd\n",
    "import numpy as np\n",
    "# import lightgbm as lgb\n",
    "from sklearn.model_selection import train_test_split\n",
    "from sklearn.preprocessing import LabelEncoder"
   ]
  },
  {
   "cell_type": "code",
   "execution_count": 2,
   "metadata": {
    "collapsed": true
   },
   "outputs": [],
   "source": [
    "train = pd.read_csv(\"train.csv\")\n",
    "test = pd.read_csv(\"test.csv\")"
   ]
  },
  {
   "cell_type": "code",
   "execution_count": 3,
   "metadata": {},
   "outputs": [
    {
     "data": {
      "text/plain": [
       "ID             0.000000\n",
       "datetime       0.000000\n",
       "siteid         0.099896\n",
       "offerid        0.000000\n",
       "category       0.000000\n",
       "merchant       0.000000\n",
       "countrycode    0.000000\n",
       "browserid      0.050118\n",
       "devid          0.149969\n",
       "click          0.000000\n",
       "dtype: float64"
      ]
     },
     "execution_count": 3,
     "metadata": {},
     "output_type": "execute_result"
    }
   ],
   "source": [
    "# check missing values per column\n",
    "train.isnull().sum(axis=0)/train.shape[0]"
   ]
  },
  {
   "cell_type": "code",
   "execution_count": 4,
   "metadata": {},
   "outputs": [
    {
     "data": {
      "text/plain": [
       "0    0.963979\n",
       "1    0.036021\n",
       "Name: click, dtype: float64"
      ]
     },
     "execution_count": 4,
     "metadata": {},
     "output_type": "execute_result"
    }
   ],
   "source": [
    "train.click.value_counts()/train.shape[0]"
   ]
  },
  {
   "cell_type": "code",
   "execution_count": 27,
   "metadata": {
    "collapsed": true
   },
   "outputs": [],
   "source": [
    "df_ones = train[train.click==1]\n",
    "df_zero = train[train.click==0]"
   ]
  },
  {
   "cell_type": "code",
   "execution_count": 110,
   "metadata": {},
   "outputs": [
    {
     "name": "stdout",
     "output_type": "stream",
     "text": [
      "437214\n",
      "867214\n"
     ]
    }
   ],
   "source": [
    "rows = np.random.choice(df_zero.index.values, 430000)\n",
    "print(df_ones.shape[0])\n",
    "new_df = df_ones.append(df_zero.loc[rows])\n",
    "print(new_df.shape[0])\n",
    "rows = np.random.choice(new_df.index.values, new_df.shape[0])\n",
    "new_df = new_df.loc[rows]"
   ]
  },
  {
   "cell_type": "markdown",
   "metadata": {},
   "source": [
    "### Clean Data and Create Features"
   ]
  },
  {
   "cell_type": "code",
   "execution_count": 5,
   "metadata": {
    "collapsed": true
   },
   "outputs": [],
   "source": [
    "train['siteid'].fillna(-999, inplace=True)\n",
    "test['siteid'].fillna(-999, inplace=True)\n",
    "\n",
    "train['browserid'].fillna(\"None\", inplace=True)\n",
    "test['browserid'].fillna(\"None\", inplace=True)\n",
    "\n",
    "train['devid'].fillna(\"None\", inplace=True)\n",
    "test['devid'].fillna(\"None\", inplace=True)"
   ]
  },
  {
   "cell_type": "code",
   "execution_count": 7,
   "metadata": {},
   "outputs": [],
   "source": [
    "# set datatime\n",
    "train['datetime'] = pd.to_datetime(train['datetime'])\n",
    "test['datetime'] = pd.to_datetime(test['datetime'])"
   ]
  },
  {
   "cell_type": "code",
   "execution_count": 8,
   "metadata": {
    "collapsed": true
   },
   "outputs": [],
   "source": [
    "# create datetime variable\n",
    "train['tweekday'] = train['datetime'].dt.weekday\n",
    "train['thour'] = train['datetime'].dt.hour\n",
    "train['tminute'] = train['datetime'].dt.minute\n",
    "\n",
    "test['tweekday'] = test['datetime'].dt.weekday\n",
    "test['thour'] = test['datetime'].dt.hour\n",
    "test['tminute'] = test['datetime'].dt.minute"
   ]
  },
  {
   "cell_type": "code",
   "execution_count": 9,
   "metadata": {
    "collapsed": true
   },
   "outputs": [],
   "source": [
    "cols = ['siteid','offerid','category','merchant']\n",
    "\n",
    "for x in cols:\n",
    "    train[x] = train[x].astype('object')\n",
    "    test[x] = test[x].astype('object')"
   ]
  },
  {
   "cell_type": "code",
   "execution_count": 10,
   "metadata": {
    "collapsed": true
   },
   "outputs": [],
   "source": [
    "cat_cols = cols + ['countrycode','browserid','devid']"
   ]
  },
  {
   "cell_type": "code",
   "execution_count": 11,
   "metadata": {
    "collapsed": true
   },
   "outputs": [],
   "source": [
    "for col in cat_cols:\n",
    "    lbl = LabelEncoder()\n",
    "    lbl.fit(list(train[col].values) + list(test[col].values))\n",
    "    train[col] = lbl.transform(list(train[col].values))\n",
    "    test[col] = lbl.transform(list(test[col].values))"
   ]
  },
  {
   "cell_type": "code",
   "execution_count": 12,
   "metadata": {},
   "outputs": [
    {
     "data": {
      "text/html": [
       "<div>\n",
       "<style>\n",
       "    .dataframe thead tr:only-child th {\n",
       "        text-align: right;\n",
       "    }\n",
       "\n",
       "    .dataframe thead th {\n",
       "        text-align: left;\n",
       "    }\n",
       "\n",
       "    .dataframe tbody tr th {\n",
       "        vertical-align: top;\n",
       "    }\n",
       "</style>\n",
       "<table border=\"1\" class=\"dataframe\">\n",
       "  <thead>\n",
       "    <tr style=\"text-align: right;\">\n",
       "      <th></th>\n",
       "      <th>ID</th>\n",
       "      <th>datetime</th>\n",
       "      <th>siteid</th>\n",
       "      <th>offerid</th>\n",
       "      <th>category</th>\n",
       "      <th>merchant</th>\n",
       "      <th>countrycode</th>\n",
       "      <th>browserid</th>\n",
       "      <th>devid</th>\n",
       "      <th>click</th>\n",
       "      <th>tweekday</th>\n",
       "      <th>thour</th>\n",
       "      <th>tminute</th>\n",
       "    </tr>\n",
       "  </thead>\n",
       "  <tbody>\n",
       "    <tr>\n",
       "      <th>0</th>\n",
       "      <td>IDsrk7SoW</td>\n",
       "      <td>2017-01-14 09:42:09</td>\n",
       "      <td>128865</td>\n",
       "      <td>784773</td>\n",
       "      <td>48</td>\n",
       "      <td>127</td>\n",
       "      <td>4</td>\n",
       "      <td>2</td>\n",
       "      <td>2</td>\n",
       "      <td>0</td>\n",
       "      <td>5</td>\n",
       "      <td>9</td>\n",
       "      <td>42</td>\n",
       "    </tr>\n",
       "    <tr>\n",
       "      <th>1</th>\n",
       "      <td>IDmMSxHur</td>\n",
       "      <td>2017-01-18 17:50:53</td>\n",
       "      <td>142053</td>\n",
       "      <td>157563</td>\n",
       "      <td>59</td>\n",
       "      <td>65</td>\n",
       "      <td>1</td>\n",
       "      <td>8</td>\n",
       "      <td>0</td>\n",
       "      <td>0</td>\n",
       "      <td>2</td>\n",
       "      <td>17</td>\n",
       "      <td>50</td>\n",
       "    </tr>\n",
       "    <tr>\n",
       "      <th>2</th>\n",
       "      <td>IDVLNN0Ut</td>\n",
       "      <td>2017-01-11 12:46:49</td>\n",
       "      <td>2618</td>\n",
       "      <td>458279</td>\n",
       "      <td>69</td>\n",
       "      <td>15</td>\n",
       "      <td>0</td>\n",
       "      <td>1</td>\n",
       "      <td>2</td>\n",
       "      <td>0</td>\n",
       "      <td>2</td>\n",
       "      <td>12</td>\n",
       "      <td>46</td>\n",
       "    </tr>\n",
       "    <tr>\n",
       "      <th>3</th>\n",
       "      <td>ID32T6wwQ</td>\n",
       "      <td>2017-01-17 10:18:43</td>\n",
       "      <td>243406</td>\n",
       "      <td>345067</td>\n",
       "      <td>117</td>\n",
       "      <td>507</td>\n",
       "      <td>2</td>\n",
       "      <td>2</td>\n",
       "      <td>1</td>\n",
       "      <td>0</td>\n",
       "      <td>1</td>\n",
       "      <td>10</td>\n",
       "      <td>18</td>\n",
       "    </tr>\n",
       "    <tr>\n",
       "      <th>4</th>\n",
       "      <td>IDqUShzMg</td>\n",
       "      <td>2017-01-14 16:02:33</td>\n",
       "      <td>154278</td>\n",
       "      <td>417948</td>\n",
       "      <td>36</td>\n",
       "      <td>276</td>\n",
       "      <td>3</td>\n",
       "      <td>8</td>\n",
       "      <td>0</td>\n",
       "      <td>0</td>\n",
       "      <td>5</td>\n",
       "      <td>16</td>\n",
       "      <td>2</td>\n",
       "    </tr>\n",
       "  </tbody>\n",
       "</table>\n",
       "</div>"
      ],
      "text/plain": [
       "          ID            datetime  siteid  offerid  category  merchant  \\\n",
       "0  IDsrk7SoW 2017-01-14 09:42:09  128865   784773        48       127   \n",
       "1  IDmMSxHur 2017-01-18 17:50:53  142053   157563        59        65   \n",
       "2  IDVLNN0Ut 2017-01-11 12:46:49    2618   458279        69        15   \n",
       "3  ID32T6wwQ 2017-01-17 10:18:43  243406   345067       117       507   \n",
       "4  IDqUShzMg 2017-01-14 16:02:33  154278   417948        36       276   \n",
       "\n",
       "   countrycode  browserid  devid  click  tweekday  thour  tminute  \n",
       "0            4          2      2      0         5      9       42  \n",
       "1            1          8      0      0         2     17       50  \n",
       "2            0          1      2      0         2     12       46  \n",
       "3            2          2      1      0         1     10       18  \n",
       "4            3          8      0      0         5     16        2  "
      ]
     },
     "execution_count": 12,
     "metadata": {},
     "output_type": "execute_result"
    }
   ],
   "source": [
    "train.head()"
   ]
  },
  {
   "cell_type": "markdown",
   "metadata": {},
   "source": [
    "### Model Training"
   ]
  },
  {
   "cell_type": "code",
   "execution_count": 13,
   "metadata": {
    "collapsed": true
   },
   "outputs": [],
   "source": [
    "cols_to_use = list(set(train.columns) - set(['ID','datetime','click']))"
   ]
  },
  {
   "cell_type": "code",
   "execution_count": 14,
   "metadata": {
    "collapsed": true
   },
   "outputs": [],
   "source": [
    "X_train, X_test, y_train, y_test = train_test_split(train[cols_to_use], train['click'], test_size = 0.5)\n",
    "# print(y_train)"
   ]
  },
  {
   "cell_type": "code",
   "execution_count": 36,
   "metadata": {},
   "outputs": [
    {
     "name": "stdout",
     "output_type": "stream",
     "text": [
      "time to fit:  178.91224336624146\n",
      "time to predict:  1.8202931880950928\n",
      "training score:  0.999999914537\n",
      "crossval score:  0.766036743511\n"
     ]
    }
   ],
   "source": [
    "from sklearn.tree import DecisionTreeClassifier\n",
    "from sklearn.metrics import roc_auc_score\n",
    "import time\n",
    "\n",
    "model = DecisionTreeClassifier(class_weight={0:0.02,1:0.98})\n",
    "start = time.time()\n",
    "model.fit(X_train, y_train)\n",
    "print(\"time to fit: \", time.time()-start)\n",
    "start = time.time()\n",
    "pred = model.predict(X_test)\n",
    "print(\"time to predict: \", time.time()-start)\n",
    "print(\"training score: \", roc_auc_score(y_train, model.predict(X_train)))\n",
    "print(\"crossval score: \", roc_auc_score(y_test, pred))"
   ]
  },
  {
   "cell_type": "code",
   "execution_count": 38,
   "metadata": {},
   "outputs": [
    {
     "name": "stdout",
     "output_type": "stream",
     "text": [
      "acc. training score:  0.999999835226\n",
      "acc. crossval score:  0.969501087923\n"
     ]
    }
   ],
   "source": [
    "from sklearn.metrics import accuracy_score\n",
    "print(\"acc. training score: \", accuracy_score(y_train, model.predict(X_train)))\n",
    "print(\"acc. crossval score: \", accuracy_score(y_test, pred))"
   ]
  },
  {
   "cell_type": "code",
   "execution_count": 39,
   "metadata": {},
   "outputs": [
    {
     "name": "stdout",
     "output_type": "stream",
     "text": [
      "0    5863348\n",
      "1     205557\n",
      "Name: 0, dtype: int64\n",
      "0    5850119\n",
      "1     218786\n",
      "Name: click, dtype: int64\n"
     ]
    }
   ],
   "source": [
    "pred = pd.DataFrame(pred)\n",
    "print(pred[0].value_counts())\n",
    "y_test = pd.Series(y_test)\n",
    "print(y_test.value_counts())"
   ]
  },
  {
   "cell_type": "code",
   "execution_count": 41,
   "metadata": {},
   "outputs": [],
   "source": [
    "pred = pd.DataFrame(model.predict_proba(test[cols_to_use]))"
   ]
  },
  {
   "cell_type": "code",
   "execution_count": 43,
   "metadata": {},
   "outputs": [],
   "source": [
    "sub = pd.DataFrame({'ID':test['ID'], 'click':pred[1]})\n",
    "sub.to_csv('dt_2.csv', index=False)"
   ]
  }
 ],
 "metadata": {
  "kernelspec": {
   "display_name": "Python 3",
   "language": "python",
   "name": "python3"
  },
  "language_info": {
   "codemirror_mode": {
    "name": "ipython",
    "version": 3
   },
   "file_extension": ".py",
   "mimetype": "text/x-python",
   "name": "python",
   "nbconvert_exporter": "python",
   "pygments_lexer": "ipython3",
   "version": "3.6.4"
  }
 },
 "nbformat": 4,
 "nbformat_minor": 2
}
