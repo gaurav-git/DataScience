{
 "cells": [
  {
   "cell_type": "markdown",
   "metadata": {},
   "source": [
    "# RANDOM FOREST by gaurav"
   ]
  },
  {
   "cell_type": "markdown",
   "metadata": {},
   "source": [
    "### Load libraries and data"
   ]
  },
  {
   "cell_type": "code",
   "execution_count": 1,
   "metadata": {
    "collapsed": true
   },
   "outputs": [],
   "source": [
    "import pandas as pd\n",
    "import numpy as np\n",
    "# import lightgbm as lgb\n",
    "from sklearn.model_selection import train_test_split\n",
    "from sklearn.preprocessing import LabelEncoder"
   ]
  },
  {
   "cell_type": "code",
   "execution_count": 2,
   "metadata": {
    "collapsed": true
   },
   "outputs": [],
   "source": [
    "train = pd.read_csv(\"train.csv\")\n",
    "test = pd.read_csv(\"test.csv\")"
   ]
  },
  {
   "cell_type": "code",
   "execution_count": 3,
   "metadata": {
    "scrolled": true
   },
   "outputs": [
    {
     "data": {
      "text/plain": [
       "ID             0.000000\n",
       "datetime       0.000000\n",
       "siteid         0.099896\n",
       "offerid        0.000000\n",
       "category       0.000000\n",
       "merchant       0.000000\n",
       "countrycode    0.000000\n",
       "browserid      0.050118\n",
       "devid          0.149969\n",
       "click          0.000000\n",
       "dtype: float64"
      ]
     },
     "execution_count": 3,
     "metadata": {},
     "output_type": "execute_result"
    }
   ],
   "source": [
    "# check missing values per column\n",
    "train.isnull().sum(axis=0)/train.shape[0]"
   ]
  },
  {
   "cell_type": "code",
   "execution_count": 4,
   "metadata": {},
   "outputs": [
    {
     "data": {
      "text/plain": [
       "0    0.963979\n",
       "1    0.036021\n",
       "Name: click, dtype: float64"
      ]
     },
     "execution_count": 4,
     "metadata": {},
     "output_type": "execute_result"
    }
   ],
   "source": [
    "train.click.value_counts()/train.shape[0]"
   ]
  },
  {
   "cell_type": "code",
   "execution_count": 5,
   "metadata": {},
   "outputs": [
    {
     "data": {
      "text/plain": [
       "(437214, 10)"
      ]
     },
     "execution_count": 5,
     "metadata": {},
     "output_type": "execute_result"
    }
   ],
   "source": [
    "train[train.click==1].shape"
   ]
  },
  {
   "cell_type": "markdown",
   "metadata": {},
   "source": [
    "### Clean Data and Create Features"
   ]
  },
  {
   "cell_type": "code",
   "execution_count": 6,
   "metadata": {
    "collapsed": true
   },
   "outputs": [],
   "source": [
    "train['siteid'].fillna(-999, inplace=True)\n",
    "test['siteid'].fillna(-999, inplace=True)\n",
    "\n",
    "train['browserid'].fillna(\"None\", inplace=True)\n",
    "test['browserid'].fillna(\"None\", inplace=True)\n",
    "\n",
    "train['devid'].fillna(\"None\", inplace=True)\n",
    "test['devid'].fillna(\"None\", inplace=True)"
   ]
  },
  {
   "cell_type": "code",
   "execution_count": 7,
   "metadata": {
    "collapsed": true
   },
   "outputs": [],
   "source": [
    "# set datatime\n",
    "train['datetime'] = pd.to_datetime(train['datetime'])\n",
    "test['datetime'] = pd.to_datetime(test['datetime'])"
   ]
  },
  {
   "cell_type": "code",
   "execution_count": 8,
   "metadata": {
    "collapsed": true
   },
   "outputs": [],
   "source": [
    "# create datetime variable\n",
    "train['tweekday'] = train['datetime'].dt.weekday\n",
    "train['thour'] = train['datetime'].dt.hour\n",
    "train['tminute'] = train['datetime'].dt.minute\n",
    "\n",
    "test['tweekday'] = test['datetime'].dt.weekday\n",
    "test['thour'] = test['datetime'].dt.hour\n",
    "test['tminute'] = test['datetime'].dt.minute"
   ]
  },
  {
   "cell_type": "code",
   "execution_count": 9,
   "metadata": {
    "collapsed": true
   },
   "outputs": [],
   "source": [
    "cols = ['siteid','offerid','category','merchant']\n",
    "\n",
    "for x in cols:\n",
    "    train[x] = train[x].astype('object')\n",
    "    test[x] = test[x].astype('object')"
   ]
  },
  {
   "cell_type": "code",
   "execution_count": 10,
   "metadata": {
    "collapsed": true
   },
   "outputs": [],
   "source": [
    "cat_cols = cols + ['countrycode','browserid','devid']"
   ]
  },
  {
   "cell_type": "code",
   "execution_count": 11,
   "metadata": {
    "collapsed": true
   },
   "outputs": [],
   "source": [
    "for col in cat_cols:\n",
    "    lbl = LabelEncoder()\n",
    "    lbl.fit(list(train[col].values) + list(test[col].values))\n",
    "    train[col] = lbl.transform(list(train[col].values))\n",
    "    test[col] = lbl.transform(list(test[col].values))"
   ]
  },
  {
   "cell_type": "code",
   "execution_count": 12,
   "metadata": {},
   "outputs": [
    {
     "data": {
      "text/html": [
       "<div>\n",
       "<style>\n",
       "    .dataframe thead tr:only-child th {\n",
       "        text-align: right;\n",
       "    }\n",
       "\n",
       "    .dataframe thead th {\n",
       "        text-align: left;\n",
       "    }\n",
       "\n",
       "    .dataframe tbody tr th {\n",
       "        vertical-align: top;\n",
       "    }\n",
       "</style>\n",
       "<table border=\"1\" class=\"dataframe\">\n",
       "  <thead>\n",
       "    <tr style=\"text-align: right;\">\n",
       "      <th></th>\n",
       "      <th>ID</th>\n",
       "      <th>datetime</th>\n",
       "      <th>siteid</th>\n",
       "      <th>offerid</th>\n",
       "      <th>category</th>\n",
       "      <th>merchant</th>\n",
       "      <th>countrycode</th>\n",
       "      <th>browserid</th>\n",
       "      <th>devid</th>\n",
       "      <th>click</th>\n",
       "      <th>tweekday</th>\n",
       "      <th>thour</th>\n",
       "      <th>tminute</th>\n",
       "    </tr>\n",
       "  </thead>\n",
       "  <tbody>\n",
       "    <tr>\n",
       "      <th>0</th>\n",
       "      <td>IDsrk7SoW</td>\n",
       "      <td>2017-01-14 09:42:09</td>\n",
       "      <td>128865</td>\n",
       "      <td>784773</td>\n",
       "      <td>48</td>\n",
       "      <td>127</td>\n",
       "      <td>4</td>\n",
       "      <td>2</td>\n",
       "      <td>2</td>\n",
       "      <td>0</td>\n",
       "      <td>5</td>\n",
       "      <td>9</td>\n",
       "      <td>42</td>\n",
       "    </tr>\n",
       "    <tr>\n",
       "      <th>1</th>\n",
       "      <td>IDmMSxHur</td>\n",
       "      <td>2017-01-18 17:50:53</td>\n",
       "      <td>142053</td>\n",
       "      <td>157563</td>\n",
       "      <td>59</td>\n",
       "      <td>65</td>\n",
       "      <td>1</td>\n",
       "      <td>8</td>\n",
       "      <td>0</td>\n",
       "      <td>0</td>\n",
       "      <td>2</td>\n",
       "      <td>17</td>\n",
       "      <td>50</td>\n",
       "    </tr>\n",
       "    <tr>\n",
       "      <th>2</th>\n",
       "      <td>IDVLNN0Ut</td>\n",
       "      <td>2017-01-11 12:46:49</td>\n",
       "      <td>2618</td>\n",
       "      <td>458279</td>\n",
       "      <td>69</td>\n",
       "      <td>15</td>\n",
       "      <td>0</td>\n",
       "      <td>1</td>\n",
       "      <td>2</td>\n",
       "      <td>0</td>\n",
       "      <td>2</td>\n",
       "      <td>12</td>\n",
       "      <td>46</td>\n",
       "    </tr>\n",
       "    <tr>\n",
       "      <th>3</th>\n",
       "      <td>ID32T6wwQ</td>\n",
       "      <td>2017-01-17 10:18:43</td>\n",
       "      <td>243406</td>\n",
       "      <td>345067</td>\n",
       "      <td>117</td>\n",
       "      <td>507</td>\n",
       "      <td>2</td>\n",
       "      <td>2</td>\n",
       "      <td>1</td>\n",
       "      <td>0</td>\n",
       "      <td>1</td>\n",
       "      <td>10</td>\n",
       "      <td>18</td>\n",
       "    </tr>\n",
       "    <tr>\n",
       "      <th>4</th>\n",
       "      <td>IDqUShzMg</td>\n",
       "      <td>2017-01-14 16:02:33</td>\n",
       "      <td>154278</td>\n",
       "      <td>417948</td>\n",
       "      <td>36</td>\n",
       "      <td>276</td>\n",
       "      <td>3</td>\n",
       "      <td>8</td>\n",
       "      <td>0</td>\n",
       "      <td>0</td>\n",
       "      <td>5</td>\n",
       "      <td>16</td>\n",
       "      <td>2</td>\n",
       "    </tr>\n",
       "  </tbody>\n",
       "</table>\n",
       "</div>"
      ],
      "text/plain": [
       "          ID            datetime  siteid  offerid  category  merchant  \\\n",
       "0  IDsrk7SoW 2017-01-14 09:42:09  128865   784773        48       127   \n",
       "1  IDmMSxHur 2017-01-18 17:50:53  142053   157563        59        65   \n",
       "2  IDVLNN0Ut 2017-01-11 12:46:49    2618   458279        69        15   \n",
       "3  ID32T6wwQ 2017-01-17 10:18:43  243406   345067       117       507   \n",
       "4  IDqUShzMg 2017-01-14 16:02:33  154278   417948        36       276   \n",
       "\n",
       "   countrycode  browserid  devid  click  tweekday  thour  tminute  \n",
       "0            4          2      2      0         5      9       42  \n",
       "1            1          8      0      0         2     17       50  \n",
       "2            0          1      2      0         2     12       46  \n",
       "3            2          2      1      0         1     10       18  \n",
       "4            3          8      0      0         5     16        2  "
      ]
     },
     "execution_count": 12,
     "metadata": {},
     "output_type": "execute_result"
    }
   ],
   "source": [
    "train.head()"
   ]
  },
  {
   "cell_type": "code",
   "execution_count": 13,
   "metadata": {
    "collapsed": true
   },
   "outputs": [],
   "source": []
  },
  {
   "cell_type": "code",
   "execution_count": 14,
   "metadata": {},
   "outputs": [],
   "source": []
  },
  {
   "cell_type": "markdown",
   "metadata": {},
   "source": [
    "### Model Training"
   ]
  },
  {
   "cell_type": "code",
   "execution_count": 15,
   "metadata": {
    "collapsed": true
   },
   "outputs": [],
   "source": [
    "cols_to_use = list(set(train.columns) - set(['ID','datetime','click']))"
   ]
  },
  {
   "cell_type": "code",
   "execution_count": 16,
   "metadata": {},
   "outputs": [
    {
     "data": {
      "text/plain": [
       "606889"
      ]
     },
     "execution_count": 16,
     "metadata": {},
     "output_type": "execute_result"
    }
   ],
   "source": [
    "from sklearn.model_selection import StratifiedKFold\n",
    "skf = StratifiedKFold(n_splits=20, random_state=42)\n",
    "a = 0\n",
    "for i, j in skf.split(train[cols_to_use], train['click']):\n",
    "    a = j\n",
    "len(a)\n",
    "# train.loc[a].to_csv(\"small_train.csv\")\n"
   ]
  },
  {
   "cell_type": "code",
   "execution_count": 17,
   "metadata": {
    "collapsed": true
   },
   "outputs": [],
   "source": [
    "X_train, X_test, y_train, y_test = train_test_split(train.loc[a][cols_to_use], train.loc[a]['click'], test_size = 0.5, random_state=42)"
   ]
  },
  {
   "cell_type": "markdown",
   "metadata": {},
   "source": [
    "# For trial"
   ]
  },
  {
   "cell_type": "code",
   "execution_count": 21,
   "metadata": {},
   "outputs": [
    {
     "name": "stdout",
     "output_type": "stream",
     "text": [
      "Model with  250  max_features \n"
     ]
    },
    {
     "name": "stderr",
     "output_type": "stream",
     "text": [
      "[Parallel(n_jobs=4)]: Done  42 tasks      | elapsed:    5.5s\n",
      "[Parallel(n_jobs=4)]: Done 192 tasks      | elapsed:   25.1s\n",
      "[Parallel(n_jobs=4)]: Done 250 out of 250 | elapsed:   32.1s finished\n"
     ]
    },
    {
     "name": "stdout",
     "output_type": "stream",
     "text": [
      "time to fit:  40.175071239471436\n"
     ]
    },
    {
     "name": "stderr",
     "output_type": "stream",
     "text": [
      "[Parallel(n_jobs=4)]: Done  42 tasks      | elapsed:    0.4s\n",
      "[Parallel(n_jobs=4)]: Done 192 tasks      | elapsed:    2.0s\n",
      "[Parallel(n_jobs=4)]: Done 250 out of 250 | elapsed:    2.6s finished\n"
     ]
    },
    {
     "name": "stdout",
     "output_type": "stream",
     "text": [
      "time to predict:  3.078465700149536 \n",
      "\n"
     ]
    },
    {
     "name": "stderr",
     "output_type": "stream",
     "text": [
      "[Parallel(n_jobs=4)]: Done  42 tasks      | elapsed:    0.4s\n",
      "[Parallel(n_jobs=4)]: Done 192 tasks      | elapsed:    1.9s\n",
      "[Parallel(n_jobs=4)]: Done 250 out of 250 | elapsed:    2.6s finished\n"
     ]
    },
    {
     "name": "stdout",
     "output_type": "stream",
     "text": [
      "training score:  0.819831872233\n",
      "crossval score:  0.812103659246\n",
      "oob score:  0.978173896996\n",
      "Sort of truth table bouy\n",
      "0    293842\n",
      "1      9603\n",
      "Name: 0, dtype: int64\n",
      "0    292472\n",
      "1     10973\n",
      "Name: click, dtype: int64\n",
      "Done ::  250\n",
      "Model with  265  max_features \n"
     ]
    },
    {
     "name": "stderr",
     "output_type": "stream",
     "text": [
      "[Parallel(n_jobs=4)]: Done  42 tasks      | elapsed:    5.6s\n",
      "[Parallel(n_jobs=4)]: Done 192 tasks      | elapsed:   25.0s\n",
      "[Parallel(n_jobs=4)]: Done 265 out of 265 | elapsed:   34.0s finished\n"
     ]
    },
    {
     "name": "stdout",
     "output_type": "stream",
     "text": [
      "time to fit:  42.62258839607239\n"
     ]
    },
    {
     "name": "stderr",
     "output_type": "stream",
     "text": [
      "[Parallel(n_jobs=4)]: Done  42 tasks      | elapsed:    0.4s\n",
      "[Parallel(n_jobs=4)]: Done 192 tasks      | elapsed:    2.0s\n",
      "[Parallel(n_jobs=4)]: Done 265 out of 265 | elapsed:    2.7s finished\n"
     ]
    },
    {
     "name": "stdout",
     "output_type": "stream",
     "text": [
      "time to predict:  3.2114417552948 \n",
      "\n"
     ]
    },
    {
     "name": "stderr",
     "output_type": "stream",
     "text": [
      "[Parallel(n_jobs=4)]: Done  42 tasks      | elapsed:    0.4s\n",
      "[Parallel(n_jobs=4)]: Done 192 tasks      | elapsed:    2.0s\n",
      "[Parallel(n_jobs=4)]: Done 265 out of 265 | elapsed:    2.8s finished\n"
     ]
    },
    {
     "name": "stdout",
     "output_type": "stream",
     "text": [
      "training score:  0.819818199684\n",
      "crossval score:  0.811917974555\n",
      "oob score:  0.978173896996\n",
      "Sort of truth table bouy\n",
      "0    293844\n",
      "1      9601\n",
      "Name: 0, dtype: int64\n",
      "0    292472\n",
      "1     10973\n",
      "Name: click, dtype: int64\n",
      "Done ::  265\n",
      "Model with  280  max_features \n"
     ]
    },
    {
     "name": "stderr",
     "output_type": "stream",
     "text": [
      "[Parallel(n_jobs=4)]: Done  42 tasks      | elapsed:    6.3s\n",
      "[Parallel(n_jobs=4)]: Done 192 tasks      | elapsed:   28.5s\n",
      "[Parallel(n_jobs=4)]: Done 280 out of 280 | elapsed:   41.2s finished\n"
     ]
    },
    {
     "name": "stdout",
     "output_type": "stream",
     "text": [
      "time to fit:  50.60162425041199\n"
     ]
    },
    {
     "name": "stderr",
     "output_type": "stream",
     "text": [
      "[Parallel(n_jobs=4)]: Done  42 tasks      | elapsed:    0.4s\n",
      "[Parallel(n_jobs=4)]: Done 192 tasks      | elapsed:    2.1s\n",
      "[Parallel(n_jobs=4)]: Done 280 out of 280 | elapsed:    3.0s finished\n"
     ]
    },
    {
     "name": "stdout",
     "output_type": "stream",
     "text": [
      "time to predict:  3.4064760208129883 \n",
      "\n"
     ]
    },
    {
     "name": "stderr",
     "output_type": "stream",
     "text": [
      "[Parallel(n_jobs=4)]: Done  42 tasks      | elapsed:    0.4s\n",
      "[Parallel(n_jobs=4)]: Done 192 tasks      | elapsed:    2.0s\n",
      "[Parallel(n_jobs=4)]: Done 280 out of 280 | elapsed:    3.0s finished\n"
     ]
    },
    {
     "name": "stdout",
     "output_type": "stream",
     "text": [
      "training score:  0.81978423683\n",
      "crossval score:  0.811809746121\n",
      "oob score:  0.978140941986\n",
      "Sort of truth table bouy\n",
      "0    293836\n",
      "1      9609\n",
      "Name: 0, dtype: int64\n",
      "0    292472\n",
      "1     10973\n",
      "Name: click, dtype: int64\n",
      "Done ::  280\n",
      "Model with  295  max_features \n"
     ]
    },
    {
     "name": "stderr",
     "output_type": "stream",
     "text": [
      "[Parallel(n_jobs=4)]: Done  42 tasks      | elapsed:    6.4s\n",
      "[Parallel(n_jobs=4)]: Done 192 tasks      | elapsed:   28.7s\n",
      "[Parallel(n_jobs=4)]: Done 295 out of 295 | elapsed:   44.0s finished\n"
     ]
    },
    {
     "name": "stdout",
     "output_type": "stream",
     "text": [
      "time to fit:  54.13076829910278\n"
     ]
    },
    {
     "name": "stderr",
     "output_type": "stream",
     "text": [
      "[Parallel(n_jobs=4)]: Done  42 tasks      | elapsed:    0.4s\n",
      "[Parallel(n_jobs=4)]: Done 192 tasks      | elapsed:    2.0s\n",
      "[Parallel(n_jobs=4)]: Done 295 out of 295 | elapsed:    3.1s finished\n"
     ]
    },
    {
     "name": "stdout",
     "output_type": "stream",
     "text": [
      "time to predict:  3.6395926475524902 \n",
      "\n"
     ]
    },
    {
     "name": "stderr",
     "output_type": "stream",
     "text": [
      "[Parallel(n_jobs=4)]: Done  42 tasks      | elapsed:    0.4s\n",
      "[Parallel(n_jobs=4)]: Done 192 tasks      | elapsed:    2.0s\n",
      "[Parallel(n_jobs=4)]: Done 295 out of 295 | elapsed:    3.1s finished\n"
     ]
    },
    {
     "name": "stdout",
     "output_type": "stream",
     "text": [
      "training score:  0.819695802299\n",
      "crossval score:  0.812015945597\n",
      "oob score:  0.978180487998\n",
      "Sort of truth table bouy\n",
      "0    293846\n",
      "1      9599\n",
      "Name: 0, dtype: int64\n",
      "0    292472\n",
      "1     10973\n",
      "Name: click, dtype: int64\n",
      "Done ::  295\n",
      "Model with  310  max_features \n"
     ]
    },
    {
     "name": "stderr",
     "output_type": "stream",
     "text": [
      "[Parallel(n_jobs=4)]: Done  42 tasks      | elapsed:    6.4s\n",
      "[Parallel(n_jobs=4)]: Done 192 tasks      | elapsed:   28.6s\n",
      "[Parallel(n_jobs=4)]: Done 310 out of 310 | elapsed:   45.9s finished\n"
     ]
    },
    {
     "name": "stdout",
     "output_type": "stream",
     "text": [
      "time to fit:  56.19056224822998\n"
     ]
    },
    {
     "name": "stderr",
     "output_type": "stream",
     "text": [
      "[Parallel(n_jobs=4)]: Done  42 tasks      | elapsed:    0.4s\n",
      "[Parallel(n_jobs=4)]: Done 192 tasks      | elapsed:    2.0s\n",
      "[Parallel(n_jobs=4)]: Done 310 out of 310 | elapsed:    3.3s finished\n"
     ]
    },
    {
     "name": "stdout",
     "output_type": "stream",
     "text": [
      "time to predict:  3.759459972381592 \n",
      "\n"
     ]
    },
    {
     "name": "stderr",
     "output_type": "stream",
     "text": [
      "[Parallel(n_jobs=4)]: Done  42 tasks      | elapsed:    0.4s\n",
      "[Parallel(n_jobs=4)]: Done 192 tasks      | elapsed:    2.0s\n",
      "[Parallel(n_jobs=4)]: Done 310 out of 310 | elapsed:    3.3s finished\n"
     ]
    },
    {
     "name": "stdout",
     "output_type": "stream",
     "text": [
      "training score:  0.819768855212\n",
      "crossval score:  0.81231952424\n",
      "oob score:  0.978167305994\n",
      "Sort of truth table bouy\n",
      "0    293830\n",
      "1      9615\n",
      "Name: 0, dtype: int64\n",
      "0    292472\n",
      "1     10973\n",
      "Name: click, dtype: int64\n",
      "Done ::  310\n",
      "Model with  325  max_features \n"
     ]
    },
    {
     "name": "stderr",
     "output_type": "stream",
     "text": [
      "[Parallel(n_jobs=4)]: Done  42 tasks      | elapsed:    6.4s\n",
      "[Parallel(n_jobs=4)]: Done 192 tasks      | elapsed:   28.6s\n",
      "[Parallel(n_jobs=4)]: Done 325 out of 325 | elapsed:   47.9s finished\n"
     ]
    },
    {
     "name": "stdout",
     "output_type": "stream",
     "text": [
      "time to fit:  58.93120002746582\n"
     ]
    },
    {
     "name": "stderr",
     "output_type": "stream",
     "text": [
      "[Parallel(n_jobs=4)]: Done  42 tasks      | elapsed:    0.4s\n",
      "[Parallel(n_jobs=4)]: Done 192 tasks      | elapsed:    2.0s\n",
      "[Parallel(n_jobs=4)]: Done 325 out of 325 | elapsed:    3.4s finished\n"
     ]
    },
    {
     "name": "stdout",
     "output_type": "stream",
     "text": [
      "time to predict:  4.000539302825928 \n",
      "\n"
     ]
    },
    {
     "name": "stderr",
     "output_type": "stream",
     "text": [
      "[Parallel(n_jobs=4)]: Done  42 tasks      | elapsed:    0.4s\n",
      "[Parallel(n_jobs=4)]: Done 192 tasks      | elapsed:    2.0s\n",
      "[Parallel(n_jobs=4)]: Done 325 out of 325 | elapsed:    3.4s finished\n"
     ]
    },
    {
     "name": "stdout",
     "output_type": "stream",
     "text": [
      "training score:  0.81992521545\n",
      "crossval score:  0.812862901792\n",
      "oob score:  0.978170601495\n",
      "Sort of truth table bouy\n",
      "0    293816\n",
      "1      9629\n",
      "Name: 0, dtype: int64\n",
      "0    292472\n",
      "1     10973\n",
      "Name: click, dtype: int64\n",
      "Done ::  325\n",
      "Model with  340  max_features \n"
     ]
    },
    {
     "name": "stderr",
     "output_type": "stream",
     "text": [
      "[Parallel(n_jobs=4)]: Done  42 tasks      | elapsed:    6.4s\n",
      "[Parallel(n_jobs=4)]: Done 192 tasks      | elapsed:   28.6s\n",
      "[Parallel(n_jobs=4)]: Done 340 out of 340 | elapsed:   50.1s finished\n"
     ]
    },
    {
     "name": "stdout",
     "output_type": "stream",
     "text": [
      "time to fit:  61.6512234210968\n"
     ]
    },
    {
     "name": "stderr",
     "output_type": "stream",
     "text": [
      "[Parallel(n_jobs=4)]: Done  42 tasks      | elapsed:    0.4s\n",
      "[Parallel(n_jobs=4)]: Done 192 tasks      | elapsed:    2.0s\n",
      "[Parallel(n_jobs=4)]: Done 340 out of 340 | elapsed:    3.6s finished\n"
     ]
    },
    {
     "name": "stdout",
     "output_type": "stream",
     "text": [
      "time to predict:  4.103644609451294 \n",
      "\n"
     ]
    },
    {
     "name": "stderr",
     "output_type": "stream",
     "text": [
      "[Parallel(n_jobs=4)]: Done  42 tasks      | elapsed:    0.4s\n",
      "[Parallel(n_jobs=4)]: Done 192 tasks      | elapsed:    2.0s\n",
      "[Parallel(n_jobs=4)]: Done 340 out of 340 | elapsed:    3.6s finished\n"
     ]
    },
    {
     "name": "stdout",
     "output_type": "stream",
     "text": [
      "training score:  0.819743219182\n",
      "crossval score:  0.812776897708\n",
      "oob score:  0.978157419491\n",
      "Sort of truth table bouy\n",
      "0    293821\n",
      "1      9624\n",
      "Name: 0, dtype: int64\n",
      "0    292472\n",
      "1     10973\n",
      "Name: click, dtype: int64\n",
      "Done ::  340\n",
      "Model with  355  max_features \n"
     ]
    },
    {
     "name": "stderr",
     "output_type": "stream",
     "text": [
      "[Parallel(n_jobs=4)]: Done  42 tasks      | elapsed:    6.4s\n",
      "[Parallel(n_jobs=4)]: Done 192 tasks      | elapsed:   28.2s\n",
      "[Parallel(n_jobs=4)]: Done 355 out of 355 | elapsed:   51.9s finished\n"
     ]
    },
    {
     "name": "stdout",
     "output_type": "stream",
     "text": [
      "time to fit:  63.655444622039795\n"
     ]
    },
    {
     "name": "stderr",
     "output_type": "stream",
     "text": [
      "[Parallel(n_jobs=4)]: Done  42 tasks      | elapsed:    0.4s\n",
      "[Parallel(n_jobs=4)]: Done 192 tasks      | elapsed:    2.0s\n",
      "[Parallel(n_jobs=4)]: Done 355 out of 355 | elapsed:    3.8s finished\n"
     ]
    },
    {
     "name": "stdout",
     "output_type": "stream",
     "text": [
      "time to predict:  4.298082590103149 \n",
      "\n"
     ]
    },
    {
     "name": "stderr",
     "output_type": "stream",
     "text": [
      "[Parallel(n_jobs=4)]: Done  42 tasks      | elapsed:    0.4s\n",
      "[Parallel(n_jobs=4)]: Done 192 tasks      | elapsed:    2.0s\n",
      "[Parallel(n_jobs=4)]: Done 355 out of 355 | elapsed:    3.8s finished\n"
     ]
    },
    {
     "name": "stdout",
     "output_type": "stream",
     "text": [
      "training score:  0.819649657446\n",
      "crossval score:  0.812733040883\n",
      "oob score:  0.97815412399\n",
      "Sort of truth table bouy\n",
      "0    293823\n",
      "1      9622\n",
      "Name: 0, dtype: int64\n",
      "0    292472\n",
      "1     10973\n",
      "Name: click, dtype: int64\n",
      "Done ::  355\n",
      "Model with  370  max_features \n"
     ]
    },
    {
     "name": "stderr",
     "output_type": "stream",
     "text": [
      "[Parallel(n_jobs=4)]: Done  42 tasks      | elapsed:    6.4s\n",
      "[Parallel(n_jobs=4)]: Done 192 tasks      | elapsed:   28.4s\n",
      "[Parallel(n_jobs=4)]: Done 370 out of 370 | elapsed:   54.4s finished\n"
     ]
    },
    {
     "name": "stdout",
     "output_type": "stream",
     "text": [
      "time to fit:  66.9700357913971\n"
     ]
    },
    {
     "name": "stderr",
     "output_type": "stream",
     "text": [
      "[Parallel(n_jobs=4)]: Done  42 tasks      | elapsed:    0.4s\n",
      "[Parallel(n_jobs=4)]: Done 192 tasks      | elapsed:    2.0s\n",
      "[Parallel(n_jobs=4)]: Done 370 out of 370 | elapsed:    3.9s finished\n"
     ]
    },
    {
     "name": "stdout",
     "output_type": "stream",
     "text": [
      "time to predict:  4.527289628982544 \n",
      "\n"
     ]
    },
    {
     "name": "stderr",
     "output_type": "stream",
     "text": [
      "[Parallel(n_jobs=4)]: Done  42 tasks      | elapsed:    0.4s\n",
      "[Parallel(n_jobs=4)]: Done 192 tasks      | elapsed:    2.0s\n",
      "[Parallel(n_jobs=4)]: Done 370 out of 370 | elapsed:    3.9s finished\n"
     ]
    },
    {
     "name": "stdout",
     "output_type": "stream",
     "text": [
      "training score:  0.819744928251\n",
      "crossval score:  0.812587793885\n",
      "oob score:  0.97815412399\n",
      "Sort of truth table bouy\n",
      "0    293821\n",
      "1      9624\n",
      "Name: 0, dtype: int64\n",
      "0    292472\n",
      "1     10973\n",
      "Name: click, dtype: int64\n",
      "Done ::  370\n",
      "Model with  385  max_features \n"
     ]
    },
    {
     "name": "stderr",
     "output_type": "stream",
     "text": [
      "[Parallel(n_jobs=4)]: Done  42 tasks      | elapsed:    6.4s\n",
      "[Parallel(n_jobs=4)]: Done 192 tasks      | elapsed:   28.3s\n",
      "[Parallel(n_jobs=4)]: Done 385 out of 385 | elapsed:   56.2s finished\n"
     ]
    },
    {
     "name": "stdout",
     "output_type": "stream",
     "text": [
      "time to fit:  69.24704122543335\n"
     ]
    },
    {
     "name": "stderr",
     "output_type": "stream",
     "text": [
      "[Parallel(n_jobs=4)]: Done  42 tasks      | elapsed:    0.4s\n",
      "[Parallel(n_jobs=4)]: Done 192 tasks      | elapsed:    2.0s\n",
      "[Parallel(n_jobs=4)]: Done 385 out of 385 | elapsed:    4.1s finished\n"
     ]
    },
    {
     "name": "stdout",
     "output_type": "stream",
     "text": [
      "time to predict:  4.63510799407959 \n",
      "\n"
     ]
    },
    {
     "name": "stderr",
     "output_type": "stream",
     "text": [
      "[Parallel(n_jobs=4)]: Done  42 tasks      | elapsed:    0.4s\n",
      "[Parallel(n_jobs=4)]: Done 192 tasks      | elapsed:    2.0s\n",
      "[Parallel(n_jobs=4)]: Done 385 out of 385 | elapsed:    4.1s finished\n"
     ]
    },
    {
     "name": "stdout",
     "output_type": "stream",
     "text": [
      "training score:  0.819600312974\n",
      "crossval score:  0.812684055362\n",
      "oob score:  0.978131055483\n",
      "Sort of truth table bouy\n",
      "0    293822\n",
      "1      9623\n",
      "Name: 0, dtype: int64\n",
      "0    292472\n",
      "1     10973\n",
      "Name: click, dtype: int64\n",
      "Done ::  385\n",
      "Model with  400  max_features \n"
     ]
    },
    {
     "name": "stderr",
     "output_type": "stream",
     "text": [
      "[Parallel(n_jobs=4)]: Done  42 tasks      | elapsed:    6.3s\n",
      "[Parallel(n_jobs=4)]: Done 192 tasks      | elapsed:   28.2s\n",
      "[Parallel(n_jobs=4)]: Done 400 out of 400 | elapsed:   58.2s finished\n"
     ]
    },
    {
     "name": "stdout",
     "output_type": "stream",
     "text": [
      "time to fit:  71.36157512664795\n"
     ]
    },
    {
     "name": "stderr",
     "output_type": "stream",
     "text": [
      "[Parallel(n_jobs=4)]: Done  42 tasks      | elapsed:    0.4s\n",
      "[Parallel(n_jobs=4)]: Done 192 tasks      | elapsed:    2.0s\n",
      "[Parallel(n_jobs=4)]: Done 400 out of 400 | elapsed:    4.3s finished\n"
     ]
    },
    {
     "name": "stdout",
     "output_type": "stream",
     "text": [
      "time to predict:  4.879101276397705 \n",
      "\n"
     ]
    },
    {
     "name": "stderr",
     "output_type": "stream",
     "text": [
      "[Parallel(n_jobs=4)]: Done  42 tasks      | elapsed:    0.4s\n",
      "[Parallel(n_jobs=4)]: Done 192 tasks      | elapsed:    2.0s\n",
      "[Parallel(n_jobs=4)]: Done 400 out of 400 | elapsed:    4.3s finished\n"
     ]
    },
    {
     "name": "stdout",
     "output_type": "stream",
     "text": [
      "training score:  0.819607149249\n",
      "crossval score:  0.812587793885\n",
      "oob score:  0.978160714992\n",
      "Sort of truth table bouy\n",
      "0    293821\n",
      "1      9624\n",
      "Name: 0, dtype: int64\n",
      "0    292472\n",
      "1     10973\n",
      "Name: click, dtype: int64\n",
      "Done ::  400\n",
      "Model with  415  max_features \n"
     ]
    },
    {
     "name": "stderr",
     "output_type": "stream",
     "text": [
      "[Parallel(n_jobs=4)]: Done  42 tasks      | elapsed:    6.4s\n",
      "[Parallel(n_jobs=4)]: Done 192 tasks      | elapsed:   28.2s\n",
      "[Parallel(n_jobs=4)]: Done 415 out of 415 | elapsed:  1.0min finished\n"
     ]
    },
    {
     "name": "stdout",
     "output_type": "stream",
     "text": [
      "time to fit:  74.46958255767822\n"
     ]
    },
    {
     "name": "stderr",
     "output_type": "stream",
     "text": [
      "[Parallel(n_jobs=4)]: Done  42 tasks      | elapsed:    0.4s\n",
      "[Parallel(n_jobs=4)]: Done 192 tasks      | elapsed:    2.0s\n",
      "[Parallel(n_jobs=4)]: Done 415 out of 415 | elapsed:    4.4s finished\n"
     ]
    },
    {
     "name": "stdout",
     "output_type": "stream",
     "text": [
      "time to predict:  4.957619667053223 \n",
      "\n"
     ]
    },
    {
     "name": "stderr",
     "output_type": "stream",
     "text": [
      "[Parallel(n_jobs=4)]: Done  42 tasks      | elapsed:    0.4s\n",
      "[Parallel(n_jobs=4)]: Done 192 tasks      | elapsed:    2.0s\n",
      "[Parallel(n_jobs=4)]: Done 415 out of 415 | elapsed:    4.4s finished\n"
     ]
    },
    {
     "name": "stdout",
     "output_type": "stream",
     "text": [
      "training score:  0.81955438664\n",
      "crossval score:  0.812680636231\n",
      "oob score:  0.978134350984\n",
      "Sort of truth table bouy\n",
      "0    293820\n",
      "1      9625\n",
      "Name: 0, dtype: int64\n",
      "0    292472\n",
      "1     10973\n",
      "Name: click, dtype: int64\n",
      "Done ::  415\n",
      "Model with  430  max_features \n"
     ]
    },
    {
     "name": "stderr",
     "output_type": "stream",
     "text": [
      "[Parallel(n_jobs=4)]: Done  42 tasks      | elapsed:    6.4s\n",
      "[Parallel(n_jobs=4)]: Done 192 tasks      | elapsed:   28.2s\n",
      "[Parallel(n_jobs=4)]: Done 430 out of 430 | elapsed:  1.0min finished\n"
     ]
    },
    {
     "name": "stdout",
     "output_type": "stream",
     "text": [
      "time to fit:  77.06181383132935\n"
     ]
    },
    {
     "name": "stderr",
     "output_type": "stream",
     "text": [
      "[Parallel(n_jobs=4)]: Done  42 tasks      | elapsed:    0.4s\n",
      "[Parallel(n_jobs=4)]: Done 192 tasks      | elapsed:    2.0s\n",
      "[Parallel(n_jobs=4)]: Done 430 out of 430 | elapsed:    4.5s finished\n"
     ]
    },
    {
     "name": "stdout",
     "output_type": "stream",
     "text": [
      "time to predict:  5.192212820053101 \n",
      "\n"
     ]
    },
    {
     "name": "stderr",
     "output_type": "stream",
     "text": [
      "[Parallel(n_jobs=4)]: Done  42 tasks      | elapsed:    0.4s\n",
      "[Parallel(n_jobs=4)]: Done 192 tasks      | elapsed:    2.0s\n",
      "[Parallel(n_jobs=4)]: Done 430 out of 430 | elapsed:    4.5s finished\n"
     ]
    },
    {
     "name": "stdout",
     "output_type": "stream",
     "text": [
      "training score:  0.819547550365\n",
      "crossval score:  0.812849225269\n",
      "oob score:  0.978177192497\n",
      "Sort of truth table bouy\n",
      "0    293808\n",
      "1      9637\n",
      "Name: 0, dtype: int64\n",
      "0    292472\n",
      "1     10973\n",
      "Name: click, dtype: int64\n",
      "Done ::  430\n",
      "Model with  445  max_features \n"
     ]
    },
    {
     "name": "stderr",
     "output_type": "stream",
     "text": [
      "[Parallel(n_jobs=4)]: Done  42 tasks      | elapsed:    6.3s\n",
      "[Parallel(n_jobs=4)]: Done 192 tasks      | elapsed:   28.1s\n",
      "[Parallel(n_jobs=4)]: Done 445 out of 445 | elapsed:  1.1min finished\n"
     ]
    },
    {
     "name": "stdout",
     "output_type": "stream",
     "text": [
      "time to fit:  79.4785099029541\n"
     ]
    },
    {
     "name": "stderr",
     "output_type": "stream",
     "text": [
      "[Parallel(n_jobs=4)]: Done  42 tasks      | elapsed:    0.4s\n",
      "[Parallel(n_jobs=4)]: Done 192 tasks      | elapsed:    2.0s\n",
      "[Parallel(n_jobs=4)]: Done 445 out of 445 | elapsed:    4.7s finished\n"
     ]
    },
    {
     "name": "stdout",
     "output_type": "stream",
     "text": [
      "time to predict:  5.413687229156494 \n",
      "\n"
     ]
    },
    {
     "name": "stderr",
     "output_type": "stream",
     "text": [
      "[Parallel(n_jobs=4)]: Done  42 tasks      | elapsed:    0.4s\n",
      "[Parallel(n_jobs=4)]: Done 192 tasks      | elapsed:    2.0s\n",
      "[Parallel(n_jobs=4)]: Done 445 out of 445 | elapsed:    4.7s finished\n"
     ]
    },
    {
     "name": "stdout",
     "output_type": "stream",
     "text": [
      "training score:  0.819697292848\n",
      "crossval score:  0.81298592444\n",
      "oob score:  0.978137646485\n",
      "Sort of truth table bouy\n",
      "0    293805\n",
      "1      9640\n",
      "Name: 0, dtype: int64\n",
      "0    292472\n",
      "1     10973\n",
      "Name: click, dtype: int64\n",
      "Done ::  445\n",
      "Model with  460  max_features \n"
     ]
    },
    {
     "name": "stderr",
     "output_type": "stream",
     "text": [
      "[Parallel(n_jobs=4)]: Done  42 tasks      | elapsed:    6.4s\n",
      "[Parallel(n_jobs=4)]: Done 192 tasks      | elapsed:   28.2s\n",
      "[Parallel(n_jobs=4)]: Done 442 tasks      | elapsed:  1.1min\n",
      "[Parallel(n_jobs=4)]: Done 460 out of 460 | elapsed:  1.1min finished\n"
     ]
    },
    {
     "name": "stdout",
     "output_type": "stream",
     "text": [
      "time to fit:  82.39924192428589\n"
     ]
    },
    {
     "name": "stderr",
     "output_type": "stream",
     "text": [
      "[Parallel(n_jobs=4)]: Done  42 tasks      | elapsed:    0.4s\n",
      "[Parallel(n_jobs=4)]: Done 192 tasks      | elapsed:    2.0s\n",
      "[Parallel(n_jobs=4)]: Done 442 tasks      | elapsed:    4.7s\n",
      "[Parallel(n_jobs=4)]: Done 460 out of 460 | elapsed:    4.9s finished\n"
     ]
    },
    {
     "name": "stdout",
     "output_type": "stream",
     "text": [
      "time to predict:  5.5025269985198975 \n",
      "\n"
     ]
    },
    {
     "name": "stderr",
     "output_type": "stream",
     "text": [
      "[Parallel(n_jobs=4)]: Done  42 tasks      | elapsed:    0.4s\n",
      "[Parallel(n_jobs=4)]: Done 192 tasks      | elapsed:    2.0s\n",
      "[Parallel(n_jobs=4)]: Done 442 tasks      | elapsed:    4.7s\n",
      "[Parallel(n_jobs=4)]: Done 460 out of 460 | elapsed:    4.9s finished\n"
     ]
    },
    {
     "name": "stdout",
     "output_type": "stream",
     "text": [
      "training score:  0.819641112102\n",
      "crossval score:  0.812808787575\n",
      "oob score:  0.978147532988\n",
      "Sort of truth table bouy\n",
      "0    293812\n",
      "1      9633\n",
      "Name: 0, dtype: int64\n",
      "0    292472\n",
      "1     10973\n",
      "Name: click, dtype: int64\n",
      "Done ::  460\n",
      "Model with  475  max_features \n"
     ]
    },
    {
     "name": "stderr",
     "output_type": "stream",
     "text": [
      "[Parallel(n_jobs=4)]: Done  42 tasks      | elapsed:    6.3s\n",
      "[Parallel(n_jobs=4)]: Done 192 tasks      | elapsed:   28.0s\n",
      "[Parallel(n_jobs=4)]: Done 442 tasks      | elapsed:  1.1min\n",
      "[Parallel(n_jobs=4)]: Done 475 out of 475 | elapsed:  1.1min finished\n"
     ]
    },
    {
     "name": "stdout",
     "output_type": "stream",
     "text": [
      "time to fit:  84.50904440879822\n"
     ]
    },
    {
     "name": "stderr",
     "output_type": "stream",
     "text": [
      "[Parallel(n_jobs=4)]: Done  42 tasks      | elapsed:    0.4s\n",
      "[Parallel(n_jobs=4)]: Done 192 tasks      | elapsed:    2.0s\n",
      "[Parallel(n_jobs=4)]: Done 442 tasks      | elapsed:    4.7s\n",
      "[Parallel(n_jobs=4)]: Done 475 out of 475 | elapsed:    5.0s finished\n"
     ]
    },
    {
     "name": "stdout",
     "output_type": "stream",
     "text": [
      "time to predict:  5.756479978561401 \n",
      "\n"
     ]
    },
    {
     "name": "stderr",
     "output_type": "stream",
     "text": [
      "[Parallel(n_jobs=4)]: Done  42 tasks      | elapsed:    0.4s\n",
      "[Parallel(n_jobs=4)]: Done 192 tasks      | elapsed:    2.0s\n",
      "[Parallel(n_jobs=4)]: Done 442 tasks      | elapsed:    4.7s\n",
      "[Parallel(n_jobs=4)]: Done 475 out of 475 | elapsed:    5.0s finished\n"
     ]
    },
    {
     "name": "stdout",
     "output_type": "stream",
     "text": [
      "training score:  0.819685329368\n",
      "crossval score:  0.812685764927\n",
      "oob score:  0.978150828489\n",
      "Sort of truth table bouy\n",
      "0    293823\n",
      "1      9622\n",
      "Name: 0, dtype: int64\n",
      "0    292472\n",
      "1     10973\n",
      "Name: click, dtype: int64\n",
      "Done ::  475\n",
      "Model with  490  max_features \n"
     ]
    },
    {
     "name": "stderr",
     "output_type": "stream",
     "text": [
      "[Parallel(n_jobs=4)]: Done  42 tasks      | elapsed:    6.3s\n",
      "[Parallel(n_jobs=4)]: Done 192 tasks      | elapsed:   28.0s\n",
      "[Parallel(n_jobs=4)]: Done 442 tasks      | elapsed:  1.1min\n",
      "[Parallel(n_jobs=4)]: Done 490 out of 490 | elapsed:  1.2min finished\n"
     ]
    },
    {
     "name": "stdout",
     "output_type": "stream",
     "text": [
      "time to fit:  87.28547596931458\n"
     ]
    },
    {
     "name": "stderr",
     "output_type": "stream",
     "text": [
      "[Parallel(n_jobs=4)]: Done  42 tasks      | elapsed:    0.4s\n",
      "[Parallel(n_jobs=4)]: Done 192 tasks      | elapsed:    2.0s\n",
      "[Parallel(n_jobs=4)]: Done 442 tasks      | elapsed:    4.7s\n",
      "[Parallel(n_jobs=4)]: Done 490 out of 490 | elapsed:    5.2s finished\n"
     ]
    },
    {
     "name": "stdout",
     "output_type": "stream",
     "text": [
      "time to predict:  5.94821572303772 \n",
      "\n"
     ]
    },
    {
     "name": "stderr",
     "output_type": "stream",
     "text": [
      "[Parallel(n_jobs=4)]: Done  42 tasks      | elapsed:    0.4s\n",
      "[Parallel(n_jobs=4)]: Done 192 tasks      | elapsed:    2.0s\n",
      "[Parallel(n_jobs=4)]: Done 442 tasks      | elapsed:    4.7s\n",
      "[Parallel(n_jobs=4)]: Done 490 out of 490 | elapsed:    5.2s finished\n"
     ]
    },
    {
     "name": "stdout",
     "output_type": "stream",
     "text": [
      "training score:  0.819600312974\n",
      "crossval score:  0.812559323149\n",
      "oob score:  0.978147532988\n",
      "Sort of truth table bouy\n",
      "0    293832\n",
      "1      9613\n",
      "Name: 0, dtype: int64\n",
      "0    292472\n",
      "1     10973\n",
      "Name: click, dtype: int64\n",
      "Done ::  490\n",
      "Model with  505  max_features \n"
     ]
    },
    {
     "name": "stderr",
     "output_type": "stream",
     "text": [
      "[Parallel(n_jobs=4)]: Done  42 tasks      | elapsed:    6.3s\n",
      "[Parallel(n_jobs=4)]: Done 192 tasks      | elapsed:   27.9s\n",
      "[Parallel(n_jobs=4)]: Done 442 tasks      | elapsed:  1.1min\n",
      "[Parallel(n_jobs=4)]: Done 505 out of 505 | elapsed:  1.2min finished\n"
     ]
    },
    {
     "name": "stdout",
     "output_type": "stream",
     "text": [
      "time to fit:  89.8388922214508\n"
     ]
    },
    {
     "name": "stderr",
     "output_type": "stream",
     "text": [
      "[Parallel(n_jobs=4)]: Done  42 tasks      | elapsed:    0.4s\n",
      "[Parallel(n_jobs=4)]: Done 192 tasks      | elapsed:    2.0s\n",
      "[Parallel(n_jobs=4)]: Done 442 tasks      | elapsed:    4.7s\n",
      "[Parallel(n_jobs=4)]: Done 505 out of 505 | elapsed:    5.4s finished\n"
     ]
    },
    {
     "name": "stdout",
     "output_type": "stream",
     "text": [
      "time to predict:  6.0508904457092285 \n",
      "\n"
     ]
    },
    {
     "name": "stderr",
     "output_type": "stream",
     "text": [
      "[Parallel(n_jobs=4)]: Done  42 tasks      | elapsed:    0.4s\n",
      "[Parallel(n_jobs=4)]: Done 192 tasks      | elapsed:    2.0s\n",
      "[Parallel(n_jobs=4)]: Done 442 tasks      | elapsed:    4.7s\n",
      "[Parallel(n_jobs=4)]: Done 505 out of 505 | elapsed:    5.4s finished\n"
     ]
    },
    {
     "name": "stdout",
     "output_type": "stream",
     "text": [
      "training score:  0.819637693965\n",
      "crossval score:  0.812738169579\n",
      "oob score:  0.97815412399\n",
      "Sort of truth table bouy\n",
      "0    293826\n",
      "1      9619\n",
      "Name: 0, dtype: int64\n",
      "0    292472\n",
      "1     10973\n",
      "Name: click, dtype: int64\n",
      "Done ::  505\n",
      "Model with  520  max_features \n"
     ]
    },
    {
     "name": "stderr",
     "output_type": "stream",
     "text": [
      "[Parallel(n_jobs=4)]: Done  42 tasks      | elapsed:    6.3s\n",
      "[Parallel(n_jobs=4)]: Done 192 tasks      | elapsed:   27.9s\n",
      "[Parallel(n_jobs=4)]: Done 442 tasks      | elapsed:  1.1min\n",
      "[Parallel(n_jobs=4)]: Done 520 out of 520 | elapsed:  1.2min finished\n"
     ]
    },
    {
     "name": "stdout",
     "output_type": "stream",
     "text": [
      "time to fit:  91.97574186325073\n"
     ]
    },
    {
     "name": "stderr",
     "output_type": "stream",
     "text": [
      "[Parallel(n_jobs=4)]: Done  42 tasks      | elapsed:    0.4s\n",
      "[Parallel(n_jobs=4)]: Done 192 tasks      | elapsed:    2.0s\n",
      "[Parallel(n_jobs=4)]: Done 442 tasks      | elapsed:    4.7s\n",
      "[Parallel(n_jobs=4)]: Done 520 out of 520 | elapsed:    5.5s finished\n"
     ]
    },
    {
     "name": "stdout",
     "output_type": "stream",
     "text": [
      "time to predict:  6.292450904846191 \n",
      "\n"
     ]
    },
    {
     "name": "stderr",
     "output_type": "stream",
     "text": [
      "[Parallel(n_jobs=4)]: Done  42 tasks      | elapsed:    0.4s\n",
      "[Parallel(n_jobs=4)]: Done 192 tasks      | elapsed:    2.0s\n",
      "[Parallel(n_jobs=4)]: Done 442 tasks      | elapsed:    4.7s\n",
      "[Parallel(n_jobs=4)]: Done 520 out of 520 | elapsed:    5.5s finished\n"
     ]
    },
    {
     "name": "stdout",
     "output_type": "stream",
     "text": [
      "training score:  0.819603731111\n",
      "crossval score:  0.812652165495\n",
      "oob score:  0.978173896996\n",
      "Sort of truth table bouy\n",
      "0    293831\n",
      "1      9614\n",
      "Name: 0, dtype: int64\n",
      "0    292472\n",
      "1     10973\n",
      "Name: click, dtype: int64\n",
      "Done ::  520\n",
      "Model with  535  max_features \n"
     ]
    },
    {
     "name": "stderr",
     "output_type": "stream",
     "text": [
      "[Parallel(n_jobs=4)]: Done  42 tasks      | elapsed:    6.3s\n",
      "[Parallel(n_jobs=4)]: Done 192 tasks      | elapsed:   28.1s\n",
      "[Parallel(n_jobs=4)]: Done 442 tasks      | elapsed:  1.1min\n",
      "[Parallel(n_jobs=4)]: Done 535 out of 535 | elapsed:  1.3min finished\n"
     ]
    },
    {
     "name": "stdout",
     "output_type": "stream",
     "text": [
      "time to fit:  95.41955065727234\n"
     ]
    },
    {
     "name": "stderr",
     "output_type": "stream",
     "text": [
      "[Parallel(n_jobs=4)]: Done  42 tasks      | elapsed:    0.4s\n",
      "[Parallel(n_jobs=4)]: Done 192 tasks      | elapsed:    2.0s\n",
      "[Parallel(n_jobs=4)]: Done 442 tasks      | elapsed:    4.7s\n",
      "[Parallel(n_jobs=4)]: Done 535 out of 535 | elapsed:    5.7s finished\n"
     ]
    },
    {
     "name": "stdout",
     "output_type": "stream",
     "text": [
      "time to predict:  6.397284507751465 \n",
      "\n"
     ]
    },
    {
     "name": "stderr",
     "output_type": "stream",
     "text": [
      "[Parallel(n_jobs=4)]: Done  42 tasks      | elapsed:    0.4s\n",
      "[Parallel(n_jobs=4)]: Done 192 tasks      | elapsed:    2.0s\n",
      "[Parallel(n_jobs=4)]: Done 442 tasks      | elapsed:    4.7s\n",
      "[Parallel(n_jobs=4)]: Done 535 out of 535 | elapsed:    5.7s finished\n"
     ]
    },
    {
     "name": "stdout",
     "output_type": "stream",
     "text": [
      "training score:  0.819416607637\n",
      "crossval score:  0.812750136537\n",
      "oob score:  0.978180487998\n",
      "Sort of truth table bouy\n",
      "0    293833\n",
      "1      9612\n",
      "Name: 0, dtype: int64\n",
      "0    292472\n",
      "1     10973\n",
      "Name: click, dtype: int64\n",
      "Done ::  535\n",
      "Model with  550  max_features \n"
     ]
    },
    {
     "name": "stderr",
     "output_type": "stream",
     "text": [
      "[Parallel(n_jobs=4)]: Done  42 tasks      | elapsed:    6.3s\n",
      "[Parallel(n_jobs=4)]: Done 192 tasks      | elapsed:   28.0s\n",
      "[Parallel(n_jobs=4)]: Done 442 tasks      | elapsed:  1.1min\n",
      "[Parallel(n_jobs=4)]: Done 550 out of 550 | elapsed:  1.3min finished\n"
     ]
    },
    {
     "name": "stdout",
     "output_type": "stream",
     "text": [
      "time to fit:  97.70019698143005\n"
     ]
    },
    {
     "name": "stderr",
     "output_type": "stream",
     "text": [
      "[Parallel(n_jobs=4)]: Done  42 tasks      | elapsed:    0.4s\n",
      "[Parallel(n_jobs=4)]: Done 192 tasks      | elapsed:    2.0s\n",
      "[Parallel(n_jobs=4)]: Done 442 tasks      | elapsed:    4.7s\n",
      "[Parallel(n_jobs=4)]: Done 550 out of 550 | elapsed:    5.9s finished\n"
     ]
    },
    {
     "name": "stdout",
     "output_type": "stream",
     "text": [
      "time to predict:  6.622586250305176 \n",
      "\n"
     ]
    },
    {
     "name": "stderr",
     "output_type": "stream",
     "text": [
      "[Parallel(n_jobs=4)]: Done  42 tasks      | elapsed:    0.4s\n",
      "[Parallel(n_jobs=4)]: Done 192 tasks      | elapsed:    2.0s\n",
      "[Parallel(n_jobs=4)]: Done 442 tasks      | elapsed:    4.7s\n",
      "[Parallel(n_jobs=4)]: Done 550 out of 550 | elapsed:    5.8s finished\n"
     ]
    },
    {
     "name": "stdout",
     "output_type": "stream",
     "text": [
      "training score:  0.819506751237\n",
      "crossval score:  0.812555904018\n",
      "oob score:  0.978190374501\n",
      "Sort of truth table bouy\n",
      "0    293830\n",
      "1      9615\n",
      "Name: 0, dtype: int64\n",
      "0    292472\n",
      "1     10973\n",
      "Name: click, dtype: int64\n",
      "Done ::  550\n",
      "Model with  565  max_features \n"
     ]
    },
    {
     "name": "stderr",
     "output_type": "stream",
     "text": [
      "[Parallel(n_jobs=4)]: Done  42 tasks      | elapsed:    6.3s\n",
      "[Parallel(n_jobs=4)]: Done 192 tasks      | elapsed:   28.2s\n",
      "[Parallel(n_jobs=4)]: Done 442 tasks      | elapsed:  1.1min\n",
      "[Parallel(n_jobs=4)]: Done 565 out of 565 | elapsed:  1.4min finished\n"
     ]
    },
    {
     "name": "stdout",
     "output_type": "stream",
     "text": [
      "time to fit:  100.81513142585754\n"
     ]
    },
    {
     "name": "stderr",
     "output_type": "stream",
     "text": [
      "[Parallel(n_jobs=4)]: Done  42 tasks      | elapsed:    0.4s\n",
      "[Parallel(n_jobs=4)]: Done 192 tasks      | elapsed:    2.0s\n",
      "[Parallel(n_jobs=4)]: Done 442 tasks      | elapsed:    4.7s\n",
      "[Parallel(n_jobs=4)]: Done 565 out of 565 | elapsed:    6.0s finished\n"
     ]
    },
    {
     "name": "stdout",
     "output_type": "stream",
     "text": [
      "time to predict:  6.8285486698150635 \n",
      "\n"
     ]
    },
    {
     "name": "stderr",
     "output_type": "stream",
     "text": [
      "[Parallel(n_jobs=4)]: Done  42 tasks      | elapsed:    0.4s\n",
      "[Parallel(n_jobs=4)]: Done 192 tasks      | elapsed:    2.0s\n",
      "[Parallel(n_jobs=4)]: Done 442 tasks      | elapsed:    4.7s\n",
      "[Parallel(n_jobs=4)]: Done 565 out of 565 | elapsed:    6.0s finished\n"
     ]
    },
    {
     "name": "stdout",
     "output_type": "stream",
     "text": [
      "training score:  0.819595185768\n",
      "crossval score:  0.812555904018\n",
      "oob score:  0.978190374501\n",
      "Sort of truth table bouy\n",
      "0    293830\n",
      "1      9615\n",
      "Name: 0, dtype: int64\n",
      "0    292472\n",
      "1     10973\n",
      "Name: click, dtype: int64\n",
      "Done ::  565\n",
      "Model with  580  max_features \n"
     ]
    },
    {
     "name": "stderr",
     "output_type": "stream",
     "text": [
      "[Parallel(n_jobs=4)]: Done  42 tasks      | elapsed:    6.3s\n",
      "[Parallel(n_jobs=4)]: Done 192 tasks      | elapsed:   28.0s\n",
      "[Parallel(n_jobs=4)]: Done 442 tasks      | elapsed:  1.1min\n",
      "[Parallel(n_jobs=4)]: Done 580 out of 580 | elapsed:  1.4min finished\n"
     ]
    },
    {
     "name": "stdout",
     "output_type": "stream",
     "text": [
      "time to fit:  103.42696642875671\n"
     ]
    },
    {
     "name": "stderr",
     "output_type": "stream",
     "text": [
      "[Parallel(n_jobs=4)]: Done  42 tasks      | elapsed:    0.4s\n",
      "[Parallel(n_jobs=4)]: Done 192 tasks      | elapsed:    2.0s\n",
      "[Parallel(n_jobs=4)]: Done 442 tasks      | elapsed:    4.7s\n",
      "[Parallel(n_jobs=4)]: Done 580 out of 580 | elapsed:    6.2s finished\n"
     ]
    },
    {
     "name": "stdout",
     "output_type": "stream",
     "text": [
      "time to predict:  6.950482130050659 \n",
      "\n"
     ]
    },
    {
     "name": "stderr",
     "output_type": "stream",
     "text": [
      "[Parallel(n_jobs=4)]: Done  42 tasks      | elapsed:    0.4s\n",
      "[Parallel(n_jobs=4)]: Done 192 tasks      | elapsed:    2.0s\n",
      "[Parallel(n_jobs=4)]: Done 442 tasks      | elapsed:    4.7s\n",
      "[Parallel(n_jobs=4)]: Done 580 out of 580 | elapsed:    6.2s finished\n"
     ]
    },
    {
     "name": "stdout",
     "output_type": "stream",
     "text": [
      "training score:  0.819467661178\n",
      "crossval score:  0.812457932976\n",
      "oob score:  0.978160714992\n",
      "Sort of truth table bouy\n",
      "0    293828\n",
      "1      9617\n",
      "Name: 0, dtype: int64\n",
      "0    292472\n",
      "1     10973\n",
      "Name: click, dtype: int64\n",
      "Done ::  580\n",
      "Model with  595  max_features \n"
     ]
    },
    {
     "name": "stderr",
     "output_type": "stream",
     "text": [
      "[Parallel(n_jobs=4)]: Done  42 tasks      | elapsed:    6.3s\n",
      "[Parallel(n_jobs=4)]: Done 192 tasks      | elapsed:   28.0s\n",
      "[Parallel(n_jobs=4)]: Done 442 tasks      | elapsed:  1.1min\n",
      "[Parallel(n_jobs=4)]: Done 595 out of 595 | elapsed:  1.4min finished\n"
     ]
    },
    {
     "name": "stdout",
     "output_type": "stream",
     "text": [
      "time to fit:  105.85336661338806\n"
     ]
    },
    {
     "name": "stderr",
     "output_type": "stream",
     "text": [
      "[Parallel(n_jobs=4)]: Done  42 tasks      | elapsed:    0.4s\n",
      "[Parallel(n_jobs=4)]: Done 192 tasks      | elapsed:    2.0s\n",
      "[Parallel(n_jobs=4)]: Done 442 tasks      | elapsed:    4.7s\n",
      "[Parallel(n_jobs=4)]: Done 595 out of 595 | elapsed:    6.4s finished\n"
     ]
    },
    {
     "name": "stdout",
     "output_type": "stream",
     "text": [
      "time to predict:  7.179723501205444 \n",
      "\n"
     ]
    },
    {
     "name": "stderr",
     "output_type": "stream",
     "text": [
      "[Parallel(n_jobs=4)]: Done  42 tasks      | elapsed:    0.4s\n",
      "[Parallel(n_jobs=4)]: Done 192 tasks      | elapsed:    2.0s\n",
      "[Parallel(n_jobs=4)]: Done 442 tasks      | elapsed:    4.7s\n",
      "[Parallel(n_jobs=4)]: Done 595 out of 595 | elapsed:    6.4s finished\n"
     ]
    },
    {
     "name": "stdout",
     "output_type": "stream",
     "text": [
      "training score:  0.8195033331\n",
      "crossval score:  0.812506918497\n",
      "oob score:  0.978167305994\n",
      "Sort of truth table bouy\n",
      "0    293829\n",
      "1      9616\n",
      "Name: 0, dtype: int64\n",
      "0    292472\n",
      "1     10973\n",
      "Name: click, dtype: int64\n",
      "Done ::  595\n",
      "Model with  610  max_features \n"
     ]
    },
    {
     "name": "stderr",
     "output_type": "stream",
     "text": [
      "[Parallel(n_jobs=4)]: Done  42 tasks      | elapsed:    6.4s\n",
      "[Parallel(n_jobs=4)]: Done 192 tasks      | elapsed:   27.9s\n",
      "[Parallel(n_jobs=4)]: Done 442 tasks      | elapsed:  1.1min\n",
      "[Parallel(n_jobs=4)]: Done 610 out of 610 | elapsed:  1.5min finished\n"
     ]
    },
    {
     "name": "stdout",
     "output_type": "stream",
     "text": [
      "time to fit:  108.66271615028381\n"
     ]
    },
    {
     "name": "stderr",
     "output_type": "stream",
     "text": [
      "[Parallel(n_jobs=4)]: Done  42 tasks      | elapsed:    0.4s\n",
      "[Parallel(n_jobs=4)]: Done 192 tasks      | elapsed:    2.0s\n",
      "[Parallel(n_jobs=4)]: Done 442 tasks      | elapsed:    4.7s\n",
      "[Parallel(n_jobs=4)]: Done 610 out of 610 | elapsed:    6.5s finished\n"
     ]
    },
    {
     "name": "stdout",
     "output_type": "stream",
     "text": [
      "time to predict:  7.277677297592163 \n",
      "\n"
     ]
    },
    {
     "name": "stderr",
     "output_type": "stream",
     "text": [
      "[Parallel(n_jobs=4)]: Done  42 tasks      | elapsed:    0.4s\n",
      "[Parallel(n_jobs=4)]: Done 192 tasks      | elapsed:    2.0s\n",
      "[Parallel(n_jobs=4)]: Done 442 tasks      | elapsed:    4.7s\n",
      "[Parallel(n_jobs=4)]: Done 610 out of 610 | elapsed:    6.5s finished\n"
     ]
    },
    {
     "name": "stdout",
     "output_type": "stream",
     "text": [
      "training score:  0.819448861422\n",
      "crossval score:  0.812363381065\n",
      "oob score:  0.978144237487\n",
      "Sort of truth table bouy\n",
      "0    293828\n",
      "1      9617\n",
      "Name: 0, dtype: int64\n",
      "0    292472\n",
      "1     10973\n",
      "Name: click, dtype: int64\n",
      "Done ::  610\n",
      "Model with  625  max_features \n"
     ]
    },
    {
     "name": "stderr",
     "output_type": "stream",
     "text": [
      "[Parallel(n_jobs=4)]: Done  42 tasks      | elapsed:    6.3s\n",
      "[Parallel(n_jobs=4)]: Done 192 tasks      | elapsed:   28.0s\n",
      "[Parallel(n_jobs=4)]: Done 442 tasks      | elapsed:  1.1min\n",
      "[Parallel(n_jobs=4)]: Done 625 out of 625 | elapsed:  1.5min finished\n"
     ]
    },
    {
     "name": "stdout",
     "output_type": "stream",
     "text": [
      "time to fit:  111.28757095336914\n"
     ]
    },
    {
     "name": "stderr",
     "output_type": "stream",
     "text": [
      "[Parallel(n_jobs=4)]: Done  42 tasks      | elapsed:    0.4s\n",
      "[Parallel(n_jobs=4)]: Done 192 tasks      | elapsed:    2.0s\n",
      "[Parallel(n_jobs=4)]: Done 442 tasks      | elapsed:    4.7s\n",
      "[Parallel(n_jobs=4)]: Done 625 out of 625 | elapsed:    6.7s finished\n"
     ]
    },
    {
     "name": "stdout",
     "output_type": "stream",
     "text": [
      "time to predict:  7.508349657058716 \n",
      "\n"
     ]
    },
    {
     "name": "stderr",
     "output_type": "stream",
     "text": [
      "[Parallel(n_jobs=4)]: Done  42 tasks      | elapsed:    0.4s\n",
      "[Parallel(n_jobs=4)]: Done 192 tasks      | elapsed:    2.0s\n",
      "[Parallel(n_jobs=4)]: Done 442 tasks      | elapsed:    4.7s\n",
      "[Parallel(n_jobs=4)]: Done 625 out of 625 | elapsed:    6.7s finished\n"
     ]
    },
    {
     "name": "stdout",
     "output_type": "stream",
     "text": [
      "training score:  0.819593476699\n",
      "crossval score:  0.812501789801\n",
      "oob score:  0.97815412399\n",
      "Sort of truth table bouy\n",
      "0    293826\n",
      "1      9619\n",
      "Name: 0, dtype: int64\n",
      "0    292472\n",
      "1     10973\n",
      "Name: click, dtype: int64\n",
      "Done ::  625\n",
      "Model with  640  max_features \n"
     ]
    },
    {
     "name": "stderr",
     "output_type": "stream",
     "text": [
      "[Parallel(n_jobs=4)]: Done  42 tasks      | elapsed:    6.3s\n",
      "[Parallel(n_jobs=4)]: Done 192 tasks      | elapsed:   27.9s\n",
      "[Parallel(n_jobs=4)]: Done 442 tasks      | elapsed:  1.1min\n",
      "[Parallel(n_jobs=4)]: Done 640 out of 640 | elapsed:  1.5min finished\n"
     ]
    },
    {
     "name": "stdout",
     "output_type": "stream",
     "text": [
      "time to fit:  113.39069652557373\n"
     ]
    },
    {
     "name": "stderr",
     "output_type": "stream",
     "text": [
      "[Parallel(n_jobs=4)]: Done  42 tasks      | elapsed:    0.4s\n",
      "[Parallel(n_jobs=4)]: Done 192 tasks      | elapsed:    2.0s\n",
      "[Parallel(n_jobs=4)]: Done 442 tasks      | elapsed:    4.7s\n",
      "[Parallel(n_jobs=4)]: Done 640 out of 640 | elapsed:    6.8s finished\n"
     ]
    },
    {
     "name": "stdout",
     "output_type": "stream",
     "text": [
      "time to predict:  7.732458114624023 \n",
      "\n"
     ]
    },
    {
     "name": "stderr",
     "output_type": "stream",
     "text": [
      "[Parallel(n_jobs=4)]: Done  42 tasks      | elapsed:    0.4s\n",
      "[Parallel(n_jobs=4)]: Done 192 tasks      | elapsed:    2.0s\n",
      "[Parallel(n_jobs=4)]: Done 442 tasks      | elapsed:    4.7s\n",
      "[Parallel(n_jobs=4)]: Done 640 out of 640 | elapsed:    6.9s finished\n"
     ]
    },
    {
     "name": "stdout",
     "output_type": "stream",
     "text": [
      "training score:  0.819647948377\n",
      "crossval score:  0.812542227495\n",
      "oob score:  0.978150828489\n",
      "Sort of truth table bouy\n",
      "0    293822\n",
      "1      9623\n",
      "Name: 0, dtype: int64\n",
      "0    292472\n",
      "1     10973\n",
      "Name: click, dtype: int64\n",
      "Done ::  640\n",
      "Model with  655  max_features \n"
     ]
    },
    {
     "name": "stderr",
     "output_type": "stream",
     "text": [
      "[Parallel(n_jobs=4)]: Done  42 tasks      | elapsed:    6.3s\n",
      "[Parallel(n_jobs=4)]: Done 192 tasks      | elapsed:   27.9s\n",
      "[Parallel(n_jobs=4)]: Done 442 tasks      | elapsed:  1.1min\n",
      "[Parallel(n_jobs=4)]: Done 655 out of 655 | elapsed:  1.6min finished\n"
     ]
    },
    {
     "name": "stdout",
     "output_type": "stream",
     "text": [
      "time to fit:  116.31264281272888\n"
     ]
    },
    {
     "name": "stderr",
     "output_type": "stream",
     "text": [
      "[Parallel(n_jobs=4)]: Done  42 tasks      | elapsed:    0.4s\n",
      "[Parallel(n_jobs=4)]: Done 192 tasks      | elapsed:    2.0s\n",
      "[Parallel(n_jobs=4)]: Done 442 tasks      | elapsed:    4.7s\n",
      "[Parallel(n_jobs=4)]: Done 655 out of 655 | elapsed:    7.0s finished\n"
     ]
    },
    {
     "name": "stdout",
     "output_type": "stream",
     "text": [
      "time to predict:  7.828829765319824 \n",
      "\n"
     ]
    },
    {
     "name": "stderr",
     "output_type": "stream",
     "text": [
      "[Parallel(n_jobs=4)]: Done  42 tasks      | elapsed:    0.4s\n",
      "[Parallel(n_jobs=4)]: Done 192 tasks      | elapsed:    2.0s\n",
      "[Parallel(n_jobs=4)]: Done 442 tasks      | elapsed:    4.7s\n",
      "[Parallel(n_jobs=4)]: Done 655 out of 655 | elapsed:    7.0s finished\n"
     ]
    },
    {
     "name": "stdout",
     "output_type": "stream",
     "text": [
      "training score:  0.819744928251\n",
      "crossval score:  0.812594632147\n",
      "oob score:  0.978164010493\n",
      "Sort of truth table bouy\n",
      "0    293825\n",
      "1      9620\n",
      "Name: 0, dtype: int64\n",
      "0    292472\n",
      "1     10973\n",
      "Name: click, dtype: int64\n",
      "Done ::  655\n",
      "Model with  670  max_features \n"
     ]
    },
    {
     "name": "stderr",
     "output_type": "stream",
     "text": [
      "[Parallel(n_jobs=4)]: Done  42 tasks      | elapsed:    6.2s\n",
      "[Parallel(n_jobs=4)]: Done 192 tasks      | elapsed:   27.9s\n",
      "[Parallel(n_jobs=4)]: Done 442 tasks      | elapsed:  1.1min\n",
      "[Parallel(n_jobs=4)]: Done 670 out of 670 | elapsed:  1.6min finished\n"
     ]
    },
    {
     "name": "stdout",
     "output_type": "stream",
     "text": [
      "time to fit:  118.88088202476501\n"
     ]
    },
    {
     "name": "stderr",
     "output_type": "stream",
     "text": [
      "[Parallel(n_jobs=4)]: Done  42 tasks      | elapsed:    0.4s\n",
      "[Parallel(n_jobs=4)]: Done 192 tasks      | elapsed:    2.0s\n",
      "[Parallel(n_jobs=4)]: Done 442 tasks      | elapsed:    4.7s\n",
      "[Parallel(n_jobs=4)]: Done 670 out of 670 | elapsed:    7.1s finished\n"
     ]
    },
    {
     "name": "stdout",
     "output_type": "stream",
     "text": [
      "time to predict:  8.084904670715332 \n",
      "\n"
     ]
    },
    {
     "name": "stderr",
     "output_type": "stream",
     "text": [
      "[Parallel(n_jobs=4)]: Done  42 tasks      | elapsed:    0.4s\n",
      "[Parallel(n_jobs=4)]: Done 192 tasks      | elapsed:    2.0s\n",
      "[Parallel(n_jobs=4)]: Done 442 tasks      | elapsed:    4.7s\n",
      "[Parallel(n_jobs=4)]: Done 670 out of 670 | elapsed:    7.2s finished\n"
     ]
    },
    {
     "name": "stdout",
     "output_type": "stream",
     "text": [
      "training score:  0.819690456574\n",
      "crossval score:  0.812591213016\n",
      "oob score:  0.978167305994\n",
      "Sort of truth table bouy\n",
      "0    293823\n",
      "1      9622\n",
      "Name: 0, dtype: int64\n",
      "0    292472\n",
      "1     10973\n",
      "Name: click, dtype: int64\n",
      "Done ::  670\n",
      "Model with  685  max_features \n"
     ]
    },
    {
     "name": "stderr",
     "output_type": "stream",
     "text": [
      "[Parallel(n_jobs=4)]: Done  42 tasks      | elapsed:    6.3s\n",
      "[Parallel(n_jobs=4)]: Done 192 tasks      | elapsed:   27.9s\n",
      "[Parallel(n_jobs=4)]: Done 442 tasks      | elapsed:  1.1min\n",
      "[Parallel(n_jobs=4)]: Done 685 out of 685 | elapsed:  1.6min finished\n"
     ]
    },
    {
     "name": "stdout",
     "output_type": "stream",
     "text": [
      "time to fit:  121.30898928642273\n"
     ]
    },
    {
     "name": "stderr",
     "output_type": "stream",
     "text": [
      "[Parallel(n_jobs=4)]: Done  42 tasks      | elapsed:    0.4s\n",
      "[Parallel(n_jobs=4)]: Done 192 tasks      | elapsed:    2.0s\n",
      "[Parallel(n_jobs=4)]: Done 442 tasks      | elapsed:    4.7s\n",
      "[Parallel(n_jobs=4)]: Done 685 out of 685 | elapsed:    7.3s finished\n"
     ]
    },
    {
     "name": "stdout",
     "output_type": "stream",
     "text": [
      "time to predict:  8.182855606079102 \n",
      "\n"
     ]
    },
    {
     "name": "stderr",
     "output_type": "stream",
     "text": [
      "[Parallel(n_jobs=4)]: Done  42 tasks      | elapsed:    0.4s\n",
      "[Parallel(n_jobs=4)]: Done 192 tasks      | elapsed:    2.0s\n",
      "[Parallel(n_jobs=4)]: Done 442 tasks      | elapsed:    4.7s\n",
      "[Parallel(n_jobs=4)]: Done 685 out of 685 | elapsed:    7.3s finished\n"
     ]
    },
    {
     "name": "stdout",
     "output_type": "stream",
     "text": [
      "training score:  0.81964453024\n",
      "crossval score:  0.812604889539\n",
      "oob score:  0.978170601495\n",
      "Sort of truth table bouy\n",
      "0    293831\n",
      "1      9614\n",
      "Name: 0, dtype: int64\n",
      "0    292472\n",
      "1     10973\n",
      "Name: click, dtype: int64\n",
      "Done ::  685\n",
      "Model with  700  max_features \n"
     ]
    },
    {
     "name": "stderr",
     "output_type": "stream",
     "text": [
      "[Parallel(n_jobs=4)]: Done  42 tasks      | elapsed:    6.3s\n",
      "[Parallel(n_jobs=4)]: Done 192 tasks      | elapsed:   27.8s\n",
      "[Parallel(n_jobs=4)]: Done 442 tasks      | elapsed:  1.1min\n",
      "[Parallel(n_jobs=4)]: Done 700 out of 700 | elapsed:  1.7min finished\n"
     ]
    },
    {
     "name": "stdout",
     "output_type": "stream",
     "text": [
      "time to fit:  124.00058603286743\n"
     ]
    },
    {
     "name": "stderr",
     "output_type": "stream",
     "text": [
      "[Parallel(n_jobs=4)]: Done  42 tasks      | elapsed:    0.4s\n",
      "[Parallel(n_jobs=4)]: Done 192 tasks      | elapsed:    2.0s\n",
      "[Parallel(n_jobs=4)]: Done 442 tasks      | elapsed:    4.7s\n",
      "[Parallel(n_jobs=4)]: Done 700 out of 700 | elapsed:    7.5s finished\n"
     ]
    },
    {
     "name": "stdout",
     "output_type": "stream",
     "text": [
      "time to predict:  8.410097599029541 \n",
      "\n"
     ]
    },
    {
     "name": "stderr",
     "output_type": "stream",
     "text": [
      "[Parallel(n_jobs=4)]: Done  42 tasks      | elapsed:    0.4s\n",
      "[Parallel(n_jobs=4)]: Done 192 tasks      | elapsed:    2.0s\n",
      "[Parallel(n_jobs=4)]: Done 442 tasks      | elapsed:    4.7s\n",
      "[Parallel(n_jobs=4)]: Done 700 out of 700 | elapsed:    7.5s finished\n"
     ]
    },
    {
     "name": "stdout",
     "output_type": "stream",
     "text": [
      "training score:  0.819741510114\n",
      "crossval score:  0.812561032714\n",
      "oob score:  0.978167305994\n",
      "Sort of truth table bouy\n",
      "0    293833\n",
      "1      9612\n",
      "Name: 0, dtype: int64\n",
      "0    292472\n",
      "1     10973\n",
      "Name: click, dtype: int64\n",
      "Done ::  700\n",
      "Model with  715  max_features \n"
     ]
    },
    {
     "name": "stderr",
     "output_type": "stream",
     "text": [
      "[Parallel(n_jobs=4)]: Done  42 tasks      | elapsed:    6.2s\n",
      "[Parallel(n_jobs=4)]: Done 192 tasks      | elapsed:   27.7s\n",
      "[Parallel(n_jobs=4)]: Done 442 tasks      | elapsed:  1.1min\n",
      "[Parallel(n_jobs=4)]: Done 715 out of 715 | elapsed:  1.7min finished\n"
     ]
    },
    {
     "name": "stdout",
     "output_type": "stream",
     "text": [
      "time to fit:  127.02705264091492\n"
     ]
    },
    {
     "name": "stderr",
     "output_type": "stream",
     "text": [
      "[Parallel(n_jobs=4)]: Done  42 tasks      | elapsed:    0.4s\n",
      "[Parallel(n_jobs=4)]: Done 192 tasks      | elapsed:    2.0s\n",
      "[Parallel(n_jobs=4)]: Done 442 tasks      | elapsed:    4.7s\n",
      "[Parallel(n_jobs=4)]: Done 715 out of 715 | elapsed:    7.6s finished\n"
     ]
    },
    {
     "name": "stdout",
     "output_type": "stream",
     "text": [
      "time to predict:  8.624187469482422 \n",
      "\n"
     ]
    },
    {
     "name": "stderr",
     "output_type": "stream",
     "text": [
      "[Parallel(n_jobs=4)]: Done  42 tasks      | elapsed:    0.4s\n",
      "[Parallel(n_jobs=4)]: Done 192 tasks      | elapsed:    2.0s\n",
      "[Parallel(n_jobs=4)]: Done 442 tasks      | elapsed:    4.7s\n",
      "[Parallel(n_jobs=4)]: Done 715 out of 715 | elapsed:    7.6s finished\n"
     ]
    },
    {
     "name": "stdout",
     "output_type": "stream",
     "text": [
      "training score:  0.819782309242\n",
      "crossval score:  0.812601470408\n",
      "oob score:  0.97815412399\n",
      "Sort of truth table bouy\n",
      "0    293829\n",
      "1      9616\n",
      "Name: 0, dtype: int64\n",
      "0    292472\n",
      "1     10973\n",
      "Name: click, dtype: int64\n",
      "Done ::  715\n",
      "Model with  730  max_features \n"
     ]
    },
    {
     "name": "stderr",
     "output_type": "stream",
     "text": [
      "[Parallel(n_jobs=4)]: Done  42 tasks      | elapsed:    6.3s\n",
      "[Parallel(n_jobs=4)]: Done 192 tasks      | elapsed:   28.0s\n",
      "[Parallel(n_jobs=4)]: Done 442 tasks      | elapsed:  1.1min\n",
      "[Parallel(n_jobs=4)]: Done 730 out of 730 | elapsed:  1.8min finished\n"
     ]
    },
    {
     "name": "stdout",
     "output_type": "stream",
     "text": [
      "time to fit:  130.3355164527893\n"
     ]
    },
    {
     "name": "stderr",
     "output_type": "stream",
     "text": [
      "[Parallel(n_jobs=4)]: Done  42 tasks      | elapsed:    0.4s\n",
      "[Parallel(n_jobs=4)]: Done 192 tasks      | elapsed:    2.0s\n",
      "[Parallel(n_jobs=4)]: Done 442 tasks      | elapsed:    4.7s\n",
      "[Parallel(n_jobs=4)]: Done 730 out of 730 | elapsed:    7.8s finished\n"
     ]
    },
    {
     "name": "stdout",
     "output_type": "stream",
     "text": [
      "time to predict:  8.83336853981018 \n",
      "\n"
     ]
    },
    {
     "name": "stderr",
     "output_type": "stream",
     "text": [
      "[Parallel(n_jobs=4)]: Done  42 tasks      | elapsed:    0.4s\n",
      "[Parallel(n_jobs=4)]: Done 192 tasks      | elapsed:    2.0s\n",
      "[Parallel(n_jobs=4)]: Done 442 tasks      | elapsed:    4.7s\n",
      "[Parallel(n_jobs=4)]: Done 730 out of 730 | elapsed:    7.8s finished\n"
     ]
    },
    {
     "name": "stdout",
     "output_type": "stream",
     "text": [
      "training score:  0.819782309242\n",
      "crossval score:  0.812561032714\n",
      "oob score:  0.978157419491\n",
      "Sort of truth table bouy\n",
      "0    293833\n",
      "1      9612\n",
      "Name: 0, dtype: int64\n",
      "0    292472\n",
      "1     10973\n",
      "Name: click, dtype: int64\n",
      "Done ::  730\n",
      "Model with  745  max_features \n"
     ]
    },
    {
     "name": "stderr",
     "output_type": "stream",
     "text": [
      "[Parallel(n_jobs=4)]: Done  42 tasks      | elapsed:    6.2s\n",
      "[Parallel(n_jobs=4)]: Done 192 tasks      | elapsed:   27.8s\n",
      "[Parallel(n_jobs=4)]: Done 442 tasks      | elapsed:  1.1min\n",
      "[Parallel(n_jobs=4)]: Done 745 out of 745 | elapsed:  1.8min finished\n"
     ]
    },
    {
     "name": "stdout",
     "output_type": "stream",
     "text": [
      "time to fit:  132.251225233078\n"
     ]
    },
    {
     "name": "stderr",
     "output_type": "stream",
     "text": [
      "[Parallel(n_jobs=4)]: Done  42 tasks      | elapsed:    0.4s\n",
      "[Parallel(n_jobs=4)]: Done 192 tasks      | elapsed:    2.0s\n",
      "[Parallel(n_jobs=4)]: Done 442 tasks      | elapsed:    4.7s\n",
      "[Parallel(n_jobs=4)]: Done 745 out of 745 | elapsed:    8.0s finished\n"
     ]
    },
    {
     "name": "stdout",
     "output_type": "stream",
     "text": [
      "time to predict:  8.977018594741821 \n",
      "\n"
     ]
    },
    {
     "name": "stderr",
     "output_type": "stream",
     "text": [
      "[Parallel(n_jobs=4)]: Done  42 tasks      | elapsed:    0.4s\n",
      "[Parallel(n_jobs=4)]: Done 192 tasks      | elapsed:    2.0s\n",
      "[Parallel(n_jobs=4)]: Done 442 tasks      | elapsed:    4.9s\n",
      "[Parallel(n_jobs=4)]: Done 745 out of 745 | elapsed:    8.1s finished\n"
     ]
    },
    {
     "name": "stdout",
     "output_type": "stream",
     "text": [
      "training score:  0.819777182036\n",
      "crossval score:  0.812596341712\n",
      "oob score:  0.97815412399\n",
      "Sort of truth table bouy\n",
      "0    293826\n",
      "1      9619\n",
      "Name: 0, dtype: int64\n",
      "0    292472\n",
      "1     10973\n",
      "Name: click, dtype: int64\n",
      "Done ::  745\n",
      "Model with  760  max_features \n"
     ]
    },
    {
     "name": "stderr",
     "output_type": "stream",
     "text": [
      "[Parallel(n_jobs=4)]: Done  42 tasks      | elapsed:    6.3s\n",
      "[Parallel(n_jobs=4)]: Done 192 tasks      | elapsed:   27.9s\n",
      "[Parallel(n_jobs=4)]: Done 442 tasks      | elapsed:  1.1min\n",
      "[Parallel(n_jobs=4)]: Done 760 out of 760 | elapsed:  1.8min finished\n"
     ]
    },
    {
     "name": "stdout",
     "output_type": "stream",
     "text": [
      "time to fit:  135.06789541244507\n"
     ]
    },
    {
     "name": "stderr",
     "output_type": "stream",
     "text": [
      "[Parallel(n_jobs=4)]: Done  42 tasks      | elapsed:    0.4s\n",
      "[Parallel(n_jobs=4)]: Done 192 tasks      | elapsed:    2.0s\n",
      "[Parallel(n_jobs=4)]: Done 442 tasks      | elapsed:    4.7s\n",
      "[Parallel(n_jobs=4)]: Done 760 out of 760 | elapsed:    8.2s finished\n"
     ]
    },
    {
     "name": "stdout",
     "output_type": "stream",
     "text": [
      "time to predict:  9.176163911819458 \n",
      "\n"
     ]
    },
    {
     "name": "stderr",
     "output_type": "stream",
     "text": [
      "[Parallel(n_jobs=4)]: Done  42 tasks      | elapsed:    0.4s\n",
      "[Parallel(n_jobs=4)]: Done 192 tasks      | elapsed:    2.0s\n",
      "[Parallel(n_jobs=4)]: Done 442 tasks      | elapsed:    4.8s\n",
      "[Parallel(n_jobs=4)]: Done 760 out of 760 | elapsed:    8.2s finished\n"
     ]
    },
    {
     "name": "stdout",
     "output_type": "stream",
     "text": [
      "training score:  0.819867325636\n",
      "crossval score:  0.812917016009\n",
      "oob score:  0.978140941986\n",
      "Sort of truth table bouy\n",
      "0    293820\n",
      "1      9625\n",
      "Name: 0, dtype: int64\n",
      "0    292472\n",
      "1     10973\n",
      "Name: click, dtype: int64\n",
      "Done ::  760\n",
      "Model with  775  max_features \n"
     ]
    },
    {
     "name": "stderr",
     "output_type": "stream",
     "text": [
      "[Parallel(n_jobs=4)]: Done  42 tasks      | elapsed:    6.2s\n",
      "[Parallel(n_jobs=4)]: Done 192 tasks      | elapsed:   27.7s\n",
      "[Parallel(n_jobs=4)]: Done 442 tasks      | elapsed:  1.1min\n",
      "[Parallel(n_jobs=4)]: Done 775 out of 775 | elapsed:  1.9min finished\n"
     ]
    },
    {
     "name": "stdout",
     "output_type": "stream",
     "text": [
      "time to fit:  137.8174033164978\n"
     ]
    },
    {
     "name": "stderr",
     "output_type": "stream",
     "text": [
      "[Parallel(n_jobs=4)]: Done  42 tasks      | elapsed:    0.4s\n",
      "[Parallel(n_jobs=4)]: Done 192 tasks      | elapsed:    2.0s\n",
      "[Parallel(n_jobs=4)]: Done 442 tasks      | elapsed:    4.7s\n",
      "[Parallel(n_jobs=4)]: Done 775 out of 775 | elapsed:    8.2s finished\n"
     ]
    },
    {
     "name": "stdout",
     "output_type": "stream",
     "text": [
      "time to predict:  9.29896879196167 \n",
      "\n"
     ]
    },
    {
     "name": "stderr",
     "output_type": "stream",
     "text": [
      "[Parallel(n_jobs=4)]: Done  42 tasks      | elapsed:    0.4s\n",
      "[Parallel(n_jobs=4)]: Done 192 tasks      | elapsed:    2.0s\n",
      "[Parallel(n_jobs=4)]: Done 442 tasks      | elapsed:    4.7s\n",
      "[Parallel(n_jobs=4)]: Done 775 out of 775 | elapsed:    8.3s finished\n"
     ]
    },
    {
     "name": "stdout",
     "output_type": "stream",
     "text": [
      "training score:  0.819869034704\n",
      "crossval score:  0.812812206706\n",
      "oob score:  0.978134350984\n",
      "Sort of truth table bouy\n",
      "0    293814\n",
      "1      9631\n",
      "Name: 0, dtype: int64\n",
      "0    292472\n",
      "1     10973\n",
      "Name: click, dtype: int64\n",
      "Done ::  775\n",
      "Model with  790  max_features \n"
     ]
    },
    {
     "name": "stderr",
     "output_type": "stream",
     "text": [
      "[Parallel(n_jobs=4)]: Done  42 tasks      | elapsed:    6.3s\n",
      "[Parallel(n_jobs=4)]: Done 192 tasks      | elapsed:   28.0s\n",
      "[Parallel(n_jobs=4)]: Done 442 tasks      | elapsed:  1.1min\n",
      "[Parallel(n_jobs=4)]: Done 790 out of 790 | elapsed:  1.9min finished\n"
     ]
    },
    {
     "name": "stdout",
     "output_type": "stream",
     "text": [
      "time to fit:  140.27003693580627\n"
     ]
    },
    {
     "name": "stderr",
     "output_type": "stream",
     "text": [
      "[Parallel(n_jobs=4)]: Done  42 tasks      | elapsed:    0.4s\n",
      "[Parallel(n_jobs=4)]: Done 192 tasks      | elapsed:    2.0s\n",
      "[Parallel(n_jobs=4)]: Done 442 tasks      | elapsed:    4.7s\n",
      "[Parallel(n_jobs=4)]: Done 790 out of 790 | elapsed:    8.5s finished\n"
     ]
    },
    {
     "name": "stdout",
     "output_type": "stream",
     "text": [
      "time to predict:  9.535346031188965 \n",
      "\n"
     ]
    },
    {
     "name": "stderr",
     "output_type": "stream",
     "text": [
      "[Parallel(n_jobs=4)]: Done  42 tasks      | elapsed:    0.4s\n",
      "[Parallel(n_jobs=4)]: Done 192 tasks      | elapsed:    2.0s\n",
      "[Parallel(n_jobs=4)]: Done 442 tasks      | elapsed:    4.7s\n",
      "[Parallel(n_jobs=4)]: Done 790 out of 790 | elapsed:    8.4s finished\n"
     ]
    },
    {
     "name": "stdout",
     "output_type": "stream",
     "text": [
      "training score:  0.81982310837\n",
      "crossval score:  0.812827592794\n",
      "oob score:  0.978140941986\n",
      "Sort of truth table bouy\n",
      "0    293823\n",
      "1      9622\n",
      "Name: 0, dtype: int64\n",
      "0    292472\n",
      "1     10973\n",
      "Name: click, dtype: int64\n",
      "Done ::  790\n",
      "Model with  805  max_features \n"
     ]
    },
    {
     "name": "stderr",
     "output_type": "stream",
     "text": [
      "[Parallel(n_jobs=4)]: Done  42 tasks      | elapsed:    6.3s\n",
      "[Parallel(n_jobs=4)]: Done 192 tasks      | elapsed:   27.8s\n",
      "[Parallel(n_jobs=4)]: Done 442 tasks      | elapsed:  1.1min\n",
      "[Parallel(n_jobs=4)]: Done 792 tasks      | elapsed:  1.9min\n",
      "[Parallel(n_jobs=4)]: Done 805 out of 805 | elapsed:  1.9min finished\n"
     ]
    },
    {
     "name": "stdout",
     "output_type": "stream",
     "text": [
      "time to fit:  143.00148963928223\n"
     ]
    },
    {
     "name": "stderr",
     "output_type": "stream",
     "text": [
      "[Parallel(n_jobs=4)]: Done  42 tasks      | elapsed:    0.4s\n",
      "[Parallel(n_jobs=4)]: Done 192 tasks      | elapsed:    2.0s\n",
      "[Parallel(n_jobs=4)]: Done 442 tasks      | elapsed:    4.7s\n",
      "[Parallel(n_jobs=4)]: Done 792 tasks      | elapsed:    8.5s\n",
      "[Parallel(n_jobs=4)]: Done 805 out of 805 | elapsed:    8.6s finished\n"
     ]
    },
    {
     "name": "stdout",
     "output_type": "stream",
     "text": [
      "time to predict:  9.643350601196289 \n",
      "\n"
     ]
    },
    {
     "name": "stderr",
     "output_type": "stream",
     "text": [
      "[Parallel(n_jobs=4)]: Done  42 tasks      | elapsed:    0.4s\n",
      "[Parallel(n_jobs=4)]: Done 192 tasks      | elapsed:    2.0s\n",
      "[Parallel(n_jobs=4)]: Done 442 tasks      | elapsed:    4.8s\n",
      "[Parallel(n_jobs=4)]: Done 792 tasks      | elapsed:    8.5s\n",
      "[Parallel(n_jobs=4)]: Done 805 out of 805 | elapsed:    8.6s finished\n"
     ]
    },
    {
     "name": "stdout",
     "output_type": "stream",
     "text": [
      "training score:  0.819914961039\n",
      "crossval score:  0.813060553441\n",
      "oob score:  0.978167305994\n",
      "Sort of truth table bouy\n",
      "0    293821\n",
      "1      9624\n",
      "Name: 0, dtype: int64\n",
      "0    292472\n",
      "1     10973\n",
      "Name: click, dtype: int64\n",
      "Done ::  805\n",
      "Model with  820  max_features \n"
     ]
    },
    {
     "name": "stderr",
     "output_type": "stream",
     "text": [
      "[Parallel(n_jobs=4)]: Done  42 tasks      | elapsed:    6.0s\n",
      "[Parallel(n_jobs=4)]: Done 192 tasks      | elapsed:   26.9s\n",
      "[Parallel(n_jobs=4)]: Done 442 tasks      | elapsed:  1.0min\n",
      "[Parallel(n_jobs=4)]: Done 792 tasks      | elapsed:  1.9min\n",
      "[Parallel(n_jobs=4)]: Done 820 out of 820 | elapsed:  2.0min finished\n"
     ]
    },
    {
     "name": "stdout",
     "output_type": "stream",
     "text": [
      "time to fit:  145.86871600151062\n"
     ]
    },
    {
     "name": "stderr",
     "output_type": "stream",
     "text": [
      "[Parallel(n_jobs=4)]: Done  42 tasks      | elapsed:    0.4s\n",
      "[Parallel(n_jobs=4)]: Done 192 tasks      | elapsed:    2.0s\n",
      "[Parallel(n_jobs=4)]: Done 442 tasks      | elapsed:    4.7s\n",
      "[Parallel(n_jobs=4)]: Done 792 tasks      | elapsed:    8.4s\n",
      "[Parallel(n_jobs=4)]: Done 820 out of 820 | elapsed:    8.7s finished\n"
     ]
    },
    {
     "name": "stdout",
     "output_type": "stream",
     "text": [
      "time to predict:  9.778181314468384 \n",
      "\n"
     ]
    },
    {
     "name": "stderr",
     "output_type": "stream",
     "text": [
      "[Parallel(n_jobs=4)]: Done  42 tasks      | elapsed:    0.4s\n",
      "[Parallel(n_jobs=4)]: Done 192 tasks      | elapsed:    2.0s\n",
      "[Parallel(n_jobs=4)]: Done 442 tasks      | elapsed:    4.7s\n",
      "[Parallel(n_jobs=4)]: Done 792 tasks      | elapsed:    8.4s\n",
      "[Parallel(n_jobs=4)]: Done 820 out of 820 | elapsed:    8.7s finished\n"
     ]
    },
    {
     "name": "stdout",
     "output_type": "stream",
     "text": [
      "training score:  0.81992521545\n",
      "crossval score:  0.812841269317\n",
      "oob score:  0.978147532988\n",
      "Sort of truth table bouy\n",
      "0    293831\n",
      "1      9614\n",
      "Name: 0, dtype: int64\n",
      "0    292472\n",
      "1     10973\n",
      "Name: click, dtype: int64\n",
      "Done ::  820\n",
      "Model with  835  max_features \n"
     ]
    },
    {
     "name": "stderr",
     "output_type": "stream",
     "text": [
      "[Parallel(n_jobs=4)]: Done  42 tasks      | elapsed:    6.1s\n",
      "[Parallel(n_jobs=4)]: Done 192 tasks      | elapsed:   28.3s\n",
      "[Parallel(n_jobs=4)]: Done 442 tasks      | elapsed:  1.1min\n",
      "[Parallel(n_jobs=4)]: Done 792 tasks      | elapsed:  1.9min\n",
      "[Parallel(n_jobs=4)]: Done 835 out of 835 | elapsed:  2.0min finished\n"
     ]
    },
    {
     "name": "stdout",
     "output_type": "stream",
     "text": [
      "time to fit:  149.98473858833313\n"
     ]
    },
    {
     "name": "stderr",
     "output_type": "stream",
     "text": [
      "[Parallel(n_jobs=4)]: Done  42 tasks      | elapsed:    0.4s\n",
      "[Parallel(n_jobs=4)]: Done 192 tasks      | elapsed:    2.1s\n",
      "[Parallel(n_jobs=4)]: Done 442 tasks      | elapsed:    4.8s\n",
      "[Parallel(n_jobs=4)]: Done 792 tasks      | elapsed:    8.5s\n",
      "[Parallel(n_jobs=4)]: Done 835 out of 835 | elapsed:    9.0s finished\n"
     ]
    },
    {
     "name": "stdout",
     "output_type": "stream",
     "text": [
      "time to predict:  10.033011198043823 \n",
      "\n"
     ]
    },
    {
     "name": "stderr",
     "output_type": "stream",
     "text": [
      "[Parallel(n_jobs=4)]: Done  42 tasks      | elapsed:    0.4s\n",
      "[Parallel(n_jobs=4)]: Done 192 tasks      | elapsed:    2.1s\n",
      "[Parallel(n_jobs=4)]: Done 442 tasks      | elapsed:    5.0s\n",
      "[Parallel(n_jobs=4)]: Done 792 tasks      | elapsed:    8.7s\n",
      "[Parallel(n_jobs=4)]: Done 835 out of 835 | elapsed:    9.2s finished\n"
     ]
    },
    {
     "name": "stdout",
     "output_type": "stream",
     "text": [
      "training score:  0.819782309242\n",
      "crossval score:  0.812842978882\n",
      "oob score:  0.978150828489\n",
      "Sort of truth table bouy\n",
      "0    293832\n",
      "1      9613\n",
      "Name: 0, dtype: int64\n",
      "0    292472\n",
      "1     10973\n",
      "Name: click, dtype: int64\n",
      "Done ::  835\n",
      "Model with  850  max_features \n"
     ]
    },
    {
     "name": "stderr",
     "output_type": "stream",
     "text": [
      "[Parallel(n_jobs=4)]: Done  42 tasks      | elapsed:    6.0s\n",
      "[Parallel(n_jobs=4)]: Done 192 tasks      | elapsed:   27.3s\n",
      "[Parallel(n_jobs=4)]: Done 442 tasks      | elapsed:  1.0min\n",
      "[Parallel(n_jobs=4)]: Done 792 tasks      | elapsed:  1.9min\n",
      "[Parallel(n_jobs=4)]: Done 850 out of 850 | elapsed:  2.0min finished\n"
     ]
    },
    {
     "name": "stdout",
     "output_type": "stream",
     "text": [
      "time to fit:  150.2302782535553\n"
     ]
    },
    {
     "name": "stderr",
     "output_type": "stream",
     "text": [
      "[Parallel(n_jobs=4)]: Done  42 tasks      | elapsed:    0.4s\n",
      "[Parallel(n_jobs=4)]: Done 192 tasks      | elapsed:    2.0s\n",
      "[Parallel(n_jobs=4)]: Done 442 tasks      | elapsed:    4.6s\n",
      "[Parallel(n_jobs=4)]: Done 792 tasks      | elapsed:    8.4s\n",
      "[Parallel(n_jobs=4)]: Done 850 out of 850 | elapsed:    9.0s finished\n"
     ]
    },
    {
     "name": "stdout",
     "output_type": "stream",
     "text": [
      "time to predict:  10.051747560501099 \n",
      "\n"
     ]
    },
    {
     "name": "stderr",
     "output_type": "stream",
     "text": [
      "[Parallel(n_jobs=4)]: Done  42 tasks      | elapsed:    0.4s\n",
      "[Parallel(n_jobs=4)]: Done 192 tasks      | elapsed:    2.0s\n",
      "[Parallel(n_jobs=4)]: Done 442 tasks      | elapsed:    4.6s\n",
      "[Parallel(n_jobs=4)]: Done 792 tasks      | elapsed:    8.4s\n",
      "[Parallel(n_jobs=4)]: Done 850 out of 850 | elapsed:    9.0s finished\n"
     ]
    },
    {
     "name": "stdout",
     "output_type": "stream",
     "text": [
      "training score:  0.819867325636\n",
      "crossval score:  0.812785445535\n",
      "oob score:  0.978147532988\n",
      "Sort of truth table bouy\n",
      "0    293826\n",
      "1      9619\n",
      "Name: 0, dtype: int64\n",
      "0    292472\n",
      "1     10973\n",
      "Name: click, dtype: int64\n",
      "Done ::  850\n",
      "Model with  865  max_features \n"
     ]
    },
    {
     "name": "stderr",
     "output_type": "stream",
     "text": [
      "[Parallel(n_jobs=4)]: Done  42 tasks      | elapsed:    6.1s\n",
      "[Parallel(n_jobs=4)]: Done 192 tasks      | elapsed:   26.6s\n",
      "[Parallel(n_jobs=4)]: Done 442 tasks      | elapsed:  1.0min\n",
      "[Parallel(n_jobs=4)]: Done 792 tasks      | elapsed:  1.8min\n",
      "[Parallel(n_jobs=4)]: Done 865 out of 865 | elapsed:  2.0min finished\n"
     ]
    },
    {
     "name": "stdout",
     "output_type": "stream",
     "text": [
      "time to fit:  148.1584460735321\n"
     ]
    },
    {
     "name": "stderr",
     "output_type": "stream",
     "text": [
      "[Parallel(n_jobs=4)]: Done  42 tasks      | elapsed:    0.4s\n",
      "[Parallel(n_jobs=4)]: Done 192 tasks      | elapsed:    2.0s\n",
      "[Parallel(n_jobs=4)]: Done 442 tasks      | elapsed:    4.7s\n",
      "[Parallel(n_jobs=4)]: Done 792 tasks      | elapsed:    8.5s\n",
      "[Parallel(n_jobs=4)]: Done 865 out of 865 | elapsed:    9.3s finished\n"
     ]
    },
    {
     "name": "stdout",
     "output_type": "stream",
     "text": [
      "time to predict:  10.339608430862427 \n",
      "\n"
     ]
    },
    {
     "name": "stderr",
     "output_type": "stream",
     "text": [
      "[Parallel(n_jobs=4)]: Done  42 tasks      | elapsed:    0.4s\n",
      "[Parallel(n_jobs=4)]: Done 192 tasks      | elapsed:    2.0s\n",
      "[Parallel(n_jobs=4)]: Done 442 tasks      | elapsed:    4.6s\n",
      "[Parallel(n_jobs=4)]: Done 792 tasks      | elapsed:    8.4s\n",
      "[Parallel(n_jobs=4)]: Done 865 out of 865 | elapsed:    9.1s finished\n"
     ]
    },
    {
     "name": "stdout",
     "output_type": "stream",
     "text": [
      "training score:  0.819962596441\n",
      "crossval score:  0.81283272149\n",
      "oob score:  0.978137646485\n",
      "Sort of truth table bouy\n",
      "0    293826\n",
      "1      9619\n",
      "Name: 0, dtype: int64\n",
      "0    292472\n",
      "1     10973\n",
      "Name: click, dtype: int64\n",
      "Done ::  865\n",
      "Model with  880  max_features \n"
     ]
    },
    {
     "name": "stderr",
     "output_type": "stream",
     "text": [
      "[Parallel(n_jobs=4)]: Done  42 tasks      | elapsed:    6.0s\n",
      "[Parallel(n_jobs=4)]: Done 192 tasks      | elapsed:   26.6s\n",
      "[Parallel(n_jobs=4)]: Done 442 tasks      | elapsed:  1.0min\n",
      "[Parallel(n_jobs=4)]: Done 792 tasks      | elapsed:  1.8min\n",
      "[Parallel(n_jobs=4)]: Done 880 out of 880 | elapsed:  2.0min finished\n"
     ]
    },
    {
     "name": "stdout",
     "output_type": "stream",
     "text": [
      "time to fit:  149.968430519104\n"
     ]
    },
    {
     "name": "stderr",
     "output_type": "stream",
     "text": [
      "[Parallel(n_jobs=4)]: Done  42 tasks      | elapsed:    0.4s\n",
      "[Parallel(n_jobs=4)]: Done 192 tasks      | elapsed:    2.0s\n",
      "[Parallel(n_jobs=4)]: Done 442 tasks      | elapsed:    4.7s\n",
      "[Parallel(n_jobs=4)]: Done 792 tasks      | elapsed:    8.4s\n",
      "[Parallel(n_jobs=4)]: Done 880 out of 880 | elapsed:    9.4s finished\n"
     ]
    },
    {
     "name": "stdout",
     "output_type": "stream",
     "text": [
      "time to predict:  10.459151268005371 \n",
      "\n"
     ]
    },
    {
     "name": "stderr",
     "output_type": "stream",
     "text": [
      "[Parallel(n_jobs=4)]: Done  42 tasks      | elapsed:    0.4s\n",
      "[Parallel(n_jobs=4)]: Done 192 tasks      | elapsed:    2.0s\n",
      "[Parallel(n_jobs=4)]: Done 442 tasks      | elapsed:    4.6s\n",
      "[Parallel(n_jobs=4)]: Done 792 tasks      | elapsed:    8.4s\n",
      "[Parallel(n_jobs=4)]: Done 880 out of 880 | elapsed:    9.3s finished\n"
     ]
    },
    {
     "name": "stdout",
     "output_type": "stream",
     "text": [
      "training score:  0.819967723647\n",
      "crossval score:  0.812702860581\n",
      "oob score:  0.978144237487\n",
      "Sort of truth table bouy\n",
      "0    293833\n",
      "1      9612\n",
      "Name: 0, dtype: int64\n",
      "0    292472\n",
      "1     10973\n",
      "Name: click, dtype: int64\n",
      "Done ::  880\n",
      "Model with  895  max_features \n"
     ]
    },
    {
     "name": "stderr",
     "output_type": "stream",
     "text": [
      "[Parallel(n_jobs=4)]: Done  42 tasks      | elapsed:    6.0s\n",
      "[Parallel(n_jobs=4)]: Done 192 tasks      | elapsed:   26.5s\n",
      "[Parallel(n_jobs=4)]: Done 442 tasks      | elapsed:  1.0min\n",
      "[Parallel(n_jobs=4)]: Done 792 tasks      | elapsed:  1.8min\n",
      "[Parallel(n_jobs=4)]: Done 895 out of 895 | elapsed:  2.1min finished\n"
     ]
    },
    {
     "name": "stdout",
     "output_type": "stream",
     "text": [
      "time to fit:  153.38717412948608\n"
     ]
    },
    {
     "name": "stderr",
     "output_type": "stream",
     "text": [
      "[Parallel(n_jobs=4)]: Done  42 tasks      | elapsed:    0.4s\n",
      "[Parallel(n_jobs=4)]: Done 192 tasks      | elapsed:    2.0s\n",
      "[Parallel(n_jobs=4)]: Done 442 tasks      | elapsed:    4.7s\n",
      "[Parallel(n_jobs=4)]: Done 792 tasks      | elapsed:    8.4s\n",
      "[Parallel(n_jobs=4)]: Done 895 out of 895 | elapsed:    9.5s finished\n"
     ]
    },
    {
     "name": "stdout",
     "output_type": "stream",
     "text": [
      "time to predict:  10.66458773612976 \n",
      "\n"
     ]
    },
    {
     "name": "stderr",
     "output_type": "stream",
     "text": [
      "[Parallel(n_jobs=4)]: Done  42 tasks      | elapsed:    0.4s\n",
      "[Parallel(n_jobs=4)]: Done 192 tasks      | elapsed:    2.0s\n",
      "[Parallel(n_jobs=4)]: Done 442 tasks      | elapsed:    4.7s\n",
      "[Parallel(n_jobs=4)]: Done 792 tasks      | elapsed:    8.4s\n",
      "[Parallel(n_jobs=4)]: Done 895 out of 895 | elapsed:    9.5s finished\n"
     ]
    },
    {
     "name": "stdout",
     "output_type": "stream",
     "text": [
      "training score:  0.819780600173\n",
      "crossval score:  0.812743298275\n",
      "oob score:  0.978157419491\n",
      "Sort of truth table bouy\n",
      "0    293829\n",
      "1      9616\n",
      "Name: 0, dtype: int64\n",
      "0    292472\n",
      "1     10973\n",
      "Name: click, dtype: int64\n",
      "Done ::  895\n",
      "Model with  910  max_features \n"
     ]
    },
    {
     "name": "stderr",
     "output_type": "stream",
     "text": [
      "[Parallel(n_jobs=4)]: Done  42 tasks      | elapsed:    6.0s\n",
      "[Parallel(n_jobs=4)]: Done 192 tasks      | elapsed:   27.9s\n",
      "[Parallel(n_jobs=4)]: Done 442 tasks      | elapsed:  1.1min\n",
      "[Parallel(n_jobs=4)]: Done 792 tasks      | elapsed:  1.9min\n",
      "[Parallel(n_jobs=4)]: Done 910 out of 910 | elapsed:  2.2min finished\n"
     ]
    },
    {
     "name": "stdout",
     "output_type": "stream",
     "text": [
      "time to fit:  159.85294699668884\n"
     ]
    },
    {
     "name": "stderr",
     "output_type": "stream",
     "text": [
      "[Parallel(n_jobs=4)]: Done  42 tasks      | elapsed:    0.4s\n",
      "[Parallel(n_jobs=4)]: Done 192 tasks      | elapsed:    2.0s\n",
      "[Parallel(n_jobs=4)]: Done 442 tasks      | elapsed:    4.8s\n",
      "[Parallel(n_jobs=4)]: Done 792 tasks      | elapsed:    8.7s\n",
      "[Parallel(n_jobs=4)]: Done 910 out of 910 | elapsed:    9.9s finished\n"
     ]
    },
    {
     "name": "stdout",
     "output_type": "stream",
     "text": [
      "time to predict:  11.040812492370605 \n",
      "\n"
     ]
    },
    {
     "name": "stderr",
     "output_type": "stream",
     "text": [
      "[Parallel(n_jobs=4)]: Done  42 tasks      | elapsed:    0.4s\n",
      "[Parallel(n_jobs=4)]: Done 192 tasks      | elapsed:    2.1s\n",
      "[Parallel(n_jobs=4)]: Done 442 tasks      | elapsed:    4.8s\n",
      "[Parallel(n_jobs=4)]: Done 792 tasks      | elapsed:    8.6s\n",
      "[Parallel(n_jobs=4)]: Done 910 out of 910 | elapsed:   10.0s finished\n"
     ]
    },
    {
     "name": "stdout",
     "output_type": "stream",
     "text": [
      "training score:  0.819877580048\n",
      "crossval score:  0.812743298275\n",
      "oob score:  0.978167305994\n",
      "Sort of truth table bouy\n",
      "0    293829\n",
      "1      9616\n",
      "Name: 0, dtype: int64\n",
      "0    292472\n",
      "1     10973\n",
      "Name: click, dtype: int64\n",
      "Done ::  910\n",
      "Model with  925  max_features \n"
     ]
    },
    {
     "name": "stderr",
     "output_type": "stream",
     "text": [
      "[Parallel(n_jobs=4)]: Done  42 tasks      | elapsed:    6.5s\n",
      "[Parallel(n_jobs=4)]: Done 192 tasks      | elapsed:   28.4s\n",
      "[Parallel(n_jobs=4)]: Done 442 tasks      | elapsed:  1.0min\n",
      "[Parallel(n_jobs=4)]: Done 792 tasks      | elapsed:  1.8min\n",
      "[Parallel(n_jobs=4)]: Done 925 out of 925 | elapsed:  2.1min finished\n"
     ]
    },
    {
     "name": "stdout",
     "output_type": "stream",
     "text": [
      "time to fit:  159.0513253211975\n"
     ]
    },
    {
     "name": "stderr",
     "output_type": "stream",
     "text": [
      "[Parallel(n_jobs=4)]: Done  42 tasks      | elapsed:    0.4s\n",
      "[Parallel(n_jobs=4)]: Done 192 tasks      | elapsed:    2.0s\n",
      "[Parallel(n_jobs=4)]: Done 442 tasks      | elapsed:    4.6s\n",
      "[Parallel(n_jobs=4)]: Done 792 tasks      | elapsed:    8.4s\n",
      "[Parallel(n_jobs=4)]: Done 925 out of 925 | elapsed:    9.8s finished\n"
     ]
    },
    {
     "name": "stdout",
     "output_type": "stream",
     "text": [
      "time to predict:  10.923836946487427 \n",
      "\n"
     ]
    },
    {
     "name": "stderr",
     "output_type": "stream",
     "text": [
      "[Parallel(n_jobs=4)]: Done  42 tasks      | elapsed:    0.4s\n",
      "[Parallel(n_jobs=4)]: Done 192 tasks      | elapsed:    2.0s\n",
      "[Parallel(n_jobs=4)]: Done 442 tasks      | elapsed:    4.7s\n",
      "[Parallel(n_jobs=4)]: Done 792 tasks      | elapsed:    8.4s\n",
      "[Parallel(n_jobs=4)]: Done 925 out of 925 | elapsed:    9.8s finished\n"
     ]
    },
    {
     "name": "stdout",
     "output_type": "stream",
     "text": [
      "training score:  0.819921797313\n",
      "crossval score:  0.812606599104\n",
      "oob score:  0.978157419491\n",
      "Sort of truth table bouy\n",
      "0    293832\n",
      "1      9613\n",
      "Name: 0, dtype: int64\n",
      "0    292472\n",
      "1     10973\n",
      "Name: click, dtype: int64\n",
      "Done ::  925\n",
      "Model with  940  max_features \n"
     ]
    },
    {
     "name": "stderr",
     "output_type": "stream",
     "text": [
      "[Parallel(n_jobs=4)]: Done  42 tasks      | elapsed:    6.0s\n",
      "[Parallel(n_jobs=4)]: Done 192 tasks      | elapsed:   26.5s\n",
      "[Parallel(n_jobs=4)]: Done 442 tasks      | elapsed:  1.0min\n",
      "[Parallel(n_jobs=4)]: Done 792 tasks      | elapsed:  1.8min\n",
      "[Parallel(n_jobs=4)]: Done 940 out of 940 | elapsed:  2.2min finished\n"
     ]
    },
    {
     "name": "stdout",
     "output_type": "stream",
     "text": [
      "time to fit:  160.9124457836151\n"
     ]
    },
    {
     "name": "stderr",
     "output_type": "stream",
     "text": [
      "[Parallel(n_jobs=4)]: Done  42 tasks      | elapsed:    0.4s\n",
      "[Parallel(n_jobs=4)]: Done 192 tasks      | elapsed:    2.0s\n",
      "[Parallel(n_jobs=4)]: Done 442 tasks      | elapsed:    4.7s\n",
      "[Parallel(n_jobs=4)]: Done 792 tasks      | elapsed:    8.4s\n",
      "[Parallel(n_jobs=4)]: Done 940 out of 940 | elapsed:   10.0s finished\n"
     ]
    },
    {
     "name": "stdout",
     "output_type": "stream",
     "text": [
      "time to predict:  11.088937282562256 \n",
      "\n"
     ]
    },
    {
     "name": "stderr",
     "output_type": "stream",
     "text": [
      "[Parallel(n_jobs=4)]: Done  42 tasks      | elapsed:    0.4s\n",
      "[Parallel(n_jobs=4)]: Done 192 tasks      | elapsed:    2.0s\n",
      "[Parallel(n_jobs=4)]: Done 442 tasks      | elapsed:    4.7s\n",
      "[Parallel(n_jobs=4)]: Done 792 tasks      | elapsed:    8.4s\n",
      "[Parallel(n_jobs=4)]: Done 940 out of 940 | elapsed:   10.0s finished\n"
     ]
    },
    {
     "name": "stdout",
     "output_type": "stream",
     "text": [
      "training score:  0.819928633588\n",
      "crossval score:  0.812659003756\n",
      "oob score:  0.978164010493\n",
      "Sort of truth table bouy\n",
      "0    293835\n",
      "1      9610\n",
      "Name: 0, dtype: int64\n",
      "0    292472\n",
      "1     10973\n",
      "Name: click, dtype: int64\n",
      "Done ::  940\n",
      "Model with  955  max_features \n"
     ]
    },
    {
     "name": "stderr",
     "output_type": "stream",
     "text": [
      "[Parallel(n_jobs=4)]: Done  42 tasks      | elapsed:    6.0s\n",
      "[Parallel(n_jobs=4)]: Done 192 tasks      | elapsed:   26.6s\n",
      "[Parallel(n_jobs=4)]: Done 442 tasks      | elapsed:  1.0min\n",
      "[Parallel(n_jobs=4)]: Done 792 tasks      | elapsed:  1.8min\n",
      "[Parallel(n_jobs=4)]: Done 955 out of 955 | elapsed:  2.2min finished\n"
     ]
    },
    {
     "name": "stdout",
     "output_type": "stream",
     "text": [
      "time to fit:  162.44810938835144\n"
     ]
    },
    {
     "name": "stderr",
     "output_type": "stream",
     "text": [
      "[Parallel(n_jobs=4)]: Done  42 tasks      | elapsed:    0.4s\n",
      "[Parallel(n_jobs=4)]: Done 192 tasks      | elapsed:    2.0s\n",
      "[Parallel(n_jobs=4)]: Done 442 tasks      | elapsed:    4.7s\n",
      "[Parallel(n_jobs=4)]: Done 792 tasks      | elapsed:    8.4s\n",
      "[Parallel(n_jobs=4)]: Done 955 out of 955 | elapsed:   10.2s finished\n"
     ]
    },
    {
     "name": "stdout",
     "output_type": "stream",
     "text": [
      "time to predict:  11.3402419090271 \n",
      "\n"
     ]
    },
    {
     "name": "stderr",
     "output_type": "stream",
     "text": [
      "[Parallel(n_jobs=4)]: Done  42 tasks      | elapsed:    0.4s\n",
      "[Parallel(n_jobs=4)]: Done 192 tasks      | elapsed:    2.0s\n",
      "[Parallel(n_jobs=4)]: Done 442 tasks      | elapsed:    4.7s\n",
      "[Parallel(n_jobs=4)]: Done 792 tasks      | elapsed:    8.4s\n",
      "[Parallel(n_jobs=4)]: Done 955 out of 955 | elapsed:   10.1s finished\n"
     ]
    },
    {
     "name": "stdout",
     "output_type": "stream",
     "text": [
      "training score:  0.819792563654\n",
      "crossval score:  0.812420914413\n",
      "oob score:  0.978147532988\n",
      "Sort of truth table bouy\n",
      "0    293834\n",
      "1      9611\n",
      "Name: 0, dtype: int64\n",
      "0    292472\n",
      "1     10973\n",
      "Name: click, dtype: int64\n",
      "Done ::  955\n",
      "Model with  970  max_features \n"
     ]
    },
    {
     "name": "stderr",
     "output_type": "stream",
     "text": [
      "[Parallel(n_jobs=4)]: Done  42 tasks      | elapsed:    6.0s\n",
      "[Parallel(n_jobs=4)]: Done 192 tasks      | elapsed:   26.5s\n",
      "[Parallel(n_jobs=4)]: Done 442 tasks      | elapsed:  1.0min\n",
      "[Parallel(n_jobs=4)]: Done 792 tasks      | elapsed:  1.8min\n",
      "[Parallel(n_jobs=4)]: Done 970 out of 970 | elapsed:  2.2min finished\n"
     ]
    },
    {
     "name": "stdout",
     "output_type": "stream",
     "text": [
      "time to fit:  164.7748522758484\n"
     ]
    },
    {
     "name": "stderr",
     "output_type": "stream",
     "text": [
      "[Parallel(n_jobs=4)]: Done  42 tasks      | elapsed:    0.4s\n",
      "[Parallel(n_jobs=4)]: Done 192 tasks      | elapsed:    2.0s\n",
      "[Parallel(n_jobs=4)]: Done 442 tasks      | elapsed:    4.7s\n",
      "[Parallel(n_jobs=4)]: Done 792 tasks      | elapsed:    8.4s\n",
      "[Parallel(n_jobs=4)]: Done 970 out of 970 | elapsed:   10.3s finished\n"
     ]
    },
    {
     "name": "stdout",
     "output_type": "stream",
     "text": [
      "time to predict:  11.486579895019531 \n",
      "\n"
     ]
    },
    {
     "name": "stderr",
     "output_type": "stream",
     "text": [
      "[Parallel(n_jobs=4)]: Done  42 tasks      | elapsed:    0.4s\n",
      "[Parallel(n_jobs=4)]: Done 192 tasks      | elapsed:    2.0s\n",
      "[Parallel(n_jobs=4)]: Done 442 tasks      | elapsed:    4.6s\n",
      "[Parallel(n_jobs=4)]: Done 792 tasks      | elapsed:    8.4s\n",
      "[Parallel(n_jobs=4)]: Done 970 out of 970 | elapsed:   10.3s finished\n"
     ]
    },
    {
     "name": "stdout",
     "output_type": "stream",
     "text": [
      "training score:  0.819789145517\n",
      "crossval score:  0.812692603189\n",
      "oob score:  0.978157419491\n",
      "Sort of truth table bouy\n",
      "0    293827\n",
      "1      9618\n",
      "Name: 0, dtype: int64\n",
      "0    292472\n",
      "1     10973\n",
      "Name: click, dtype: int64\n",
      "Done ::  970\n",
      "Model with  985  max_features \n"
     ]
    },
    {
     "name": "stderr",
     "output_type": "stream",
     "text": [
      "[Parallel(n_jobs=4)]: Done  42 tasks      | elapsed:    6.0s\n",
      "[Parallel(n_jobs=4)]: Done 192 tasks      | elapsed:   26.6s\n",
      "[Parallel(n_jobs=4)]: Done 442 tasks      | elapsed:  1.0min\n",
      "[Parallel(n_jobs=4)]: Done 792 tasks      | elapsed:  1.8min\n",
      "[Parallel(n_jobs=4)]: Done 985 out of 985 | elapsed:  2.3min finished\n"
     ]
    },
    {
     "name": "stdout",
     "output_type": "stream",
     "text": [
      "time to fit:  168.2838909626007\n"
     ]
    },
    {
     "name": "stderr",
     "output_type": "stream",
     "text": [
      "[Parallel(n_jobs=4)]: Done  42 tasks      | elapsed:    0.4s\n",
      "[Parallel(n_jobs=4)]: Done 192 tasks      | elapsed:    2.0s\n",
      "[Parallel(n_jobs=4)]: Done 442 tasks      | elapsed:    4.7s\n",
      "[Parallel(n_jobs=4)]: Done 792 tasks      | elapsed:    8.4s\n",
      "[Parallel(n_jobs=4)]: Done 985 out of 985 | elapsed:   10.5s finished\n"
     ]
    },
    {
     "name": "stdout",
     "output_type": "stream",
     "text": [
      "time to predict:  11.83913803100586 \n",
      "\n"
     ]
    },
    {
     "name": "stderr",
     "output_type": "stream",
     "text": [
      "[Parallel(n_jobs=4)]: Done  42 tasks      | elapsed:    0.4s\n",
      "[Parallel(n_jobs=4)]: Done 192 tasks      | elapsed:    2.1s\n",
      "[Parallel(n_jobs=4)]: Done 442 tasks      | elapsed:    4.8s\n",
      "[Parallel(n_jobs=4)]: Done 792 tasks      | elapsed:    8.6s\n",
      "[Parallel(n_jobs=4)]: Done 985 out of 985 | elapsed:   10.7s finished\n"
     ]
    },
    {
     "name": "stdout",
     "output_type": "stream",
     "text": [
      "training score:  0.819835071851\n",
      "crossval score:  0.812518885455\n",
      "oob score:  0.978150828489\n",
      "Sort of truth table bouy\n",
      "0    293836\n",
      "1      9609\n",
      "Name: 0, dtype: int64\n",
      "0    292472\n",
      "1     10973\n",
      "Name: click, dtype: int64\n",
      "Done ::  985\n",
      "total time  6185.811676979065\n"
     ]
    }
   ],
   "source": [
    "from sklearn.linear_model import LogisticRegression\n",
    "from sklearn.ensemble import RandomForestClassifier\n",
    "from sklearn.metrics import roc_auc_score\n",
    "import time\n",
    "t1 = time.time()\n",
    "dict3 = {}\n",
    "dict4 = {}\n",
    "for i in range(250, 1000, 15):\n",
    "    \n",
    "    print(\"Model with \", i, \" max_features \")\n",
    "    model_mod = RandomForestClassifier(n_estimators=i, min_samples_leaf=20, verbose=1, oob_score=True, n_jobs=4, random_state=42)#lets use the fucing cores\n",
    "    start = time.time()\n",
    "    model_mod.fit(X_train[cols_to_use], y_train)\n",
    "    print(\"time to fit: \", time.time()-start)\n",
    "    start = time.time()\n",
    "    pred = model_mod.predict(X_test)\n",
    "    print(\"time to predict: \", time.time()-start ,\"\\n\")\n",
    "    print(\"training score: \", roc_auc_score(y_train, model_mod.predict(X_train)))\n",
    "    print(\"crossval score: \", roc_auc_score(y_test, pred))\n",
    "    print(\"oob score: \", model_mod.oob_score_)\n",
    "    dict3[i]=roc_auc_score(y_test, pred)\n",
    "    dict4[i]=model_mod.oob_score_\n",
    "    print(\"Sort of truth table bouy\")\n",
    "    pred = pd.DataFrame(pred)\n",
    "    print(pred[0].value_counts())\n",
    "    y_test = pd.Series(y_test)\n",
    "    print(y_test.value_counts())\n",
    "    print(\"Done :: \", i)\n",
    "print(\"total time \", time.time()-t1)\n",
    "\n"
   ]
  },
  {
   "cell_type": "code",
   "execution_count": 28,
   "metadata": {},
   "outputs": [
    {
     "data": {
      "text/plain": [
       "(805, 0.81306055344133166)"
      ]
     },
     "execution_count": 28,
     "metadata": {},
     "output_type": "execute_result"
    }
   ],
   "source": [
    "import operator\n",
    "max(dict3.items(), key=operator.itemgetter(1))"
   ]
  },
  {
   "cell_type": "code",
   "execution_count": 34,
   "metadata": {},
   "outputs": [
    {
     "name": "stdout",
     "output_type": "stream",
     "text": [
      "[(805, 0.81306055344133166), (445, 0.8129859244399793), (760, 0.81291701600919952), (325, 0.81286290179216847), (430, 0.81284922526928749), (835, 0.81284297888233947), (820, 0.81284126931697931), (865, 0.81283272149017882), (790, 0.81282759279409855), (775, 0.81281220670585763), (460, 0.81280878757513741), (850, 0.8127854455345882), (340, 0.81277689770778772), (535, 0.81275013653651829), (895, 0.81274329827507785), (910, 0.81274329827507785), (505, 0.81273816957899747), (355, 0.8127330408829172), (880, 0.81270286058092756), (970, 0.8126926031887669), (475, 0.81268576492732647), (385, 0.81268405536196642), (415, 0.8126806362312462), (940, 0.81265900375605704), (520, 0.81265216549461672), (925, 0.81260659910438615), (685, 0.8126048895390261), (715, 0.81260147040830588), (745, 0.8125963417122255), (655, 0.81259463214686534), (670, 0.81259121301614512), (370, 0.81258779388542501), (400, 0.81258779388542501), (700, 0.8125610327141557), (730, 0.8125610327141557), (490, 0.81255932314879553), (550, 0.81255590401807531), (565, 0.81255590401807531), (640, 0.81254222749519445), (985, 0.81251888545464523), (595, 0.81250691849712442), (625, 0.81250178980104415), (580, 0.81245793297617364), (955, 0.81242091441274367), (610, 0.81236338106499228), (310, 0.81231952424012188), (250, 0.81210365924648975), (295, 0.81201594559674883), (265, 0.81191797455484738), (280, 0.81180974612078516)]\n"
     ]
    }
   ],
   "source": [
    "x = {1: 2, 3: 4, 4: 3, 2: 1, 0: 0}\n",
    "sorted_x = sorted(dict3.items(), key=operator.itemgetter(1), reverse=True)\n",
    "print(sorted_x)"
   ]
  },
  {
   "cell_type": "code",
   "execution_count": 35,
   "metadata": {},
   "outputs": [
    {
     "name": "stdout",
     "output_type": "stream",
     "text": [
      "[(550, 0.97819037450073165), (565, 0.97819037450073165), (295, 0.97818048799778545), (535, 0.97818048799778545), (430, 0.97817719249680335), (250, 0.97817389699582136), (265, 0.97817389699582136), (520, 0.97817389699582136), (325, 0.97817060149483925), (685, 0.97817060149483925), (310, 0.97816730599385715), (595, 0.97816730599385715), (670, 0.97816730599385715), (700, 0.97816730599385715), (805, 0.97816730599385715), (910, 0.97816730599385715), (655, 0.97816401049287516), (940, 0.97816401049287516), (400, 0.97816071499189305), (580, 0.97816071499189305), (340, 0.97815741949091106), (730, 0.97815741949091106), (895, 0.97815741949091106), (925, 0.97815741949091106), (970, 0.97815741949091106), (355, 0.97815412398992896), (370, 0.97815412398992896), (505, 0.97815412398992896), (625, 0.97815412398992896), (715, 0.97815412398992896), (745, 0.97815412398992896), (475, 0.97815082848894686), (640, 0.97815082848894686), (835, 0.97815082848894686), (985, 0.97815082848894686), (460, 0.97814753298796486), (490, 0.97814753298796486), (820, 0.97814753298796486), (850, 0.97814753298796486), (955, 0.97814753298796486), (610, 0.97814423748698276), (880, 0.97814423748698276), (280, 0.97814094198600077), (760, 0.97814094198600077), (790, 0.97814094198600077), (445, 0.97813764648501866), (865, 0.97813764648501866), (415, 0.97813435098403656), (775, 0.97813435098403656), (385, 0.97813105548305457)]\n"
     ]
    }
   ],
   "source": [
    "sorted_x = sorted(dict4.items(), key=operator.itemgetter(1), reverse=True)\n",
    "print(sorted_x)"
   ]
  },
  {
   "cell_type": "markdown",
   "metadata": {},
   "source": [
    "    400, njob=-1\n",
    "    training score:  1.0\n",
    "    crossval score:  0.799803514688\n",
    "    oob score:  0.978233216013\n",
    "\n",
    "    0    294387\n",
    "    1      9058\n",
    "    Name: 0, dtype: int64\n",
    "    0    292421\n",
    "    1     11024\n",
    "    Name: click, dtype: int64\n",
    "\n",
    "    600, njob=-1\n",
    "    worse performance\n",
    "\n",
    "    470, 510 looks good to me (510 !!!)\n",
    "\n",
    "    d1,2 : nestimators\n",
    "    d 5,6 :\n",
    "    d 3, 4 ; min sample split"
   ]
  },
  {
   "cell_type": "markdown",
   "metadata": {},
   "source": [
    "# MODEL 1\n",
    "    test oob score:  0.922385828199\n",
    "    public score : 0.67484\n",
    "    dont change this one now, add more cells\n",
    "    imbalanced data treated : yes.\n",
    "    n_estimators=500, min_samples_leaf=20, min_samples_split=50,  verbose=1, oob_score=True, n_jobs=-1, random_state=42"
   ]
  },
  {
   "cell_type": "markdown",
   "metadata": {},
   "source": [
    "# MODEL 7\n",
    "    test oob score: 0.925401618252\n",
    "    public score : ;     imbalanced data treated : yes.\n",
    "    crossval score: ; on untreated sample of data random state = 42\n",
    "    dont change this one now, add more cells\n",
    "    n_estimators=500, min_samples_leaf=10, min_samples_split=50,  verbose=1, oob_score=True, n_jobs=-1, random_state=42"
   ]
  },
  {
   "cell_type": "markdown",
   "metadata": {},
   "source": [
    "# MODEL 8\n",
    "    test oob score: 0.933106663284\n",
    "    public score :  ;     imbalanced data treated : yes.\n",
    "    crossval score: ; on untreated sample of data random state = 42\n",
    "    dont change this one now, add more cells\n",
    "    n_estimators=500, min_samples_leaf=10, verbose=1, oob_score=True, n_jobs=-1, random_state=42"
   ]
  },
  {
   "cell_type": "markdown",
   "metadata": {},
   "source": [
    "# MODEL 9\n",
    "    test oob score: 0.929116530453\n",
    "    public score :  ;     imbalanced data treated : yes.\n",
    "    crossval score: ; on untreated sample of data random state = 42\n",
    "    dont change this one now, add more cells\n",
    "    n_estimators=500, min_samples_split=50, verbose=1, oob_score=True, n_jobs=-1, random_state=42"
   ]
  },
  {
   "cell_type": "markdown",
   "metadata": {},
   "source": [
    "# MODEL 2\n",
    "    test oob score:  0.929364126495\n",
    "    public score : 0.67450 ;     imbalanced data treated : yes.\n",
    "    crossval score:  0.814501582275; on untreated sample of data random state = 42\n",
    "    dont change this one now, add more cells\n",
    "    n_estimators=470, min_samples_split=50,  verbose=1, oob_score=True, n_jobs=-1, random_state=42"
   ]
  },
  {
   "cell_type": "markdown",
   "metadata": {},
   "source": [
    "# MODEL 3\n",
    "    test oob score: 0.923033361724\n",
    "    public score :   ;     imbalanced data treated : yes.\n",
    "    crossval score:  0.812722783491; on untreated sample of data random state = 42\n",
    "    dont change this one now, add more cells\n",
    "    n_estimators=470, min_samples_leaf=20,  verbose=1, oob_score=True, n_jobs=-1, random_state=42"
   ]
  },
  {
   "cell_type": "markdown",
   "metadata": {},
   "source": [
    "# MODEL 4\n",
    "    test oob score: 0.922004965297\n",
    "    public score : ;     imbalanced data treated : yes.\n",
    "    crossval score: ; on untreated sample of data random state = 42\n",
    "    dont change this one now, add more cells\n",
    "    n_estimators=470, min_samples_leaf=20, min_samples_split=50,  verbose=1, oob_score=True, n_jobs=-1, random_state=42"
   ]
  },
  {
   "cell_type": "markdown",
   "metadata": {},
   "source": [
    "# MODEL 5\n",
    "    test oob score:  0.925431065727\n",
    "    public score : ;     imbalanced data treated : yes.\n",
    "    crossval score: ; on untreated sample of data random state = 42\n",
    "    dont change this one now, add more cells\n",
    "    n_estimators=470, min_samples_leaf=10, min_samples_split=50,  verbose=1, oob_score=True, n_jobs=-1, random_state=42"
   ]
  },
  {
   "cell_type": "markdown",
   "metadata": {},
   "source": [
    "# MODEL 6\n",
    "    test oob score: 0.933117989236\n",
    "    public score :  0.67483;     imbalanced data treated : yes.\n",
    "    crossval score: ; on untreated sample of data random state = 42\n",
    "    dont change this one now, add more cells\n",
    "    n_estimators=470, min_samples_leaf=10, verbose=1, oob_score=True, n_jobs=-1, random_state=42"
   ]
  },
  {
   "cell_type": "markdown",
   "metadata": {},
   "source": [
    "## models to try \n",
    "-  min_samples_leaf=20, 10\n",
    "- both on 470\n",
    "- both on 500, 510\n",
    "- find new minima on n_estimators for ensemble\n",
    "    - "
   ]
  },
  {
   "cell_type": "markdown",
   "metadata": {},
   "source": [
    "Imbalance treat"
   ]
  },
  {
   "cell_type": "code",
   "execution_count": 29,
   "metadata": {},
   "outputs": [
    {
     "name": "stdout",
     "output_type": "stream",
     "text": [
      "437214\n",
      "867214\n"
     ]
    }
   ],
   "source": [
    "df_ones = train[train.click==1]\n",
    "df_zero = train[train.click==0]\n",
    "rows = np.random.choice(df_zero.index.values, 430000)\n",
    "print(df_ones.shape[0])\n",
    "new_df = df_ones.append(df_zero.loc[rows])\n",
    "print(new_df.shape[0])\n",
    "rows = np.random.choice(new_df.index.values, new_df.shape[0])\n",
    "new_df = new_df.loc[rows]\n",
    "# X_train, X_test, y_train, y_test = train_test_split(new_df[cols_to_use], new_df['click'], test_size = 0.5, random_state=42)"
   ]
  },
  {
   "cell_type": "code",
   "execution_count": 30,
   "metadata": {
    "collapsed": true
   },
   "outputs": [],
   "source": [
    "new_df.to_csv(\"balTrain.csv\")"
   ]
  },
  {
   "cell_type": "code",
   "execution_count": 45,
   "metadata": {
    "scrolled": false
   },
   "outputs": [
    {
     "name": "stdout",
     "output_type": "stream",
     "text": [
      "Model with  20  n estimators\n"
     ]
    },
    {
     "name": "stderr",
     "output_type": "stream",
     "text": [
      "[Parallel(n_jobs=-1)]: Done  26 tasks      | elapsed:   18.4s\n",
      "[Parallel(n_jobs=-1)]: Done 176 tasks      | elapsed:  1.6min\n",
      "[Parallel(n_jobs=-1)]: Done 426 tasks      | elapsed:  3.8min\n",
      "[Parallel(n_jobs=-1)]: Done 500 out of 500 | elapsed:  4.4min finished\n"
     ]
    },
    {
     "name": "stdout",
     "output_type": "stream",
     "text": [
      "time to fit:  327.42327094078064\n",
      "time to predict:  0.0 \n",
      "\n"
     ]
    },
    {
     "name": "stderr",
     "output_type": "stream",
     "text": [
      "[Parallel(n_jobs=12)]: Done  26 tasks      | elapsed:    0.2s\n",
      "[Parallel(n_jobs=12)]: Done 176 tasks      | elapsed:    1.6s\n",
      "[Parallel(n_jobs=12)]: Done 426 tasks      | elapsed:    3.9s\n",
      "[Parallel(n_jobs=12)]: Done 500 out of 500 | elapsed:    4.6s finished\n"
     ]
    },
    {
     "name": "stdout",
     "output_type": "stream",
     "text": [
      "training score:  0.914238498067\n",
      "oob score:  0.92205366689\n",
      "Done ::  20\n",
      "total time  332.85011863708496\n"
     ]
    }
   ],
   "source": [
    "from sklearn.linear_model import LogisticRegression\n",
    "from sklearn.ensemble import RandomForestClassifier\n",
    "from sklearn.metrics import roc_auc_score\n",
    "import time\n",
    "t1 = time.time()\n",
    "dict5 = {}\n",
    "dict6 = {}\n",
    "for i in [20]:#, 4, 5, 10, 20, 50, 60, 70, 80, 100, 300, 500]:\n",
    "    \n",
    "    print(\"Model with \", i, \" n estimators\")\n",
    "    model_mod = RandomForestClassifier(n_estimators=500, min_samples_leaf=20, min_samples_split=50,  verbose=1, oob_score=True, n_jobs=-1, random_state=42)#lets use the fucing cores\n",
    "    start = time.time()\n",
    "    model_mod.fit(new_df[cols_to_use], new_df['click'])\n",
    "    print(\"time to fit: \", time.time()-start)\n",
    "    start = time.time()\n",
    "#     pred = model_mod.predict(X_test)\n",
    "    print(\"time to predict: \", time.time()-start ,\"\\n\")\n",
    "    print(\"training score: \", roc_auc_score(y_train, model_mod.predict(X_train)))\n",
    "#     print(\"crossval score: \", roc_auc_score(y_test, pred))\n",
    "    print(\"oob score: \", model_mod.oob_score_)\n",
    "#     dict3[i]=roc_auc_score(y_test, pred)\n",
    "#     dict4[i]=model_mod.oob_score_\n",
    "    print(\"Done :: \", i)\n",
    "print(\"total time \", time.time()-t1)"
   ]
  },
  {
   "cell_type": "code",
   "execution_count": 47,
   "metadata": {},
   "outputs": [
    {
     "name": "stdout",
     "output_type": "stream",
     "text": [
      "Model with  20  n estimators\n"
     ]
    },
    {
     "name": "stderr",
     "output_type": "stream",
     "text": [
      "[Parallel(n_jobs=-1)]: Done  26 tasks      | elapsed:   18.5s\n",
      "[Parallel(n_jobs=-1)]: Done 176 tasks      | elapsed:  1.7min\n",
      "[Parallel(n_jobs=-1)]: Done 426 tasks      | elapsed:  3.9min\n",
      "[Parallel(n_jobs=-1)]: Done 470 out of 470 | elapsed:  4.3min finished\n"
     ]
    },
    {
     "name": "stdout",
     "output_type": "stream",
     "text": [
      "time to fit:  319.32347989082336\n",
      "time to predict:  0.0 \n",
      "\n"
     ]
    },
    {
     "name": "stderr",
     "output_type": "stream",
     "text": [
      "[Parallel(n_jobs=12)]: Done  26 tasks      | elapsed:    0.3s\n",
      "[Parallel(n_jobs=12)]: Done 176 tasks      | elapsed:    1.9s\n",
      "[Parallel(n_jobs=12)]: Done 426 tasks      | elapsed:    4.5s\n",
      "[Parallel(n_jobs=12)]: Done 470 out of 470 | elapsed:    4.9s finished\n"
     ]
    },
    {
     "name": "stdout",
     "output_type": "stream",
     "text": [
      "training score:  0.91970711088\n",
      "oob score:  0.933117989236\n",
      "Done ::  20\n",
      "total time  325.21167731285095\n"
     ]
    }
   ],
   "source": [
    "from sklearn.linear_model import LogisticRegression\n",
    "from sklearn.ensemble import RandomForestClassifier\n",
    "from sklearn.metrics import roc_auc_score\n",
    "import time\n",
    "t1 = time.time()\n",
    "dict5 = {}\n",
    "dict6 = {}\n",
    "for i in [20]:#, 4, 5, 10, 20, 50, 60, 70, 80, 100, 300, 500]:, min_samples_split=50\n",
    "    \n",
    "    print(\"Model with \", i, \" n estimators\")\n",
    "    model_mod = RandomForestClassifier(n_estimators=470, min_samples_leaf=10, verbose=1, oob_score=True, n_jobs=-1, random_state=42)#lets use the fucing cores\n",
    "    start = time.time()\n",
    "    model_mod.fit(new_df[cols_to_use], new_df['click'])\n",
    "    print(\"time to fit: \", time.time()-start)\n",
    "    start = time.time()\n",
    "#     pred = model_mod.predict(X_test)\n",
    "    print(\"time to predict: \", time.time()-start ,\"\\n\")\n",
    "    print(\"training score: \", roc_auc_score(y_train, model_mod.predict(X_train)))\n",
    "#     print(\"crossval score: \", roc_auc_score(y_test, pred))\n",
    "    print(\"oob score: \", model_mod.oob_score_)\n",
    "#     dict3[i]=roc_auc_score(y_test, pred)\n",
    "#     dict4[i]=model_mod.oob_score_\n",
    "    print(\"Done :: \", i)\n",
    "print(\"total time \", time.time()-t1)"
   ]
  },
  {
   "cell_type": "code",
   "execution_count": 49,
   "metadata": {},
   "outputs": [
    {
     "name": "stdout",
     "output_type": "stream",
     "text": [
      "Model with  20  n estimators\n"
     ]
    },
    {
     "name": "stderr",
     "output_type": "stream",
     "text": [
      "[Parallel(n_jobs=-1)]: Done  26 tasks      | elapsed:   19.0s\n",
      "[Parallel(n_jobs=-1)]: Done 176 tasks      | elapsed:  1.6min\n",
      "[Parallel(n_jobs=-1)]: Done 426 tasks      | elapsed:  3.9min\n",
      "[Parallel(n_jobs=-1)]: Done 470 out of 470 | elapsed:  4.2min finished\n"
     ]
    },
    {
     "name": "stdout",
     "output_type": "stream",
     "text": [
      "time to fit:  315.5517942905426\n",
      "time to predict:  0.0 \n",
      "\n"
     ]
    },
    {
     "name": "stderr",
     "output_type": "stream",
     "text": [
      "[Parallel(n_jobs=12)]: Done  26 tasks      | elapsed:    0.2s\n",
      "[Parallel(n_jobs=12)]: Done 176 tasks      | elapsed:    1.7s\n",
      "[Parallel(n_jobs=12)]: Done 426 tasks      | elapsed:    4.4s\n",
      "[Parallel(n_jobs=12)]: Done 470 out of 470 | elapsed:    4.8s finished\n"
     ]
    },
    {
     "name": "stdout",
     "output_type": "stream",
     "text": [
      "training score:  0.917275777748\n",
      "oob score:  0.929088215574\n",
      "Done ::  20\n",
      "total time  321.21484112739563\n"
     ]
    }
   ],
   "source": [
    "from sklearn.linear_model import LogisticRegression\n",
    "from sklearn.ensemble import RandomForestClassifier\n",
    "from sklearn.metrics import roc_auc_score\n",
    "import time\n",
    "t1 = time.time()\n",
    "dict5 = {}\n",
    "dict6 = {}\n",
    "for i in [20]:#, 4, 5, 10, 20, 50, 60, 70, 80, 100, 300, 500]:, min_samples_split=50\n",
    "    \n",
    "    print(\"Model with \", i, \" n estimators\")\n",
    "    model_mod = RandomForestClassifier(n_estimators=470, min_samples_split=50,  verbose=1, oob_score=True, n_jobs=-1, random_state=42)#lets use the fucing cores\n",
    "    start = time.time()\n",
    "    model_mod.fit(new_df[cols_to_use], new_df['click'])\n",
    "    print(\"time to fit: \", time.time()-start)\n",
    "    start = time.time()\n",
    "#     pred = model_mod.predict(X_test)\n",
    "    print(\"time to predict: \", time.time()-start ,\"\\n\")\n",
    "    print(\"training score: \", roc_auc_score(y_train, model_mod.predict(X_train)))\n",
    "#     print(\"crossval score: \", roc_auc_score(y_test, pred))\n",
    "    print(\"oob score: \", model_mod.oob_score_)\n",
    "#     dict3[i]=roc_auc_score(y_test, pred)\n",
    "#     dict4[i]=model_mod.oob_score_\n",
    "    print(\"Done :: \", i)\n",
    "print(\"total time \", time.time()-t1)"
   ]
  },
  {
   "cell_type": "markdown",
   "metadata": {},
   "source": [
    "# MODEL 8\n",
    "    test oob score: 0.933106663284\n",
    "    public score :  ;     imbalanced data treated : yes.\n",
    "    crossval score: ; on untreated sample of data random state = 42\n",
    "    dont change this one now, add more cells\n",
    "    n_estimators=500, min_samples_leaf=10, verbose=1, oob_score=True, n_jobs=-1, random_state=42"
   ]
  },
  {
   "cell_type": "code",
   "execution_count": 46,
   "metadata": {
    "scrolled": false
   },
   "outputs": [
    {
     "name": "stderr",
     "output_type": "stream",
     "text": [
      "[Parallel(n_jobs=12)]: Done  26 tasks      | elapsed:    3.6s\n",
      "[Parallel(n_jobs=12)]: Done 176 tasks      | elapsed:   20.0s\n",
      "[Parallel(n_jobs=12)]: Done 426 tasks      | elapsed:   48.3s\n",
      "[Parallel(n_jobs=12)]: Done 500 out of 500 | elapsed:  1.0min finished\n"
     ]
    }
   ],
   "source": [
    "pred_1 = model_mod.predict_proba(test[cols_to_use])\n",
    "pred_1 = pd.DataFrame(pred)"
   ]
  },
  {
   "cell_type": "code",
   "execution_count": 48,
   "metadata": {},
   "outputs": [
    {
     "name": "stderr",
     "output_type": "stream",
     "text": [
      "[Parallel(n_jobs=12)]: Done  26 tasks      | elapsed:    4.2s\n",
      "[Parallel(n_jobs=12)]: Done 176 tasks      | elapsed:   23.0s\n",
      "[Parallel(n_jobs=12)]: Done 426 tasks      | elapsed:   54.7s\n",
      "[Parallel(n_jobs=12)]: Done 470 out of 470 | elapsed:  1.0min finished\n"
     ]
    }
   ],
   "source": [
    "pred_2 = model_mod.predict_proba(test[cols_to_use])\n",
    "pred_2 = pd.DataFrame(pred)"
   ]
  },
  {
   "cell_type": "code",
   "execution_count": 50,
   "metadata": {},
   "outputs": [
    {
     "name": "stderr",
     "output_type": "stream",
     "text": [
      "[Parallel(n_jobs=12)]: Done  26 tasks      | elapsed:    3.7s\n",
      "[Parallel(n_jobs=12)]: Done 176 tasks      | elapsed:   21.4s\n",
      "[Parallel(n_jobs=12)]: Done 426 tasks      | elapsed:   52.8s\n",
      "[Parallel(n_jobs=12)]: Done 470 out of 470 | elapsed:   57.8s finished\n"
     ]
    }
   ],
   "source": [
    "pred_3 = model_mod.predict_proba(test[cols_to_use])\n",
    "pred_3 = pd.DataFrame(pred)"
   ]
  },
  {
   "cell_type": "code",
   "execution_count": 51,
   "metadata": {
    "collapsed": true
   },
   "outputs": [],
   "source": [
    "pred = (pred_1+pred_2+pred_3)/3"
   ]
  },
  {
   "cell_type": "code",
   "execution_count": 52,
   "metadata": {
    "collapsed": true
   },
   "outputs": [],
   "source": [
    "\n",
    "sub = pd.DataFrame({'ID':test['ID'], 'click':pred[1]})\n",
    "sub.to_csv('bal_ens_1.csv', index=False)"
   ]
  },
  {
   "cell_type": "code",
   "execution_count": 44,
   "metadata": {},
   "outputs": [],
   "source": [
    "test.to_csv(\"test_modded.csv\", index=False)"
   ]
  }
 ],
 "metadata": {
  "kernelspec": {
   "display_name": "Python 3",
   "language": "python",
   "name": "python3"
  },
  "language_info": {
   "codemirror_mode": {
    "name": "ipython",
    "version": 3
   },
   "file_extension": ".py",
   "mimetype": "text/x-python",
   "name": "python",
   "nbconvert_exporter": "python",
   "pygments_lexer": "ipython3",
   "version": "3.6.1"
  }
 },
 "nbformat": 4,
 "nbformat_minor": 2
}
